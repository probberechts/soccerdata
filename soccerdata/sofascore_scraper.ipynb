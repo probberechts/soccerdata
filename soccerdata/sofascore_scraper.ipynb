{
 "cells": [
  {
   "cell_type": "code",
   "execution_count": 3,
   "metadata": {},
   "outputs": [],
   "source": [
    "import requests"
   ]
  },
  {
   "cell_type": "code",
   "execution_count": 4,
   "metadata": {},
   "outputs": [],
   "source": [
    "url1 = \"https://api.sofascore.com/api/v1/event/11368710/team-streaks/betting-odds/1\""
   ]
  },
  {
   "cell_type": "code",
   "execution_count": 5,
   "metadata": {},
   "outputs": [
    {
     "ename": "NameError",
     "evalue": "name 'requests_headers' is not defined",
     "output_type": "error",
     "traceback": [
      "\u001b[1;31m---------------------------------------------------------------------------\u001b[0m",
      "\u001b[1;31mNameError\u001b[0m                                 Traceback (most recent call last)",
      "Cell \u001b[1;32mIn[5], line 1\u001b[0m\n\u001b[1;32m----> 1\u001b[0m data2 \u001b[38;5;241m=\u001b[39m requests\u001b[38;5;241m.\u001b[39mget(url1, headers\u001b[38;5;241m=\u001b[39m\u001b[43mrequests_headers\u001b[49m)\u001b[38;5;241m.\u001b[39mjson()\n",
      "\u001b[1;31mNameError\u001b[0m: name 'requests_headers' is not defined"
     ]
    }
   ],
   "source": [
    "data2 = requests.get(url1, headers=requests_headers).json()"
   ]
  },
  {
   "cell_type": "code",
   "execution_count": null,
   "metadata": {},
   "outputs": [
    {
     "data": {
      "text/plain": [
       "dict_keys(['general', 'head2head'])"
      ]
     },
     "execution_count": 168,
     "metadata": {},
     "output_type": "execute_result"
    }
   ],
   "source": [
    "data2.keys()"
   ]
  },
  {
   "cell_type": "code",
   "execution_count": null,
   "metadata": {},
   "outputs": [
    {
     "data": {
      "text/plain": [
       "30"
      ]
     },
     "execution_count": 162,
     "metadata": {},
     "output_type": "execute_result"
    }
   ],
   "source": [
    "len(data2['shotmap'])"
   ]
  },
  {
   "cell_type": "code",
   "execution_count": 165,
   "metadata": {},
   "outputs": [
    {
     "data": {
      "text/plain": [
       "{'player': {'name': 'Bobby Decordova-Reid',\n",
       "  'firstName': '',\n",
       "  'lastName': '',\n",
       "  'slug': 'bobby-decordova-reid',\n",
       "  'shortName': 'B. Reid',\n",
       "  'position': 'M',\n",
       "  'jerseyNumber': '14',\n",
       "  'userCount': 936,\n",
       "  'id': 151499,\n",
       "  'fieldTranslations': {'nameTranslation': {'ar': 'بوبي رايد'},\n",
       "   'shortNameTranslation': {'ar': 'ب. رايد'}}},\n",
       " 'isHome': True,\n",
       " 'shotType': 'block',\n",
       " 'situation': 'fast-break',\n",
       " 'playerCoordinates': {'x': 11.6, 'y': 56.8, 'z': 0},\n",
       " 'bodyPart': 'right-foot',\n",
       " 'goalMouthLocation': 'low-centre',\n",
       " 'goalMouthCoordinates': {'x': 0, 'y': 51, 'z': 19},\n",
       " 'blockCoordinates': {'x': 10.1, 'y': 55.8, 'z': 0},\n",
       " 'xg': 0.1632933318615,\n",
       " 'id': 2600930,\n",
       " 'time': 90,\n",
       " 'addedTime': 2,\n",
       " 'timeSeconds': 5494,\n",
       " 'draw': {'start': {'x': 56.8, 'y': 11.6},\n",
       "  'block': {'x': 55.8, 'y': 10.1},\n",
       "  'end': {'x': 49, 'y': 0},\n",
       "  'goal': {'x': 49, 'y': 81}},\n",
       " 'reversedPeriodTime': 1,\n",
       " 'reversedPeriodTimeSeconds': 806,\n",
       " 'incidentType': 'shot'}"
      ]
     },
     "execution_count": 165,
     "metadata": {},
     "output_type": "execute_result"
    }
   ],
   "source": [
    "data2['shotmap'][2]"
   ]
  },
  {
   "cell_type": "code",
   "execution_count": null,
   "metadata": {},
   "outputs": [],
   "source": []
  },
  {
   "cell_type": "code",
   "execution_count": 6,
   "metadata": {
    "is_executing": true
   },
   "outputs": [],
   "source": [
    "import datetime\n",
    "import requests"
   ]
  },
  {
   "cell_type": "markdown",
   "metadata": {},
   "source": [
    "import json\n",
    "import itertools"
   ]
  },
  {
   "cell_type": "code",
   "execution_count": 7,
   "metadata": {
    "is_executing": true
   },
   "outputs": [],
   "source": [
    "today          = datetime.date.today()\n",
    "today_formated = today.strftime(\"%Y-%m-%d\")\n",
    "today_slo_form = today.strftime(\"%d.%m.%Y\")"
   ]
  },
  {
   "cell_type": "code",
   "execution_count": 8,
   "metadata": {},
   "outputs": [],
   "source": [
    "SOFASCORE_API = 'https://api.sofascore.com/api/v1/'"
   ]
  },
  {
   "cell_type": "code",
   "execution_count": 9,
   "metadata": {},
   "outputs": [
    {
     "data": {
      "text/plain": [
       "datetime.date(2024, 3, 23)"
      ]
     },
     "execution_count": 9,
     "metadata": {},
     "output_type": "execute_result"
    }
   ],
   "source": [
    "today"
   ]
  },
  {
   "cell_type": "code",
   "execution_count": 10,
   "metadata": {},
   "outputs": [],
   "source": [
    "requests_headers = {\n",
    "            'authority': 'api.sofascore.com',\n",
    "            'accept': '*/*',\n",
    "            'accept-language': 'en-US,en;q=0.9',\n",
    "            'cache-control': 'max-age=0',\n",
    "            'dnt': '1',\n",
    "            'if-none-match': 'W/\"4bebed6144\"',\n",
    "            'origin': 'https://www.sofascore.com',\n",
    "            'referer': 'https://www.sofascore.com/',\n",
    "            'sec-ch-ua': '\"Not.A/Brand\";v=\"8\", \"Chromium\";v=\"114\"',\n",
    "            'sec-ch-ua-mobile': '?0',\n",
    "            'sec-ch-ua-platform': '\"macOS\"',\n",
    "            'sec-fetch-dest': 'empty',\n",
    "            'sec-fetch-mode': 'cors',\n",
    "            'sec-fetch-site': 'same-site',\n",
    "            'user-agent': 'Mozilla/5.0 (Windows NT 10.0; Win64; x64) '+ \\\n",
    "                'AppleWebKit/537.36 (KHTML, like Gecko) Chrome/116.0.0.0 '+ \\\n",
    "                'Safari/537.36',\n",
    "            }"
   ]
  },
  {
   "cell_type": "code",
   "execution_count": 11,
   "metadata": {},
   "outputs": [],
   "source": [
    "BIG_FIVE_DICT = {\n",
    "    \"Serie A\": \"ITA-Serie A\",\n",
    "    \"Ligue 1\": \"FRA-Ligue 1\",\n",
    "    \"LaLiga\": \"ESP-La Liga\",\n",
    "    \"Premier League\": \"ENG-Premier League\",\n",
    "    \"Bundesliga\": \"GER-Bundesliga\",\n",
    "}"
   ]
  },
  {
   "cell_type": "code",
   "execution_count": 12,
   "metadata": {},
   "outputs": [],
   "source": [
    "import pandas as pd"
   ]
  },
  {
   "cell_type": "code",
   "execution_count": 13,
   "metadata": {},
   "outputs": [
    {
     "data": {
      "text/html": [
       "<pre style=\"white-space:pre;overflow-x:auto;line-height:normal;font-family:Menlo,'DejaVu Sans Mono',consolas,'Courier New',monospace\"><span style=\"color: #7fbfbf; text-decoration-color: #7fbfbf\">[03/23/24 12:43:30] </span><span style=\"color: #000080; text-decoration-color: #000080\">INFO    </span> No custom team name replacements found. You can configure these in       <span style=\"color: #7f7f7f; text-decoration-color: #7f7f7f\">_config.py:87</span>\n",
       "<span style=\"color: #7fbfbf; text-decoration-color: #7fbfbf\">                    </span>         C:\\Users\\ksbha\\soccerdata\\config\\teamname_replacements.json.             <span style=\"color: #7f7f7f; text-decoration-color: #7f7f7f\">             </span>\n",
       "</pre>\n"
      ],
      "text/plain": [
       "\u001b[2;36m[03/23/24 12:43:30]\u001b[0m\u001b[2;36m \u001b[0m\u001b[34mINFO    \u001b[0m No custom team name replacements found. You can configure these in       \u001b[2m_config.py\u001b[0m\u001b[2m:\u001b[0m\u001b[2m87\u001b[0m\n",
       "\u001b[2;36m                    \u001b[0m         C:\\Users\\ksbha\\soccerdata\\config\\teamname_replacements.json.             \u001b[2m             \u001b[0m\n"
      ]
     },
     "metadata": {},
     "output_type": "display_data"
    },
    {
     "data": {
      "text/html": [
       "<pre style=\"white-space:pre;overflow-x:auto;line-height:normal;font-family:Menlo,'DejaVu Sans Mono',consolas,'Courier New',monospace\"><span style=\"color: #7fbfbf; text-decoration-color: #7fbfbf\">                    </span><span style=\"color: #000080; text-decoration-color: #000080\">INFO    </span> No custom league dict found. You can configure additional leagues in    <span style=\"color: #7f7f7f; text-decoration-color: #7f7f7f\">_config.py:182</span>\n",
       "<span style=\"color: #7fbfbf; text-decoration-color: #7fbfbf\">                    </span>         C:\\Users\\ksbha\\soccerdata\\config\\league_dict.json.                      <span style=\"color: #7f7f7f; text-decoration-color: #7f7f7f\">              </span>\n",
       "</pre>\n"
      ],
      "text/plain": [
       "\u001b[2;36m                   \u001b[0m\u001b[2;36m \u001b[0m\u001b[34mINFO    \u001b[0m No custom league dict found. You can configure additional leagues in    \u001b[2m_config.py\u001b[0m\u001b[2m:\u001b[0m\u001b[2m182\u001b[0m\n",
       "\u001b[2;36m                    \u001b[0m         C:\\Users\\ksbha\\soccerdata\\config\\league_dict.json.                      \u001b[2m              \u001b[0m\n"
      ]
     },
     "metadata": {},
     "output_type": "display_data"
    }
   ],
   "source": [
    "import soccerdata as sd"
   ]
  },
  {
   "cell_type": "code",
   "execution_count": 14,
   "metadata": {},
   "outputs": [
    {
     "data": {
      "text/html": [
       "<pre style=\"white-space:pre;overflow-x:auto;line-height:normal;font-family:Menlo,'DejaVu Sans Mono',consolas,'Courier New',monospace\"><span style=\"color: #7fbfbf; text-decoration-color: #7fbfbf\">[03/23/24 12:57:54] </span><span style=\"color: #000080; text-decoration-color: #000080\">INFO    </span> Saving cached data to C:\\Users\\ksbha\\soccerdata\\data\\Sofascore           <span style=\"color: #7f7f7f; text-decoration-color: #7f7f7f\">_common.py:91</span>\n",
       "</pre>\n"
      ],
      "text/plain": [
       "\u001b[2;36m[03/23/24 12:57:54]\u001b[0m\u001b[2;36m \u001b[0m\u001b[34mINFO    \u001b[0m Saving cached data to C:\\Users\\ksbha\\soccerdata\\data\\Sofascore           \u001b[2m_common.py\u001b[0m\u001b[2m:\u001b[0m\u001b[2m91\u001b[0m\n"
      ]
     },
     "metadata": {},
     "output_type": "display_data"
    }
   ],
   "source": [
    "sfs = sd.Sofascore(['ENG-Premier League'], \"2324\")"
   ]
  },
  {
   "cell_type": "code",
   "execution_count": 16,
   "metadata": {},
   "outputs": [
    {
     "data": {
      "text/html": [
       "<pre style=\"white-space:pre;overflow-x:auto;line-height:normal;font-family:Menlo,'DejaVu Sans Mono',consolas,'Courier New',monospace\"><span style=\"color: #7fbfbf; text-decoration-color: #7fbfbf\">[03/23/24 12:58:42] </span><span style=\"color: #000080; text-decoration-color: #000080\">INFO    </span> Saving cached data to C:\\Users\\ksbha\\soccerdata\\data\\FotMob              <span style=\"color: #7f7f7f; text-decoration-color: #7f7f7f\">_common.py:91</span>\n",
       "</pre>\n"
      ],
      "text/plain": [
       "\u001b[2;36m[03/23/24 12:58:42]\u001b[0m\u001b[2;36m \u001b[0m\u001b[34mINFO    \u001b[0m Saving cached data to C:\\Users\\ksbha\\soccerdata\\data\\FotMob              \u001b[2m_common.py\u001b[0m\u001b[2m:\u001b[0m\u001b[2m91\u001b[0m\n"
      ]
     },
     "metadata": {},
     "output_type": "display_data"
    }
   ],
   "source": [
    "fm = sd.FotMob(['ENG-Premier League'], \"2324\")"
   ]
  },
  {
   "cell_type": "code",
   "execution_count": 18,
   "metadata": {},
   "outputs": [
    {
     "data": {
      "text/html": [
       "<pre style=\"white-space:pre;overflow-x:auto;line-height:normal;font-family:Menlo,'DejaVu Sans Mono',consolas,'Courier New',monospace\"><span style=\"color: #7fbfbf; text-decoration-color: #7fbfbf\">[03/23/24 12:59:50] </span><span style=\"color: #000080; text-decoration-color: #000080\">INFO    </span> Saving cached data to C:\\Users\\ksbha\\soccerdata\\data\\WhoScored           <span style=\"color: #7f7f7f; text-decoration-color: #7f7f7f\">_common.py:91</span>\n",
       "</pre>\n"
      ],
      "text/plain": [
       "\u001b[2;36m[03/23/24 12:59:50]\u001b[0m\u001b[2;36m \u001b[0m\u001b[34mINFO    \u001b[0m Saving cached data to C:\\Users\\ksbha\\soccerdata\\data\\WhoScored           \u001b[2m_common.py\u001b[0m\u001b[2m:\u001b[0m\u001b[2m91\u001b[0m\n"
      ]
     },
     "metadata": {},
     "output_type": "display_data"
    },
    {
     "data": {
      "text/html": [
       "<pre style=\"white-space:pre;overflow-x:auto;line-height:normal;font-family:Menlo,'DejaVu Sans Mono',consolas,'Courier New',monospace\"><span style=\"color: #7fbfbf; text-decoration-color: #7fbfbf\">[03/23/24 12:59:51] </span><span style=\"color: #000080; text-decoration-color: #000080\">INFO    </span> patching driver executable                                              <a href=\"file://d:\\Users\\ksbha\\miniconda3\\envs\\srcftbl\\Lib\\site-packages\\undetected_chromedriver\\patcher.py\" target=\"_blank\"><span style=\"color: #7f7f7f; text-decoration-color: #7f7f7f\">patcher.py</span></a><span style=\"color: #7f7f7f; text-decoration-color: #7f7f7f\">:</span><a href=\"file://d:\\Users\\ksbha\\miniconda3\\envs\\srcftbl\\Lib\\site-packages\\undetected_chromedriver\\patcher.py#346\" target=\"_blank\"><span style=\"color: #7f7f7f; text-decoration-color: #7f7f7f\">346</span></a>\n",
       "<span style=\"color: #7fbfbf; text-decoration-color: #7fbfbf\">                    </span>         C:\\Users\\ksbha\\appdata\\roaming\\undetected_chromedriver\\undetected_chrom <span style=\"color: #7f7f7f; text-decoration-color: #7f7f7f\">              </span>\n",
       "<span style=\"color: #7fbfbf; text-decoration-color: #7fbfbf\">                    </span>         edriver.exe                                                             <span style=\"color: #7f7f7f; text-decoration-color: #7f7f7f\">              </span>\n",
       "</pre>\n"
      ],
      "text/plain": [
       "\u001b[2;36m[03/23/24 12:59:51]\u001b[0m\u001b[2;36m \u001b[0m\u001b[34mINFO    \u001b[0m patching driver executable                                              \u001b]8;id=232120;file://d:\\Users\\ksbha\\miniconda3\\envs\\srcftbl\\Lib\\site-packages\\undetected_chromedriver\\patcher.py\u001b\\\u001b[2mpatcher.py\u001b[0m\u001b]8;;\u001b\\\u001b[2m:\u001b[0m\u001b]8;id=164452;file://d:\\Users\\ksbha\\miniconda3\\envs\\srcftbl\\Lib\\site-packages\\undetected_chromedriver\\patcher.py#346\u001b\\\u001b[2m346\u001b[0m\u001b]8;;\u001b\\\n",
       "\u001b[2;36m                    \u001b[0m         C:\\Users\\ksbha\\appdata\\roaming\\undetected_chromedriver\\undetected_chrom \u001b[2m              \u001b[0m\n",
       "\u001b[2;36m                    \u001b[0m         edriver.exe                                                             \u001b[2m              \u001b[0m\n"
      ]
     },
     "metadata": {},
     "output_type": "display_data"
    }
   ],
   "source": [
    "ws = sd.WhoScored(['ENG-Premier League'], \"2324\")"
   ]
  },
  {
   "cell_type": "code",
   "execution_count": 12,
   "metadata": {},
   "outputs": [
    {
     "data": {
      "text/html": [
       "<pre style=\"white-space:pre;overflow-x:auto;line-height:normal;font-family:Menlo,'DejaVu Sans Mono',consolas,'Courier New',monospace\"><span style=\"color: #7fbfbf; text-decoration-color: #7fbfbf\">                    </span><span style=\"color: #000080; text-decoration-color: #000080\">INFO    </span> Saving cached data to C:\\Users\\ksbha\\soccerdata\\data\\FBref               <a href=\"file://d:\\Users\\ksbha\\miniconda3\\envs\\srcftbl\\Lib\\site-packages\\soccerdata\\_common.py\" target=\"_blank\"><span style=\"color: #7f7f7f; text-decoration-color: #7f7f7f\">_common.py</span></a><span style=\"color: #7f7f7f; text-decoration-color: #7f7f7f\">:</span><a href=\"file://d:\\Users\\ksbha\\miniconda3\\envs\\srcftbl\\Lib\\site-packages\\soccerdata\\_common.py#91\" target=\"_blank\"><span style=\"color: #7f7f7f; text-decoration-color: #7f7f7f\">91</span></a>\n",
       "</pre>\n"
      ],
      "text/plain": [
       "\u001b[2;36m                   \u001b[0m\u001b[2;36m \u001b[0m\u001b[34mINFO    \u001b[0m Saving cached data to C:\\Users\\ksbha\\soccerdata\\data\\FBref               \u001b]8;id=960504;file://d:\\Users\\ksbha\\miniconda3\\envs\\srcftbl\\Lib\\site-packages\\soccerdata\\_common.py\u001b\\\u001b[2m_common.py\u001b[0m\u001b]8;;\u001b\\\u001b[2m:\u001b[0m\u001b]8;id=721968;file://d:\\Users\\ksbha\\miniconda3\\envs\\srcftbl\\Lib\\site-packages\\soccerdata\\_common.py#91\u001b\\\u001b[2m91\u001b[0m\u001b]8;;\u001b\\\n"
      ]
     },
     "metadata": {},
     "output_type": "display_data"
    }
   ],
   "source": [
    "fbref = sd.FBref(['ENG-Premier League'], \"2122\")"
   ]
  },
  {
   "cell_type": "code",
   "execution_count": 14,
   "metadata": {},
   "outputs": [],
   "source": [
    "# data_fm_match = fm.read_team_match_stats()"
   ]
  },
  {
   "cell_type": "code",
   "execution_count": 20,
   "metadata": {},
   "outputs": [
    {
     "data": {
      "text/html": [
       "<pre style=\"white-space:pre;overflow-x:auto;line-height:normal;font-family:Menlo,'DejaVu Sans Mono',consolas,'Courier New',monospace\"><span style=\"color: #7fbfbf; text-decoration-color: #7fbfbf\">[03/23/24 13:02:40] </span><span style=\"color: #000080; text-decoration-color: #000080\">INFO    </span> Scraping game schedule from                                           <span style=\"color: #7f7f7f; text-decoration-color: #7f7f7f\">whoscored.py:428</span>\n",
       "<span style=\"color: #7fbfbf; text-decoration-color: #7fbfbf\">                    </span>         <span style=\"color: #0000ff; text-decoration-color: #0000ff; text-decoration: underline\">https://www.whoscored.com/Regions/252/Tournaments/2/Seasons/9618/Engl</span> <span style=\"color: #7f7f7f; text-decoration-color: #7f7f7f\">                </span>\n",
       "<span style=\"color: #7fbfbf; text-decoration-color: #7fbfbf\">                    </span>         <span style=\"color: #0000ff; text-decoration-color: #0000ff; text-decoration: underline\">and-Premier-League</span>                                                    <span style=\"color: #7f7f7f; text-decoration-color: #7f7f7f\">                </span>\n",
       "</pre>\n"
      ],
      "text/plain": [
       "\u001b[2;36m[03/23/24 13:02:40]\u001b[0m\u001b[2;36m \u001b[0m\u001b[34mINFO    \u001b[0m Scraping game schedule from                                           \u001b[2mwhoscored.py\u001b[0m\u001b[2m:\u001b[0m\u001b[2m428\u001b[0m\n",
       "\u001b[2;36m                    \u001b[0m         \u001b[4;94mhttps://www.whoscored.com/Regions/252/Tournaments/2/Seasons/9618/Engl\u001b[0m \u001b[2m                \u001b[0m\n",
       "\u001b[2;36m                    \u001b[0m         \u001b[4;94mand-Premier-League\u001b[0m                                                    \u001b[2m                \u001b[0m\n"
      ]
     },
     "metadata": {},
     "output_type": "display_data"
    },
    {
     "data": {
      "text/html": [
       "<pre style=\"white-space:pre;overflow-x:auto;line-height:normal;font-family:Menlo,'DejaVu Sans Mono',consolas,'Courier New',monospace\"><span style=\"color: #7fbfbf; text-decoration-color: #7fbfbf\">                    </span><span style=\"color: #000080; text-decoration-color: #000080\">INFO    </span> Scraping game schedule for Saturday, Mar <span style=\"color: #008080; text-decoration-color: #008080; font-weight: bold\">2</span> <span style=\"color: #008080; text-decoration-color: #008080; font-weight: bold\">2024</span>                       <span style=\"color: #7f7f7f; text-decoration-color: #7f7f7f\">whoscored.py:328</span>\n",
       "</pre>\n"
      ],
      "text/plain": [
       "\u001b[2;36m                   \u001b[0m\u001b[2;36m \u001b[0m\u001b[34mINFO    \u001b[0m Scraping game schedule for Saturday, Mar \u001b[1;36m2\u001b[0m \u001b[1;36m2024\u001b[0m                       \u001b[2mwhoscored.py\u001b[0m\u001b[2m:\u001b[0m\u001b[2m328\u001b[0m\n"
      ]
     },
     "metadata": {},
     "output_type": "display_data"
    },
    {
     "data": {
      "text/html": [
       "<pre style=\"white-space:pre;overflow-x:auto;line-height:normal;font-family:Menlo,'DejaVu Sans Mono',consolas,'Courier New',monospace\"><span style=\"color: #7fbfbf; text-decoration-color: #7fbfbf\">[03/23/24 13:02:41] </span><span style=\"color: #000080; text-decoration-color: #000080\">INFO    </span> Scraping game schedule for Sunday, Mar <span style=\"color: #008080; text-decoration-color: #008080; font-weight: bold\">3</span> <span style=\"color: #008080; text-decoration-color: #008080; font-weight: bold\">2024</span>                         <span style=\"color: #7f7f7f; text-decoration-color: #7f7f7f\">whoscored.py:328</span>\n",
       "</pre>\n"
      ],
      "text/plain": [
       "\u001b[2;36m[03/23/24 13:02:41]\u001b[0m\u001b[2;36m \u001b[0m\u001b[34mINFO    \u001b[0m Scraping game schedule for Sunday, Mar \u001b[1;36m3\u001b[0m \u001b[1;36m2024\u001b[0m                         \u001b[2mwhoscored.py\u001b[0m\u001b[2m:\u001b[0m\u001b[2m328\u001b[0m\n"
      ]
     },
     "metadata": {},
     "output_type": "display_data"
    },
    {
     "data": {
      "text/html": [
       "<pre style=\"white-space:pre;overflow-x:auto;line-height:normal;font-family:Menlo,'DejaVu Sans Mono',consolas,'Courier New',monospace\"><span style=\"color: #7fbfbf; text-decoration-color: #7fbfbf\">[03/23/24 13:02:42] </span><span style=\"color: #000080; text-decoration-color: #000080\">INFO    </span> Scraping game schedule for Monday, Mar <span style=\"color: #008080; text-decoration-color: #008080; font-weight: bold\">4</span> <span style=\"color: #008080; text-decoration-color: #008080; font-weight: bold\">2024</span>                         <span style=\"color: #7f7f7f; text-decoration-color: #7f7f7f\">whoscored.py:328</span>\n",
       "</pre>\n"
      ],
      "text/plain": [
       "\u001b[2;36m[03/23/24 13:02:42]\u001b[0m\u001b[2;36m \u001b[0m\u001b[34mINFO    \u001b[0m Scraping game schedule for Monday, Mar \u001b[1;36m4\u001b[0m \u001b[1;36m2024\u001b[0m                         \u001b[2mwhoscored.py\u001b[0m\u001b[2m:\u001b[0m\u001b[2m328\u001b[0m\n"
      ]
     },
     "metadata": {},
     "output_type": "display_data"
    },
    {
     "data": {
      "text/html": [
       "<pre style=\"white-space:pre;overflow-x:auto;line-height:normal;font-family:Menlo,'DejaVu Sans Mono',consolas,'Courier New',monospace\"><span style=\"color: #7fbfbf; text-decoration-color: #7fbfbf\">                    </span><span style=\"color: #000080; text-decoration-color: #000080\">INFO    </span> Scraping game schedule for Saturday, Mar <span style=\"color: #008080; text-decoration-color: #008080; font-weight: bold\">9</span> <span style=\"color: #008080; text-decoration-color: #008080; font-weight: bold\">2024</span>                       <span style=\"color: #7f7f7f; text-decoration-color: #7f7f7f\">whoscored.py:328</span>\n",
       "</pre>\n"
      ],
      "text/plain": [
       "\u001b[2;36m                   \u001b[0m\u001b[2;36m \u001b[0m\u001b[34mINFO    \u001b[0m Scraping game schedule for Saturday, Mar \u001b[1;36m9\u001b[0m \u001b[1;36m2024\u001b[0m                       \u001b[2mwhoscored.py\u001b[0m\u001b[2m:\u001b[0m\u001b[2m328\u001b[0m\n"
      ]
     },
     "metadata": {},
     "output_type": "display_data"
    },
    {
     "data": {
      "text/html": [
       "<pre style=\"white-space:pre;overflow-x:auto;line-height:normal;font-family:Menlo,'DejaVu Sans Mono',consolas,'Courier New',monospace\"><span style=\"color: #7fbfbf; text-decoration-color: #7fbfbf\">                    </span><span style=\"color: #000080; text-decoration-color: #000080\">INFO    </span> Scraping game schedule for Sunday, Mar <span style=\"color: #008080; text-decoration-color: #008080; font-weight: bold\">10</span> <span style=\"color: #008080; text-decoration-color: #008080; font-weight: bold\">2024</span>                        <span style=\"color: #7f7f7f; text-decoration-color: #7f7f7f\">whoscored.py:328</span>\n",
       "</pre>\n"
      ],
      "text/plain": [
       "\u001b[2;36m                   \u001b[0m\u001b[2;36m \u001b[0m\u001b[34mINFO    \u001b[0m Scraping game schedule for Sunday, Mar \u001b[1;36m10\u001b[0m \u001b[1;36m2024\u001b[0m                        \u001b[2mwhoscored.py\u001b[0m\u001b[2m:\u001b[0m\u001b[2m328\u001b[0m\n"
      ]
     },
     "metadata": {},
     "output_type": "display_data"
    },
    {
     "data": {
      "text/html": [
       "<pre style=\"white-space:pre;overflow-x:auto;line-height:normal;font-family:Menlo,'DejaVu Sans Mono',consolas,'Courier New',monospace\"><span style=\"color: #7fbfbf; text-decoration-color: #7fbfbf\">[03/23/24 13:02:43] </span><span style=\"color: #000080; text-decoration-color: #000080\">INFO    </span> Scraping game schedule for Monday, Mar <span style=\"color: #008080; text-decoration-color: #008080; font-weight: bold\">11</span> <span style=\"color: #008080; text-decoration-color: #008080; font-weight: bold\">2024</span>                        <span style=\"color: #7f7f7f; text-decoration-color: #7f7f7f\">whoscored.py:328</span>\n",
       "</pre>\n"
      ],
      "text/plain": [
       "\u001b[2;36m[03/23/24 13:02:43]\u001b[0m\u001b[2;36m \u001b[0m\u001b[34mINFO    \u001b[0m Scraping game schedule for Monday, Mar \u001b[1;36m11\u001b[0m \u001b[1;36m2024\u001b[0m                        \u001b[2mwhoscored.py\u001b[0m\u001b[2m:\u001b[0m\u001b[2m328\u001b[0m\n"
      ]
     },
     "metadata": {},
     "output_type": "display_data"
    },
    {
     "data": {
      "text/html": [
       "<pre style=\"white-space:pre;overflow-x:auto;line-height:normal;font-family:Menlo,'DejaVu Sans Mono',consolas,'Courier New',monospace\"><span style=\"color: #7fbfbf; text-decoration-color: #7fbfbf\">                    </span><span style=\"color: #000080; text-decoration-color: #000080\">INFO    </span> Scraping game schedule for Wednesday, Mar <span style=\"color: #008080; text-decoration-color: #008080; font-weight: bold\">13</span> <span style=\"color: #008080; text-decoration-color: #008080; font-weight: bold\">2024</span>                     <span style=\"color: #7f7f7f; text-decoration-color: #7f7f7f\">whoscored.py:328</span>\n",
       "</pre>\n"
      ],
      "text/plain": [
       "\u001b[2;36m                   \u001b[0m\u001b[2;36m \u001b[0m\u001b[34mINFO    \u001b[0m Scraping game schedule for Wednesday, Mar \u001b[1;36m13\u001b[0m \u001b[1;36m2024\u001b[0m                     \u001b[2mwhoscored.py\u001b[0m\u001b[2m:\u001b[0m\u001b[2m328\u001b[0m\n"
      ]
     },
     "metadata": {},
     "output_type": "display_data"
    },
    {
     "data": {
      "text/html": [
       "<pre style=\"white-space:pre;overflow-x:auto;line-height:normal;font-family:Menlo,'DejaVu Sans Mono',consolas,'Courier New',monospace\"><span style=\"color: #7fbfbf; text-decoration-color: #7fbfbf\">                    </span><span style=\"color: #000080; text-decoration-color: #000080\">INFO    </span> Scraping game schedule for Saturday, Mar <span style=\"color: #008080; text-decoration-color: #008080; font-weight: bold\">16</span> <span style=\"color: #008080; text-decoration-color: #008080; font-weight: bold\">2024</span>                      <span style=\"color: #7f7f7f; text-decoration-color: #7f7f7f\">whoscored.py:328</span>\n",
       "</pre>\n"
      ],
      "text/plain": [
       "\u001b[2;36m                   \u001b[0m\u001b[2;36m \u001b[0m\u001b[34mINFO    \u001b[0m Scraping game schedule for Saturday, Mar \u001b[1;36m16\u001b[0m \u001b[1;36m2024\u001b[0m                      \u001b[2mwhoscored.py\u001b[0m\u001b[2m:\u001b[0m\u001b[2m328\u001b[0m\n"
      ]
     },
     "metadata": {},
     "output_type": "display_data"
    },
    {
     "data": {
      "text/html": [
       "<pre style=\"white-space:pre;overflow-x:auto;line-height:normal;font-family:Menlo,'DejaVu Sans Mono',consolas,'Courier New',monospace\"><span style=\"color: #7fbfbf; text-decoration-color: #7fbfbf\">                    </span><span style=\"color: #000080; text-decoration-color: #000080\">INFO    </span> Scraping game schedule for Sunday, Mar <span style=\"color: #008080; text-decoration-color: #008080; font-weight: bold\">17</span> <span style=\"color: #008080; text-decoration-color: #008080; font-weight: bold\">2024</span>                        <span style=\"color: #7f7f7f; text-decoration-color: #7f7f7f\">whoscored.py:328</span>\n",
       "</pre>\n"
      ],
      "text/plain": [
       "\u001b[2;36m                   \u001b[0m\u001b[2;36m \u001b[0m\u001b[34mINFO    \u001b[0m Scraping game schedule for Sunday, Mar \u001b[1;36m17\u001b[0m \u001b[1;36m2024\u001b[0m                        \u001b[2mwhoscored.py\u001b[0m\u001b[2m:\u001b[0m\u001b[2m328\u001b[0m\n"
      ]
     },
     "metadata": {},
     "output_type": "display_data"
    },
    {
     "data": {
      "text/html": [
       "<pre style=\"white-space:pre;overflow-x:auto;line-height:normal;font-family:Menlo,'DejaVu Sans Mono',consolas,'Courier New',monospace\"><span style=\"color: #7fbfbf; text-decoration-color: #7fbfbf\">[03/23/24 13:02:44] </span><span style=\"color: #000080; text-decoration-color: #000080\">INFO    </span> Scraping game schedule for Saturday, Mar <span style=\"color: #008080; text-decoration-color: #008080; font-weight: bold\">30</span> <span style=\"color: #008080; text-decoration-color: #008080; font-weight: bold\">2024</span>                      <span style=\"color: #7f7f7f; text-decoration-color: #7f7f7f\">whoscored.py:328</span>\n",
       "</pre>\n"
      ],
      "text/plain": [
       "\u001b[2;36m[03/23/24 13:02:44]\u001b[0m\u001b[2;36m \u001b[0m\u001b[34mINFO    \u001b[0m Scraping game schedule for Saturday, Mar \u001b[1;36m30\u001b[0m \u001b[1;36m2024\u001b[0m                      \u001b[2mwhoscored.py\u001b[0m\u001b[2m:\u001b[0m\u001b[2m328\u001b[0m\n"
      ]
     },
     "metadata": {},
     "output_type": "display_data"
    },
    {
     "data": {
      "text/html": [
       "<pre style=\"white-space:pre;overflow-x:auto;line-height:normal;font-family:Menlo,'DejaVu Sans Mono',consolas,'Courier New',monospace\"><span style=\"color: #7fbfbf; text-decoration-color: #7fbfbf\">                    </span><span style=\"color: #000080; text-decoration-color: #000080\">INFO    </span> Scraping game schedule for Sunday, Mar <span style=\"color: #008080; text-decoration-color: #008080; font-weight: bold\">31</span> <span style=\"color: #008080; text-decoration-color: #008080; font-weight: bold\">2024</span>                        <span style=\"color: #7f7f7f; text-decoration-color: #7f7f7f\">whoscored.py:328</span>\n",
       "</pre>\n"
      ],
      "text/plain": [
       "\u001b[2;36m                   \u001b[0m\u001b[2;36m \u001b[0m\u001b[34mINFO    \u001b[0m Scraping game schedule for Sunday, Mar \u001b[1;36m31\u001b[0m \u001b[1;36m2024\u001b[0m                        \u001b[2mwhoscored.py\u001b[0m\u001b[2m:\u001b[0m\u001b[2m328\u001b[0m\n"
      ]
     },
     "metadata": {},
     "output_type": "display_data"
    },
    {
     "data": {
      "text/html": [
       "<pre style=\"white-space:pre;overflow-x:auto;line-height:normal;font-family:Menlo,'DejaVu Sans Mono',consolas,'Courier New',monospace\"><span style=\"color: #7fbfbf; text-decoration-color: #7fbfbf\">[03/23/24 13:02:50] </span><span style=\"color: #000080; text-decoration-color: #000080\">INFO    </span> Scraping game schedule for Thursday, Feb <span style=\"color: #008080; text-decoration-color: #008080; font-weight: bold\">1</span> <span style=\"color: #008080; text-decoration-color: #008080; font-weight: bold\">2024</span>                       <span style=\"color: #7f7f7f; text-decoration-color: #7f7f7f\">whoscored.py:328</span>\n",
       "</pre>\n"
      ],
      "text/plain": [
       "\u001b[2;36m[03/23/24 13:02:50]\u001b[0m\u001b[2;36m \u001b[0m\u001b[34mINFO    \u001b[0m Scraping game schedule for Thursday, Feb \u001b[1;36m1\u001b[0m \u001b[1;36m2024\u001b[0m                       \u001b[2mwhoscored.py\u001b[0m\u001b[2m:\u001b[0m\u001b[2m328\u001b[0m\n"
      ]
     },
     "metadata": {},
     "output_type": "display_data"
    },
    {
     "data": {
      "text/html": [
       "<pre style=\"white-space:pre;overflow-x:auto;line-height:normal;font-family:Menlo,'DejaVu Sans Mono',consolas,'Courier New',monospace\"><span style=\"color: #7fbfbf; text-decoration-color: #7fbfbf\">                    </span><span style=\"color: #000080; text-decoration-color: #000080\">INFO    </span> Scraping game schedule for Saturday, Feb <span style=\"color: #008080; text-decoration-color: #008080; font-weight: bold\">3</span> <span style=\"color: #008080; text-decoration-color: #008080; font-weight: bold\">2024</span>                       <span style=\"color: #7f7f7f; text-decoration-color: #7f7f7f\">whoscored.py:328</span>\n",
       "</pre>\n"
      ],
      "text/plain": [
       "\u001b[2;36m                   \u001b[0m\u001b[2;36m \u001b[0m\u001b[34mINFO    \u001b[0m Scraping game schedule for Saturday, Feb \u001b[1;36m3\u001b[0m \u001b[1;36m2024\u001b[0m                       \u001b[2mwhoscored.py\u001b[0m\u001b[2m:\u001b[0m\u001b[2m328\u001b[0m\n"
      ]
     },
     "metadata": {},
     "output_type": "display_data"
    },
    {
     "data": {
      "text/html": [
       "<pre style=\"white-space:pre;overflow-x:auto;line-height:normal;font-family:Menlo,'DejaVu Sans Mono',consolas,'Courier New',monospace\"><span style=\"color: #7fbfbf; text-decoration-color: #7fbfbf\">                    </span><span style=\"color: #000080; text-decoration-color: #000080\">INFO    </span> Scraping game schedule for Sunday, Feb <span style=\"color: #008080; text-decoration-color: #008080; font-weight: bold\">4</span> <span style=\"color: #008080; text-decoration-color: #008080; font-weight: bold\">2024</span>                         <span style=\"color: #7f7f7f; text-decoration-color: #7f7f7f\">whoscored.py:328</span>\n",
       "</pre>\n"
      ],
      "text/plain": [
       "\u001b[2;36m                   \u001b[0m\u001b[2;36m \u001b[0m\u001b[34mINFO    \u001b[0m Scraping game schedule for Sunday, Feb \u001b[1;36m4\u001b[0m \u001b[1;36m2024\u001b[0m                         \u001b[2mwhoscored.py\u001b[0m\u001b[2m:\u001b[0m\u001b[2m328\u001b[0m\n"
      ]
     },
     "metadata": {},
     "output_type": "display_data"
    },
    {
     "data": {
      "text/html": [
       "<pre style=\"white-space:pre;overflow-x:auto;line-height:normal;font-family:Menlo,'DejaVu Sans Mono',consolas,'Courier New',monospace\"><span style=\"color: #7fbfbf; text-decoration-color: #7fbfbf\">[03/23/24 13:02:51] </span><span style=\"color: #000080; text-decoration-color: #000080\">INFO    </span> Scraping game schedule for Monday, Feb <span style=\"color: #008080; text-decoration-color: #008080; font-weight: bold\">5</span> <span style=\"color: #008080; text-decoration-color: #008080; font-weight: bold\">2024</span>                         <span style=\"color: #7f7f7f; text-decoration-color: #7f7f7f\">whoscored.py:328</span>\n",
       "</pre>\n"
      ],
      "text/plain": [
       "\u001b[2;36m[03/23/24 13:02:51]\u001b[0m\u001b[2;36m \u001b[0m\u001b[34mINFO    \u001b[0m Scraping game schedule for Monday, Feb \u001b[1;36m5\u001b[0m \u001b[1;36m2024\u001b[0m                         \u001b[2mwhoscored.py\u001b[0m\u001b[2m:\u001b[0m\u001b[2m328\u001b[0m\n"
      ]
     },
     "metadata": {},
     "output_type": "display_data"
    },
    {
     "data": {
      "text/html": [
       "<pre style=\"white-space:pre;overflow-x:auto;line-height:normal;font-family:Menlo,'DejaVu Sans Mono',consolas,'Courier New',monospace\"><span style=\"color: #7fbfbf; text-decoration-color: #7fbfbf\">                    </span><span style=\"color: #000080; text-decoration-color: #000080\">INFO    </span> Scraping game schedule for Saturday, Feb <span style=\"color: #008080; text-decoration-color: #008080; font-weight: bold\">10</span> <span style=\"color: #008080; text-decoration-color: #008080; font-weight: bold\">2024</span>                      <span style=\"color: #7f7f7f; text-decoration-color: #7f7f7f\">whoscored.py:328</span>\n",
       "</pre>\n"
      ],
      "text/plain": [
       "\u001b[2;36m                   \u001b[0m\u001b[2;36m \u001b[0m\u001b[34mINFO    \u001b[0m Scraping game schedule for Saturday, Feb \u001b[1;36m10\u001b[0m \u001b[1;36m2024\u001b[0m                      \u001b[2mwhoscored.py\u001b[0m\u001b[2m:\u001b[0m\u001b[2m328\u001b[0m\n"
      ]
     },
     "metadata": {},
     "output_type": "display_data"
    },
    {
     "data": {
      "text/html": [
       "<pre style=\"white-space:pre;overflow-x:auto;line-height:normal;font-family:Menlo,'DejaVu Sans Mono',consolas,'Courier New',monospace\"><span style=\"color: #7fbfbf; text-decoration-color: #7fbfbf\">[03/23/24 13:02:52] </span><span style=\"color: #000080; text-decoration-color: #000080\">INFO    </span> Scraping game schedule for Sunday, Feb <span style=\"color: #008080; text-decoration-color: #008080; font-weight: bold\">11</span> <span style=\"color: #008080; text-decoration-color: #008080; font-weight: bold\">2024</span>                        <span style=\"color: #7f7f7f; text-decoration-color: #7f7f7f\">whoscored.py:328</span>\n",
       "</pre>\n"
      ],
      "text/plain": [
       "\u001b[2;36m[03/23/24 13:02:52]\u001b[0m\u001b[2;36m \u001b[0m\u001b[34mINFO    \u001b[0m Scraping game schedule for Sunday, Feb \u001b[1;36m11\u001b[0m \u001b[1;36m2024\u001b[0m                        \u001b[2mwhoscored.py\u001b[0m\u001b[2m:\u001b[0m\u001b[2m328\u001b[0m\n"
      ]
     },
     "metadata": {},
     "output_type": "display_data"
    },
    {
     "data": {
      "text/html": [
       "<pre style=\"white-space:pre;overflow-x:auto;line-height:normal;font-family:Menlo,'DejaVu Sans Mono',consolas,'Courier New',monospace\"><span style=\"color: #7fbfbf; text-decoration-color: #7fbfbf\">                    </span><span style=\"color: #000080; text-decoration-color: #000080\">INFO    </span> Scraping game schedule for Monday, Feb <span style=\"color: #008080; text-decoration-color: #008080; font-weight: bold\">12</span> <span style=\"color: #008080; text-decoration-color: #008080; font-weight: bold\">2024</span>                        <span style=\"color: #7f7f7f; text-decoration-color: #7f7f7f\">whoscored.py:328</span>\n",
       "</pre>\n"
      ],
      "text/plain": [
       "\u001b[2;36m                   \u001b[0m\u001b[2;36m \u001b[0m\u001b[34mINFO    \u001b[0m Scraping game schedule for Monday, Feb \u001b[1;36m12\u001b[0m \u001b[1;36m2024\u001b[0m                        \u001b[2mwhoscored.py\u001b[0m\u001b[2m:\u001b[0m\u001b[2m328\u001b[0m\n"
      ]
     },
     "metadata": {},
     "output_type": "display_data"
    },
    {
     "data": {
      "text/html": [
       "<pre style=\"white-space:pre;overflow-x:auto;line-height:normal;font-family:Menlo,'DejaVu Sans Mono',consolas,'Courier New',monospace\"><span style=\"color: #7fbfbf; text-decoration-color: #7fbfbf\">                    </span><span style=\"color: #000080; text-decoration-color: #000080\">INFO    </span> Scraping game schedule for Saturday, Feb <span style=\"color: #008080; text-decoration-color: #008080; font-weight: bold\">17</span> <span style=\"color: #008080; text-decoration-color: #008080; font-weight: bold\">2024</span>                      <span style=\"color: #7f7f7f; text-decoration-color: #7f7f7f\">whoscored.py:328</span>\n",
       "</pre>\n"
      ],
      "text/plain": [
       "\u001b[2;36m                   \u001b[0m\u001b[2;36m \u001b[0m\u001b[34mINFO    \u001b[0m Scraping game schedule for Saturday, Feb \u001b[1;36m17\u001b[0m \u001b[1;36m2024\u001b[0m                      \u001b[2mwhoscored.py\u001b[0m\u001b[2m:\u001b[0m\u001b[2m328\u001b[0m\n"
      ]
     },
     "metadata": {},
     "output_type": "display_data"
    },
    {
     "data": {
      "text/html": [
       "<pre style=\"white-space:pre;overflow-x:auto;line-height:normal;font-family:Menlo,'DejaVu Sans Mono',consolas,'Courier New',monospace\"><span style=\"color: #7fbfbf; text-decoration-color: #7fbfbf\">[03/23/24 13:02:53] </span><span style=\"color: #000080; text-decoration-color: #000080\">INFO    </span> Scraping game schedule for Sunday, Feb <span style=\"color: #008080; text-decoration-color: #008080; font-weight: bold\">18</span> <span style=\"color: #008080; text-decoration-color: #008080; font-weight: bold\">2024</span>                        <span style=\"color: #7f7f7f; text-decoration-color: #7f7f7f\">whoscored.py:328</span>\n",
       "</pre>\n"
      ],
      "text/plain": [
       "\u001b[2;36m[03/23/24 13:02:53]\u001b[0m\u001b[2;36m \u001b[0m\u001b[34mINFO    \u001b[0m Scraping game schedule for Sunday, Feb \u001b[1;36m18\u001b[0m \u001b[1;36m2024\u001b[0m                        \u001b[2mwhoscored.py\u001b[0m\u001b[2m:\u001b[0m\u001b[2m328\u001b[0m\n"
      ]
     },
     "metadata": {},
     "output_type": "display_data"
    },
    {
     "data": {
      "text/html": [
       "<pre style=\"white-space:pre;overflow-x:auto;line-height:normal;font-family:Menlo,'DejaVu Sans Mono',consolas,'Courier New',monospace\"><span style=\"color: #7fbfbf; text-decoration-color: #7fbfbf\">                    </span><span style=\"color: #000080; text-decoration-color: #000080\">INFO    </span> Scraping game schedule for Monday, Feb <span style=\"color: #008080; text-decoration-color: #008080; font-weight: bold\">19</span> <span style=\"color: #008080; text-decoration-color: #008080; font-weight: bold\">2024</span>                        <span style=\"color: #7f7f7f; text-decoration-color: #7f7f7f\">whoscored.py:328</span>\n",
       "</pre>\n"
      ],
      "text/plain": [
       "\u001b[2;36m                   \u001b[0m\u001b[2;36m \u001b[0m\u001b[34mINFO    \u001b[0m Scraping game schedule for Monday, Feb \u001b[1;36m19\u001b[0m \u001b[1;36m2024\u001b[0m                        \u001b[2mwhoscored.py\u001b[0m\u001b[2m:\u001b[0m\u001b[2m328\u001b[0m\n"
      ]
     },
     "metadata": {},
     "output_type": "display_data"
    },
    {
     "data": {
      "text/html": [
       "<pre style=\"white-space:pre;overflow-x:auto;line-height:normal;font-family:Menlo,'DejaVu Sans Mono',consolas,'Courier New',monospace\"><span style=\"color: #7fbfbf; text-decoration-color: #7fbfbf\">                    </span><span style=\"color: #000080; text-decoration-color: #000080\">INFO    </span> Scraping game schedule for Tuesday, Feb <span style=\"color: #008080; text-decoration-color: #008080; font-weight: bold\">20</span> <span style=\"color: #008080; text-decoration-color: #008080; font-weight: bold\">2024</span>                       <span style=\"color: #7f7f7f; text-decoration-color: #7f7f7f\">whoscored.py:328</span>\n",
       "</pre>\n"
      ],
      "text/plain": [
       "\u001b[2;36m                   \u001b[0m\u001b[2;36m \u001b[0m\u001b[34mINFO    \u001b[0m Scraping game schedule for Tuesday, Feb \u001b[1;36m20\u001b[0m \u001b[1;36m2024\u001b[0m                       \u001b[2mwhoscored.py\u001b[0m\u001b[2m:\u001b[0m\u001b[2m328\u001b[0m\n"
      ]
     },
     "metadata": {},
     "output_type": "display_data"
    },
    {
     "data": {
      "text/html": [
       "<pre style=\"white-space:pre;overflow-x:auto;line-height:normal;font-family:Menlo,'DejaVu Sans Mono',consolas,'Courier New',monospace\"><span style=\"color: #7fbfbf; text-decoration-color: #7fbfbf\">                    </span><span style=\"color: #000080; text-decoration-color: #000080\">INFO    </span> Scraping game schedule for Wednesday, Feb <span style=\"color: #008080; text-decoration-color: #008080; font-weight: bold\">21</span> <span style=\"color: #008080; text-decoration-color: #008080; font-weight: bold\">2024</span>                     <span style=\"color: #7f7f7f; text-decoration-color: #7f7f7f\">whoscored.py:328</span>\n",
       "</pre>\n"
      ],
      "text/plain": [
       "\u001b[2;36m                   \u001b[0m\u001b[2;36m \u001b[0m\u001b[34mINFO    \u001b[0m Scraping game schedule for Wednesday, Feb \u001b[1;36m21\u001b[0m \u001b[1;36m2024\u001b[0m                     \u001b[2mwhoscored.py\u001b[0m\u001b[2m:\u001b[0m\u001b[2m328\u001b[0m\n"
      ]
     },
     "metadata": {},
     "output_type": "display_data"
    },
    {
     "data": {
      "text/html": [
       "<pre style=\"white-space:pre;overflow-x:auto;line-height:normal;font-family:Menlo,'DejaVu Sans Mono',consolas,'Courier New',monospace\"><span style=\"color: #7fbfbf; text-decoration-color: #7fbfbf\">                    </span><span style=\"color: #000080; text-decoration-color: #000080\">INFO    </span> Scraping game schedule for Friday, Feb <span style=\"color: #008080; text-decoration-color: #008080; font-weight: bold\">23</span> <span style=\"color: #008080; text-decoration-color: #008080; font-weight: bold\">2024</span>                        <span style=\"color: #7f7f7f; text-decoration-color: #7f7f7f\">whoscored.py:328</span>\n",
       "</pre>\n"
      ],
      "text/plain": [
       "\u001b[2;36m                   \u001b[0m\u001b[2;36m \u001b[0m\u001b[34mINFO    \u001b[0m Scraping game schedule for Friday, Feb \u001b[1;36m23\u001b[0m \u001b[1;36m2024\u001b[0m                        \u001b[2mwhoscored.py\u001b[0m\u001b[2m:\u001b[0m\u001b[2m328\u001b[0m\n"
      ]
     },
     "metadata": {},
     "output_type": "display_data"
    },
    {
     "data": {
      "text/html": [
       "<pre style=\"white-space:pre;overflow-x:auto;line-height:normal;font-family:Menlo,'DejaVu Sans Mono',consolas,'Courier New',monospace\"><span style=\"color: #7fbfbf; text-decoration-color: #7fbfbf\">                    </span><span style=\"color: #000080; text-decoration-color: #000080\">INFO    </span> Scraping game schedule for Saturday, Feb <span style=\"color: #008080; text-decoration-color: #008080; font-weight: bold\">24</span> <span style=\"color: #008080; text-decoration-color: #008080; font-weight: bold\">2024</span>                      <span style=\"color: #7f7f7f; text-decoration-color: #7f7f7f\">whoscored.py:328</span>\n",
       "</pre>\n"
      ],
      "text/plain": [
       "\u001b[2;36m                   \u001b[0m\u001b[2;36m \u001b[0m\u001b[34mINFO    \u001b[0m Scraping game schedule for Saturday, Feb \u001b[1;36m24\u001b[0m \u001b[1;36m2024\u001b[0m                      \u001b[2mwhoscored.py\u001b[0m\u001b[2m:\u001b[0m\u001b[2m328\u001b[0m\n"
      ]
     },
     "metadata": {},
     "output_type": "display_data"
    },
    {
     "data": {
      "text/html": [
       "<pre style=\"white-space:pre;overflow-x:auto;line-height:normal;font-family:Menlo,'DejaVu Sans Mono',consolas,'Courier New',monospace\"><span style=\"color: #7fbfbf; text-decoration-color: #7fbfbf\">[03/23/24 13:02:54] </span><span style=\"color: #000080; text-decoration-color: #000080\">INFO    </span> Scraping game schedule for Sunday, Feb <span style=\"color: #008080; text-decoration-color: #008080; font-weight: bold\">25</span> <span style=\"color: #008080; text-decoration-color: #008080; font-weight: bold\">2024</span>                        <span style=\"color: #7f7f7f; text-decoration-color: #7f7f7f\">whoscored.py:328</span>\n",
       "</pre>\n"
      ],
      "text/plain": [
       "\u001b[2;36m[03/23/24 13:02:54]\u001b[0m\u001b[2;36m \u001b[0m\u001b[34mINFO    \u001b[0m Scraping game schedule for Sunday, Feb \u001b[1;36m25\u001b[0m \u001b[1;36m2024\u001b[0m                        \u001b[2mwhoscored.py\u001b[0m\u001b[2m:\u001b[0m\u001b[2m328\u001b[0m\n"
      ]
     },
     "metadata": {},
     "output_type": "display_data"
    },
    {
     "data": {
      "text/html": [
       "<pre style=\"white-space:pre;overflow-x:auto;line-height:normal;font-family:Menlo,'DejaVu Sans Mono',consolas,'Courier New',monospace\"><span style=\"color: #7fbfbf; text-decoration-color: #7fbfbf\">                    </span><span style=\"color: #000080; text-decoration-color: #000080\">INFO    </span> Scraping game schedule for Monday, Feb <span style=\"color: #008080; text-decoration-color: #008080; font-weight: bold\">26</span> <span style=\"color: #008080; text-decoration-color: #008080; font-weight: bold\">2024</span>                        <span style=\"color: #7f7f7f; text-decoration-color: #7f7f7f\">whoscored.py:328</span>\n",
       "</pre>\n"
      ],
      "text/plain": [
       "\u001b[2;36m                   \u001b[0m\u001b[2;36m \u001b[0m\u001b[34mINFO    \u001b[0m Scraping game schedule for Monday, Feb \u001b[1;36m26\u001b[0m \u001b[1;36m2024\u001b[0m                        \u001b[2mwhoscored.py\u001b[0m\u001b[2m:\u001b[0m\u001b[2m328\u001b[0m\n"
      ]
     },
     "metadata": {},
     "output_type": "display_data"
    },
    {
     "data": {
      "text/html": [
       "<pre style=\"white-space:pre;overflow-x:auto;line-height:normal;font-family:Menlo,'DejaVu Sans Mono',consolas,'Courier New',monospace\"><span style=\"color: #7fbfbf; text-decoration-color: #7fbfbf\">[03/23/24 13:02:59] </span><span style=\"color: #000080; text-decoration-color: #000080\">INFO    </span> Scraping game schedule for Monday, Jan <span style=\"color: #008080; text-decoration-color: #008080; font-weight: bold\">1</span> <span style=\"color: #008080; text-decoration-color: #008080; font-weight: bold\">2024</span>                         <span style=\"color: #7f7f7f; text-decoration-color: #7f7f7f\">whoscored.py:328</span>\n",
       "</pre>\n"
      ],
      "text/plain": [
       "\u001b[2;36m[03/23/24 13:02:59]\u001b[0m\u001b[2;36m \u001b[0m\u001b[34mINFO    \u001b[0m Scraping game schedule for Monday, Jan \u001b[1;36m1\u001b[0m \u001b[1;36m2024\u001b[0m                         \u001b[2mwhoscored.py\u001b[0m\u001b[2m:\u001b[0m\u001b[2m328\u001b[0m\n"
      ]
     },
     "metadata": {},
     "output_type": "display_data"
    },
    {
     "data": {
      "text/html": [
       "<pre style=\"white-space:pre;overflow-x:auto;line-height:normal;font-family:Menlo,'DejaVu Sans Mono',consolas,'Courier New',monospace\"><span style=\"color: #7fbfbf; text-decoration-color: #7fbfbf\">                    </span><span style=\"color: #000080; text-decoration-color: #000080\">INFO    </span> Scraping game schedule for Tuesday, Jan <span style=\"color: #008080; text-decoration-color: #008080; font-weight: bold\">2</span> <span style=\"color: #008080; text-decoration-color: #008080; font-weight: bold\">2024</span>                        <span style=\"color: #7f7f7f; text-decoration-color: #7f7f7f\">whoscored.py:328</span>\n",
       "</pre>\n"
      ],
      "text/plain": [
       "\u001b[2;36m                   \u001b[0m\u001b[2;36m \u001b[0m\u001b[34mINFO    \u001b[0m Scraping game schedule for Tuesday, Jan \u001b[1;36m2\u001b[0m \u001b[1;36m2024\u001b[0m                        \u001b[2mwhoscored.py\u001b[0m\u001b[2m:\u001b[0m\u001b[2m328\u001b[0m\n"
      ]
     },
     "metadata": {},
     "output_type": "display_data"
    },
    {
     "data": {
      "text/html": [
       "<pre style=\"white-space:pre;overflow-x:auto;line-height:normal;font-family:Menlo,'DejaVu Sans Mono',consolas,'Courier New',monospace\"><span style=\"color: #7fbfbf; text-decoration-color: #7fbfbf\">                    </span><span style=\"color: #000080; text-decoration-color: #000080\">INFO    </span> Scraping game schedule for Friday, Jan <span style=\"color: #008080; text-decoration-color: #008080; font-weight: bold\">12</span> <span style=\"color: #008080; text-decoration-color: #008080; font-weight: bold\">2024</span>                        <span style=\"color: #7f7f7f; text-decoration-color: #7f7f7f\">whoscored.py:328</span>\n",
       "</pre>\n"
      ],
      "text/plain": [
       "\u001b[2;36m                   \u001b[0m\u001b[2;36m \u001b[0m\u001b[34mINFO    \u001b[0m Scraping game schedule for Friday, Jan \u001b[1;36m12\u001b[0m \u001b[1;36m2024\u001b[0m                        \u001b[2mwhoscored.py\u001b[0m\u001b[2m:\u001b[0m\u001b[2m328\u001b[0m\n"
      ]
     },
     "metadata": {},
     "output_type": "display_data"
    },
    {
     "data": {
      "text/html": [
       "<pre style=\"white-space:pre;overflow-x:auto;line-height:normal;font-family:Menlo,'DejaVu Sans Mono',consolas,'Courier New',monospace\"><span style=\"color: #7fbfbf; text-decoration-color: #7fbfbf\">                    </span><span style=\"color: #000080; text-decoration-color: #000080\">INFO    </span> Scraping game schedule for Saturday, Jan <span style=\"color: #008080; text-decoration-color: #008080; font-weight: bold\">13</span> <span style=\"color: #008080; text-decoration-color: #008080; font-weight: bold\">2024</span>                      <span style=\"color: #7f7f7f; text-decoration-color: #7f7f7f\">whoscored.py:328</span>\n",
       "</pre>\n"
      ],
      "text/plain": [
       "\u001b[2;36m                   \u001b[0m\u001b[2;36m \u001b[0m\u001b[34mINFO    \u001b[0m Scraping game schedule for Saturday, Jan \u001b[1;36m13\u001b[0m \u001b[1;36m2024\u001b[0m                      \u001b[2mwhoscored.py\u001b[0m\u001b[2m:\u001b[0m\u001b[2m328\u001b[0m\n"
      ]
     },
     "metadata": {},
     "output_type": "display_data"
    },
    {
     "data": {
      "text/html": [
       "<pre style=\"white-space:pre;overflow-x:auto;line-height:normal;font-family:Menlo,'DejaVu Sans Mono',consolas,'Courier New',monospace\"><span style=\"color: #7fbfbf; text-decoration-color: #7fbfbf\">[03/23/24 13:03:00] </span><span style=\"color: #000080; text-decoration-color: #000080\">INFO    </span> Scraping game schedule for Sunday, Jan <span style=\"color: #008080; text-decoration-color: #008080; font-weight: bold\">14</span> <span style=\"color: #008080; text-decoration-color: #008080; font-weight: bold\">2024</span>                        <span style=\"color: #7f7f7f; text-decoration-color: #7f7f7f\">whoscored.py:328</span>\n",
       "</pre>\n"
      ],
      "text/plain": [
       "\u001b[2;36m[03/23/24 13:03:00]\u001b[0m\u001b[2;36m \u001b[0m\u001b[34mINFO    \u001b[0m Scraping game schedule for Sunday, Jan \u001b[1;36m14\u001b[0m \u001b[1;36m2024\u001b[0m                        \u001b[2mwhoscored.py\u001b[0m\u001b[2m:\u001b[0m\u001b[2m328\u001b[0m\n"
      ]
     },
     "metadata": {},
     "output_type": "display_data"
    },
    {
     "data": {
      "text/html": [
       "<pre style=\"white-space:pre;overflow-x:auto;line-height:normal;font-family:Menlo,'DejaVu Sans Mono',consolas,'Courier New',monospace\"><span style=\"color: #7fbfbf; text-decoration-color: #7fbfbf\">                    </span><span style=\"color: #000080; text-decoration-color: #000080\">INFO    </span> Scraping game schedule for Saturday, Jan <span style=\"color: #008080; text-decoration-color: #008080; font-weight: bold\">20</span> <span style=\"color: #008080; text-decoration-color: #008080; font-weight: bold\">2024</span>                      <span style=\"color: #7f7f7f; text-decoration-color: #7f7f7f\">whoscored.py:328</span>\n",
       "</pre>\n"
      ],
      "text/plain": [
       "\u001b[2;36m                   \u001b[0m\u001b[2;36m \u001b[0m\u001b[34mINFO    \u001b[0m Scraping game schedule for Saturday, Jan \u001b[1;36m20\u001b[0m \u001b[1;36m2024\u001b[0m                      \u001b[2mwhoscored.py\u001b[0m\u001b[2m:\u001b[0m\u001b[2m328\u001b[0m\n"
      ]
     },
     "metadata": {},
     "output_type": "display_data"
    },
    {
     "data": {
      "text/html": [
       "<pre style=\"white-space:pre;overflow-x:auto;line-height:normal;font-family:Menlo,'DejaVu Sans Mono',consolas,'Courier New',monospace\"><span style=\"color: #7fbfbf; text-decoration-color: #7fbfbf\">                    </span><span style=\"color: #000080; text-decoration-color: #000080\">INFO    </span> Scraping game schedule for Sunday, Jan <span style=\"color: #008080; text-decoration-color: #008080; font-weight: bold\">21</span> <span style=\"color: #008080; text-decoration-color: #008080; font-weight: bold\">2024</span>                        <span style=\"color: #7f7f7f; text-decoration-color: #7f7f7f\">whoscored.py:328</span>\n",
       "</pre>\n"
      ],
      "text/plain": [
       "\u001b[2;36m                   \u001b[0m\u001b[2;36m \u001b[0m\u001b[34mINFO    \u001b[0m Scraping game schedule for Sunday, Jan \u001b[1;36m21\u001b[0m \u001b[1;36m2024\u001b[0m                        \u001b[2mwhoscored.py\u001b[0m\u001b[2m:\u001b[0m\u001b[2m328\u001b[0m\n"
      ]
     },
     "metadata": {},
     "output_type": "display_data"
    },
    {
     "data": {
      "text/html": [
       "<pre style=\"white-space:pre;overflow-x:auto;line-height:normal;font-family:Menlo,'DejaVu Sans Mono',consolas,'Courier New',monospace\"><span style=\"color: #7fbfbf; text-decoration-color: #7fbfbf\">                    </span><span style=\"color: #000080; text-decoration-color: #000080\">INFO    </span> Scraping game schedule for Monday, Jan <span style=\"color: #008080; text-decoration-color: #008080; font-weight: bold\">22</span> <span style=\"color: #008080; text-decoration-color: #008080; font-weight: bold\">2024</span>                        <span style=\"color: #7f7f7f; text-decoration-color: #7f7f7f\">whoscored.py:328</span>\n",
       "</pre>\n"
      ],
      "text/plain": [
       "\u001b[2;36m                   \u001b[0m\u001b[2;36m \u001b[0m\u001b[34mINFO    \u001b[0m Scraping game schedule for Monday, Jan \u001b[1;36m22\u001b[0m \u001b[1;36m2024\u001b[0m                        \u001b[2mwhoscored.py\u001b[0m\u001b[2m:\u001b[0m\u001b[2m328\u001b[0m\n"
      ]
     },
     "metadata": {},
     "output_type": "display_data"
    },
    {
     "data": {
      "text/html": [
       "<pre style=\"white-space:pre;overflow-x:auto;line-height:normal;font-family:Menlo,'DejaVu Sans Mono',consolas,'Courier New',monospace\"><span style=\"color: #7fbfbf; text-decoration-color: #7fbfbf\">[03/23/24 13:03:01] </span><span style=\"color: #000080; text-decoration-color: #000080\">INFO    </span> Scraping game schedule for Tuesday, Jan <span style=\"color: #008080; text-decoration-color: #008080; font-weight: bold\">30</span> <span style=\"color: #008080; text-decoration-color: #008080; font-weight: bold\">2024</span>                       <span style=\"color: #7f7f7f; text-decoration-color: #7f7f7f\">whoscored.py:328</span>\n",
       "</pre>\n"
      ],
      "text/plain": [
       "\u001b[2;36m[03/23/24 13:03:01]\u001b[0m\u001b[2;36m \u001b[0m\u001b[34mINFO    \u001b[0m Scraping game schedule for Tuesday, Jan \u001b[1;36m30\u001b[0m \u001b[1;36m2024\u001b[0m                       \u001b[2mwhoscored.py\u001b[0m\u001b[2m:\u001b[0m\u001b[2m328\u001b[0m\n"
      ]
     },
     "metadata": {},
     "output_type": "display_data"
    },
    {
     "data": {
      "text/html": [
       "<pre style=\"white-space:pre;overflow-x:auto;line-height:normal;font-family:Menlo,'DejaVu Sans Mono',consolas,'Courier New',monospace\"><span style=\"color: #7fbfbf; text-decoration-color: #7fbfbf\">                    </span><span style=\"color: #000080; text-decoration-color: #000080\">INFO    </span> Scraping game schedule for Wednesday, Jan <span style=\"color: #008080; text-decoration-color: #008080; font-weight: bold\">31</span> <span style=\"color: #008080; text-decoration-color: #008080; font-weight: bold\">2024</span>                     <span style=\"color: #7f7f7f; text-decoration-color: #7f7f7f\">whoscored.py:328</span>\n",
       "</pre>\n"
      ],
      "text/plain": [
       "\u001b[2;36m                   \u001b[0m\u001b[2;36m \u001b[0m\u001b[34mINFO    \u001b[0m Scraping game schedule for Wednesday, Jan \u001b[1;36m31\u001b[0m \u001b[1;36m2024\u001b[0m                     \u001b[2mwhoscored.py\u001b[0m\u001b[2m:\u001b[0m\u001b[2m328\u001b[0m\n"
      ]
     },
     "metadata": {},
     "output_type": "display_data"
    },
    {
     "data": {
      "text/html": [
       "<pre style=\"white-space:pre;overflow-x:auto;line-height:normal;font-family:Menlo,'DejaVu Sans Mono',consolas,'Courier New',monospace\"><span style=\"color: #7fbfbf; text-decoration-color: #7fbfbf\">[03/23/24 13:03:06] </span><span style=\"color: #000080; text-decoration-color: #000080\">INFO    </span> Scraping game schedule for Saturday, Dec <span style=\"color: #008080; text-decoration-color: #008080; font-weight: bold\">2</span> <span style=\"color: #008080; text-decoration-color: #008080; font-weight: bold\">2023</span>                       <span style=\"color: #7f7f7f; text-decoration-color: #7f7f7f\">whoscored.py:328</span>\n",
       "</pre>\n"
      ],
      "text/plain": [
       "\u001b[2;36m[03/23/24 13:03:06]\u001b[0m\u001b[2;36m \u001b[0m\u001b[34mINFO    \u001b[0m Scraping game schedule for Saturday, Dec \u001b[1;36m2\u001b[0m \u001b[1;36m2023\u001b[0m                       \u001b[2mwhoscored.py\u001b[0m\u001b[2m:\u001b[0m\u001b[2m328\u001b[0m\n"
      ]
     },
     "metadata": {},
     "output_type": "display_data"
    },
    {
     "data": {
      "text/html": [
       "<pre style=\"white-space:pre;overflow-x:auto;line-height:normal;font-family:Menlo,'DejaVu Sans Mono',consolas,'Courier New',monospace\"><span style=\"color: #7fbfbf; text-decoration-color: #7fbfbf\">[03/23/24 13:03:07] </span><span style=\"color: #000080; text-decoration-color: #000080\">INFO    </span> Scraping game schedule for Sunday, Dec <span style=\"color: #008080; text-decoration-color: #008080; font-weight: bold\">3</span> <span style=\"color: #008080; text-decoration-color: #008080; font-weight: bold\">2023</span>                         <span style=\"color: #7f7f7f; text-decoration-color: #7f7f7f\">whoscored.py:328</span>\n",
       "</pre>\n"
      ],
      "text/plain": [
       "\u001b[2;36m[03/23/24 13:03:07]\u001b[0m\u001b[2;36m \u001b[0m\u001b[34mINFO    \u001b[0m Scraping game schedule for Sunday, Dec \u001b[1;36m3\u001b[0m \u001b[1;36m2023\u001b[0m                         \u001b[2mwhoscored.py\u001b[0m\u001b[2m:\u001b[0m\u001b[2m328\u001b[0m\n"
      ]
     },
     "metadata": {},
     "output_type": "display_data"
    },
    {
     "data": {
      "text/html": [
       "<pre style=\"white-space:pre;overflow-x:auto;line-height:normal;font-family:Menlo,'DejaVu Sans Mono',consolas,'Courier New',monospace\"><span style=\"color: #7fbfbf; text-decoration-color: #7fbfbf\">[03/23/24 13:03:08] </span><span style=\"color: #000080; text-decoration-color: #000080\">INFO    </span> Scraping game schedule for Tuesday, Dec <span style=\"color: #008080; text-decoration-color: #008080; font-weight: bold\">5</span> <span style=\"color: #008080; text-decoration-color: #008080; font-weight: bold\">2023</span>                        <span style=\"color: #7f7f7f; text-decoration-color: #7f7f7f\">whoscored.py:328</span>\n",
       "</pre>\n"
      ],
      "text/plain": [
       "\u001b[2;36m[03/23/24 13:03:08]\u001b[0m\u001b[2;36m \u001b[0m\u001b[34mINFO    \u001b[0m Scraping game schedule for Tuesday, Dec \u001b[1;36m5\u001b[0m \u001b[1;36m2023\u001b[0m                        \u001b[2mwhoscored.py\u001b[0m\u001b[2m:\u001b[0m\u001b[2m328\u001b[0m\n"
      ]
     },
     "metadata": {},
     "output_type": "display_data"
    },
    {
     "data": {
      "text/html": [
       "<pre style=\"white-space:pre;overflow-x:auto;line-height:normal;font-family:Menlo,'DejaVu Sans Mono',consolas,'Courier New',monospace\"><span style=\"color: #7fbfbf; text-decoration-color: #7fbfbf\">[03/23/24 13:03:09] </span><span style=\"color: #000080; text-decoration-color: #000080\">INFO    </span> Scraping game schedule for Wednesday, Dec <span style=\"color: #008080; text-decoration-color: #008080; font-weight: bold\">6</span> <span style=\"color: #008080; text-decoration-color: #008080; font-weight: bold\">2023</span>                      <span style=\"color: #7f7f7f; text-decoration-color: #7f7f7f\">whoscored.py:328</span>\n",
       "</pre>\n"
      ],
      "text/plain": [
       "\u001b[2;36m[03/23/24 13:03:09]\u001b[0m\u001b[2;36m \u001b[0m\u001b[34mINFO    \u001b[0m Scraping game schedule for Wednesday, Dec \u001b[1;36m6\u001b[0m \u001b[1;36m2023\u001b[0m                      \u001b[2mwhoscored.py\u001b[0m\u001b[2m:\u001b[0m\u001b[2m328\u001b[0m\n"
      ]
     },
     "metadata": {},
     "output_type": "display_data"
    },
    {
     "data": {
      "text/html": [
       "<pre style=\"white-space:pre;overflow-x:auto;line-height:normal;font-family:Menlo,'DejaVu Sans Mono',consolas,'Courier New',monospace\"><span style=\"color: #7fbfbf; text-decoration-color: #7fbfbf\">                    </span><span style=\"color: #000080; text-decoration-color: #000080\">INFO    </span> Scraping game schedule for Thursday, Dec <span style=\"color: #008080; text-decoration-color: #008080; font-weight: bold\">7</span> <span style=\"color: #008080; text-decoration-color: #008080; font-weight: bold\">2023</span>                       <span style=\"color: #7f7f7f; text-decoration-color: #7f7f7f\">whoscored.py:328</span>\n",
       "</pre>\n"
      ],
      "text/plain": [
       "\u001b[2;36m                   \u001b[0m\u001b[2;36m \u001b[0m\u001b[34mINFO    \u001b[0m Scraping game schedule for Thursday, Dec \u001b[1;36m7\u001b[0m \u001b[1;36m2023\u001b[0m                       \u001b[2mwhoscored.py\u001b[0m\u001b[2m:\u001b[0m\u001b[2m328\u001b[0m\n"
      ]
     },
     "metadata": {},
     "output_type": "display_data"
    },
    {
     "data": {
      "text/html": [
       "<pre style=\"white-space:pre;overflow-x:auto;line-height:normal;font-family:Menlo,'DejaVu Sans Mono',consolas,'Courier New',monospace\"><span style=\"color: #7fbfbf; text-decoration-color: #7fbfbf\">                    </span><span style=\"color: #000080; text-decoration-color: #000080\">INFO    </span> Scraping game schedule for Saturday, Dec <span style=\"color: #008080; text-decoration-color: #008080; font-weight: bold\">9</span> <span style=\"color: #008080; text-decoration-color: #008080; font-weight: bold\">2023</span>                       <span style=\"color: #7f7f7f; text-decoration-color: #7f7f7f\">whoscored.py:328</span>\n",
       "</pre>\n"
      ],
      "text/plain": [
       "\u001b[2;36m                   \u001b[0m\u001b[2;36m \u001b[0m\u001b[34mINFO    \u001b[0m Scraping game schedule for Saturday, Dec \u001b[1;36m9\u001b[0m \u001b[1;36m2023\u001b[0m                       \u001b[2mwhoscored.py\u001b[0m\u001b[2m:\u001b[0m\u001b[2m328\u001b[0m\n"
      ]
     },
     "metadata": {},
     "output_type": "display_data"
    },
    {
     "data": {
      "text/html": [
       "<pre style=\"white-space:pre;overflow-x:auto;line-height:normal;font-family:Menlo,'DejaVu Sans Mono',consolas,'Courier New',monospace\"><span style=\"color: #7fbfbf; text-decoration-color: #7fbfbf\">[03/23/24 13:03:10] </span><span style=\"color: #000080; text-decoration-color: #000080\">INFO    </span> Scraping game schedule for Sunday, Dec <span style=\"color: #008080; text-decoration-color: #008080; font-weight: bold\">10</span> <span style=\"color: #008080; text-decoration-color: #008080; font-weight: bold\">2023</span>                        <span style=\"color: #7f7f7f; text-decoration-color: #7f7f7f\">whoscored.py:328</span>\n",
       "</pre>\n"
      ],
      "text/plain": [
       "\u001b[2;36m[03/23/24 13:03:10]\u001b[0m\u001b[2;36m \u001b[0m\u001b[34mINFO    \u001b[0m Scraping game schedule for Sunday, Dec \u001b[1;36m10\u001b[0m \u001b[1;36m2023\u001b[0m                        \u001b[2mwhoscored.py\u001b[0m\u001b[2m:\u001b[0m\u001b[2m328\u001b[0m\n"
      ]
     },
     "metadata": {},
     "output_type": "display_data"
    },
    {
     "data": {
      "text/html": [
       "<pre style=\"white-space:pre;overflow-x:auto;line-height:normal;font-family:Menlo,'DejaVu Sans Mono',consolas,'Courier New',monospace\"><span style=\"color: #7fbfbf; text-decoration-color: #7fbfbf\">[03/23/24 13:03:11] </span><span style=\"color: #000080; text-decoration-color: #000080\">INFO    </span> Scraping game schedule for Friday, Dec <span style=\"color: #008080; text-decoration-color: #008080; font-weight: bold\">15</span> <span style=\"color: #008080; text-decoration-color: #008080; font-weight: bold\">2023</span>                        <span style=\"color: #7f7f7f; text-decoration-color: #7f7f7f\">whoscored.py:328</span>\n",
       "</pre>\n"
      ],
      "text/plain": [
       "\u001b[2;36m[03/23/24 13:03:11]\u001b[0m\u001b[2;36m \u001b[0m\u001b[34mINFO    \u001b[0m Scraping game schedule for Friday, Dec \u001b[1;36m15\u001b[0m \u001b[1;36m2023\u001b[0m                        \u001b[2mwhoscored.py\u001b[0m\u001b[2m:\u001b[0m\u001b[2m328\u001b[0m\n"
      ]
     },
     "metadata": {},
     "output_type": "display_data"
    },
    {
     "data": {
      "text/html": [
       "<pre style=\"white-space:pre;overflow-x:auto;line-height:normal;font-family:Menlo,'DejaVu Sans Mono',consolas,'Courier New',monospace\"><span style=\"color: #7fbfbf; text-decoration-color: #7fbfbf\">                    </span><span style=\"color: #000080; text-decoration-color: #000080\">INFO    </span> Scraping game schedule for Saturday, Dec <span style=\"color: #008080; text-decoration-color: #008080; font-weight: bold\">16</span> <span style=\"color: #008080; text-decoration-color: #008080; font-weight: bold\">2023</span>                      <span style=\"color: #7f7f7f; text-decoration-color: #7f7f7f\">whoscored.py:328</span>\n",
       "</pre>\n"
      ],
      "text/plain": [
       "\u001b[2;36m                   \u001b[0m\u001b[2;36m \u001b[0m\u001b[34mINFO    \u001b[0m Scraping game schedule for Saturday, Dec \u001b[1;36m16\u001b[0m \u001b[1;36m2023\u001b[0m                      \u001b[2mwhoscored.py\u001b[0m\u001b[2m:\u001b[0m\u001b[2m328\u001b[0m\n"
      ]
     },
     "metadata": {},
     "output_type": "display_data"
    },
    {
     "data": {
      "text/html": [
       "<pre style=\"white-space:pre;overflow-x:auto;line-height:normal;font-family:Menlo,'DejaVu Sans Mono',consolas,'Courier New',monospace\"><span style=\"color: #7fbfbf; text-decoration-color: #7fbfbf\">                    </span><span style=\"color: #000080; text-decoration-color: #000080\">INFO    </span> Scraping game schedule for Sunday, Dec <span style=\"color: #008080; text-decoration-color: #008080; font-weight: bold\">17</span> <span style=\"color: #008080; text-decoration-color: #008080; font-weight: bold\">2023</span>                        <span style=\"color: #7f7f7f; text-decoration-color: #7f7f7f\">whoscored.py:328</span>\n",
       "</pre>\n"
      ],
      "text/plain": [
       "\u001b[2;36m                   \u001b[0m\u001b[2;36m \u001b[0m\u001b[34mINFO    \u001b[0m Scraping game schedule for Sunday, Dec \u001b[1;36m17\u001b[0m \u001b[1;36m2023\u001b[0m                        \u001b[2mwhoscored.py\u001b[0m\u001b[2m:\u001b[0m\u001b[2m328\u001b[0m\n"
      ]
     },
     "metadata": {},
     "output_type": "display_data"
    },
    {
     "data": {
      "text/html": [
       "<pre style=\"white-space:pre;overflow-x:auto;line-height:normal;font-family:Menlo,'DejaVu Sans Mono',consolas,'Courier New',monospace\"><span style=\"color: #7fbfbf; text-decoration-color: #7fbfbf\">                    </span><span style=\"color: #000080; text-decoration-color: #000080\">INFO    </span> Scraping game schedule for Thursday, Dec <span style=\"color: #008080; text-decoration-color: #008080; font-weight: bold\">21</span> <span style=\"color: #008080; text-decoration-color: #008080; font-weight: bold\">2023</span>                      <span style=\"color: #7f7f7f; text-decoration-color: #7f7f7f\">whoscored.py:328</span>\n",
       "</pre>\n"
      ],
      "text/plain": [
       "\u001b[2;36m                   \u001b[0m\u001b[2;36m \u001b[0m\u001b[34mINFO    \u001b[0m Scraping game schedule for Thursday, Dec \u001b[1;36m21\u001b[0m \u001b[1;36m2023\u001b[0m                      \u001b[2mwhoscored.py\u001b[0m\u001b[2m:\u001b[0m\u001b[2m328\u001b[0m\n"
      ]
     },
     "metadata": {},
     "output_type": "display_data"
    },
    {
     "data": {
      "text/html": [
       "<pre style=\"white-space:pre;overflow-x:auto;line-height:normal;font-family:Menlo,'DejaVu Sans Mono',consolas,'Courier New',monospace\"><span style=\"color: #7fbfbf; text-decoration-color: #7fbfbf\">[03/23/24 13:03:12] </span><span style=\"color: #000080; text-decoration-color: #000080\">INFO    </span> Scraping game schedule for Friday, Dec <span style=\"color: #008080; text-decoration-color: #008080; font-weight: bold\">22</span> <span style=\"color: #008080; text-decoration-color: #008080; font-weight: bold\">2023</span>                        <span style=\"color: #7f7f7f; text-decoration-color: #7f7f7f\">whoscored.py:328</span>\n",
       "</pre>\n"
      ],
      "text/plain": [
       "\u001b[2;36m[03/23/24 13:03:12]\u001b[0m\u001b[2;36m \u001b[0m\u001b[34mINFO    \u001b[0m Scraping game schedule for Friday, Dec \u001b[1;36m22\u001b[0m \u001b[1;36m2023\u001b[0m                        \u001b[2mwhoscored.py\u001b[0m\u001b[2m:\u001b[0m\u001b[2m328\u001b[0m\n"
      ]
     },
     "metadata": {},
     "output_type": "display_data"
    },
    {
     "data": {
      "text/html": [
       "<pre style=\"white-space:pre;overflow-x:auto;line-height:normal;font-family:Menlo,'DejaVu Sans Mono',consolas,'Courier New',monospace\"><span style=\"color: #7fbfbf; text-decoration-color: #7fbfbf\">                    </span><span style=\"color: #000080; text-decoration-color: #000080\">INFO    </span> Scraping game schedule for Saturday, Dec <span style=\"color: #008080; text-decoration-color: #008080; font-weight: bold\">23</span> <span style=\"color: #008080; text-decoration-color: #008080; font-weight: bold\">2023</span>                      <span style=\"color: #7f7f7f; text-decoration-color: #7f7f7f\">whoscored.py:328</span>\n",
       "</pre>\n"
      ],
      "text/plain": [
       "\u001b[2;36m                   \u001b[0m\u001b[2;36m \u001b[0m\u001b[34mINFO    \u001b[0m Scraping game schedule for Saturday, Dec \u001b[1;36m23\u001b[0m \u001b[1;36m2023\u001b[0m                      \u001b[2mwhoscored.py\u001b[0m\u001b[2m:\u001b[0m\u001b[2m328\u001b[0m\n"
      ]
     },
     "metadata": {},
     "output_type": "display_data"
    },
    {
     "data": {
      "text/html": [
       "<pre style=\"white-space:pre;overflow-x:auto;line-height:normal;font-family:Menlo,'DejaVu Sans Mono',consolas,'Courier New',monospace\"><span style=\"color: #7fbfbf; text-decoration-color: #7fbfbf\">                    </span><span style=\"color: #000080; text-decoration-color: #000080\">INFO    </span> Scraping game schedule for Sunday, Dec <span style=\"color: #008080; text-decoration-color: #008080; font-weight: bold\">24</span> <span style=\"color: #008080; text-decoration-color: #008080; font-weight: bold\">2023</span>                        <span style=\"color: #7f7f7f; text-decoration-color: #7f7f7f\">whoscored.py:328</span>\n",
       "</pre>\n"
      ],
      "text/plain": [
       "\u001b[2;36m                   \u001b[0m\u001b[2;36m \u001b[0m\u001b[34mINFO    \u001b[0m Scraping game schedule for Sunday, Dec \u001b[1;36m24\u001b[0m \u001b[1;36m2023\u001b[0m                        \u001b[2mwhoscored.py\u001b[0m\u001b[2m:\u001b[0m\u001b[2m328\u001b[0m\n"
      ]
     },
     "metadata": {},
     "output_type": "display_data"
    },
    {
     "data": {
      "text/html": [
       "<pre style=\"white-space:pre;overflow-x:auto;line-height:normal;font-family:Menlo,'DejaVu Sans Mono',consolas,'Courier New',monospace\"><span style=\"color: #7fbfbf; text-decoration-color: #7fbfbf\">[03/23/24 13:03:13] </span><span style=\"color: #000080; text-decoration-color: #000080\">INFO    </span> Scraping game schedule for Tuesday, Dec <span style=\"color: #008080; text-decoration-color: #008080; font-weight: bold\">26</span> <span style=\"color: #008080; text-decoration-color: #008080; font-weight: bold\">2023</span>                       <span style=\"color: #7f7f7f; text-decoration-color: #7f7f7f\">whoscored.py:328</span>\n",
       "</pre>\n"
      ],
      "text/plain": [
       "\u001b[2;36m[03/23/24 13:03:13]\u001b[0m\u001b[2;36m \u001b[0m\u001b[34mINFO    \u001b[0m Scraping game schedule for Tuesday, Dec \u001b[1;36m26\u001b[0m \u001b[1;36m2023\u001b[0m                       \u001b[2mwhoscored.py\u001b[0m\u001b[2m:\u001b[0m\u001b[2m328\u001b[0m\n"
      ]
     },
     "metadata": {},
     "output_type": "display_data"
    },
    {
     "data": {
      "text/html": [
       "<pre style=\"white-space:pre;overflow-x:auto;line-height:normal;font-family:Menlo,'DejaVu Sans Mono',consolas,'Courier New',monospace\"><span style=\"color: #7fbfbf; text-decoration-color: #7fbfbf\">                    </span><span style=\"color: #000080; text-decoration-color: #000080\">INFO    </span> Scraping game schedule for Wednesday, Dec <span style=\"color: #008080; text-decoration-color: #008080; font-weight: bold\">27</span> <span style=\"color: #008080; text-decoration-color: #008080; font-weight: bold\">2023</span>                     <span style=\"color: #7f7f7f; text-decoration-color: #7f7f7f\">whoscored.py:328</span>\n",
       "</pre>\n"
      ],
      "text/plain": [
       "\u001b[2;36m                   \u001b[0m\u001b[2;36m \u001b[0m\u001b[34mINFO    \u001b[0m Scraping game schedule for Wednesday, Dec \u001b[1;36m27\u001b[0m \u001b[1;36m2023\u001b[0m                     \u001b[2mwhoscored.py\u001b[0m\u001b[2m:\u001b[0m\u001b[2m328\u001b[0m\n"
      ]
     },
     "metadata": {},
     "output_type": "display_data"
    },
    {
     "data": {
      "text/html": [
       "<pre style=\"white-space:pre;overflow-x:auto;line-height:normal;font-family:Menlo,'DejaVu Sans Mono',consolas,'Courier New',monospace\"><span style=\"color: #7fbfbf; text-decoration-color: #7fbfbf\">[03/23/24 13:03:14] </span><span style=\"color: #000080; text-decoration-color: #000080\">INFO    </span> Scraping game schedule for Thursday, Dec <span style=\"color: #008080; text-decoration-color: #008080; font-weight: bold\">28</span> <span style=\"color: #008080; text-decoration-color: #008080; font-weight: bold\">2023</span>                      <span style=\"color: #7f7f7f; text-decoration-color: #7f7f7f\">whoscored.py:328</span>\n",
       "</pre>\n"
      ],
      "text/plain": [
       "\u001b[2;36m[03/23/24 13:03:14]\u001b[0m\u001b[2;36m \u001b[0m\u001b[34mINFO    \u001b[0m Scraping game schedule for Thursday, Dec \u001b[1;36m28\u001b[0m \u001b[1;36m2023\u001b[0m                      \u001b[2mwhoscored.py\u001b[0m\u001b[2m:\u001b[0m\u001b[2m328\u001b[0m\n"
      ]
     },
     "metadata": {},
     "output_type": "display_data"
    },
    {
     "data": {
      "text/html": [
       "<pre style=\"white-space:pre;overflow-x:auto;line-height:normal;font-family:Menlo,'DejaVu Sans Mono',consolas,'Courier New',monospace\"><span style=\"color: #7fbfbf; text-decoration-color: #7fbfbf\">                    </span><span style=\"color: #000080; text-decoration-color: #000080\">INFO    </span> Scraping game schedule for Saturday, Dec <span style=\"color: #008080; text-decoration-color: #008080; font-weight: bold\">30</span> <span style=\"color: #008080; text-decoration-color: #008080; font-weight: bold\">2023</span>                      <span style=\"color: #7f7f7f; text-decoration-color: #7f7f7f\">whoscored.py:328</span>\n",
       "</pre>\n"
      ],
      "text/plain": [
       "\u001b[2;36m                   \u001b[0m\u001b[2;36m \u001b[0m\u001b[34mINFO    \u001b[0m Scraping game schedule for Saturday, Dec \u001b[1;36m30\u001b[0m \u001b[1;36m2023\u001b[0m                      \u001b[2mwhoscored.py\u001b[0m\u001b[2m:\u001b[0m\u001b[2m328\u001b[0m\n"
      ]
     },
     "metadata": {},
     "output_type": "display_data"
    },
    {
     "data": {
      "text/html": [
       "<pre style=\"white-space:pre;overflow-x:auto;line-height:normal;font-family:Menlo,'DejaVu Sans Mono',consolas,'Courier New',monospace\"><span style=\"color: #7fbfbf; text-decoration-color: #7fbfbf\">[03/23/24 13:03:15] </span><span style=\"color: #000080; text-decoration-color: #000080\">INFO    </span> Scraping game schedule for Sunday, Dec <span style=\"color: #008080; text-decoration-color: #008080; font-weight: bold\">31</span> <span style=\"color: #008080; text-decoration-color: #008080; font-weight: bold\">2023</span>                        <span style=\"color: #7f7f7f; text-decoration-color: #7f7f7f\">whoscored.py:328</span>\n",
       "</pre>\n"
      ],
      "text/plain": [
       "\u001b[2;36m[03/23/24 13:03:15]\u001b[0m\u001b[2;36m \u001b[0m\u001b[34mINFO    \u001b[0m Scraping game schedule for Sunday, Dec \u001b[1;36m31\u001b[0m \u001b[1;36m2023\u001b[0m                        \u001b[2mwhoscored.py\u001b[0m\u001b[2m:\u001b[0m\u001b[2m328\u001b[0m\n"
      ]
     },
     "metadata": {},
     "output_type": "display_data"
    },
    {
     "data": {
      "text/html": [
       "<pre style=\"white-space:pre;overflow-x:auto;line-height:normal;font-family:Menlo,'DejaVu Sans Mono',consolas,'Courier New',monospace\"><span style=\"color: #7fbfbf; text-decoration-color: #7fbfbf\">[03/23/24 13:03:21] </span><span style=\"color: #000080; text-decoration-color: #000080\">INFO    </span> Scraping game schedule for Saturday, Nov <span style=\"color: #008080; text-decoration-color: #008080; font-weight: bold\">4</span> <span style=\"color: #008080; text-decoration-color: #008080; font-weight: bold\">2023</span>                       <span style=\"color: #7f7f7f; text-decoration-color: #7f7f7f\">whoscored.py:328</span>\n",
       "</pre>\n"
      ],
      "text/plain": [
       "\u001b[2;36m[03/23/24 13:03:21]\u001b[0m\u001b[2;36m \u001b[0m\u001b[34mINFO    \u001b[0m Scraping game schedule for Saturday, Nov \u001b[1;36m4\u001b[0m \u001b[1;36m2023\u001b[0m                       \u001b[2mwhoscored.py\u001b[0m\u001b[2m:\u001b[0m\u001b[2m328\u001b[0m\n"
      ]
     },
     "metadata": {},
     "output_type": "display_data"
    },
    {
     "data": {
      "text/html": [
       "<pre style=\"white-space:pre;overflow-x:auto;line-height:normal;font-family:Menlo,'DejaVu Sans Mono',consolas,'Courier New',monospace\"><span style=\"color: #7fbfbf; text-decoration-color: #7fbfbf\">                    </span><span style=\"color: #000080; text-decoration-color: #000080\">INFO    </span> Scraping game schedule for Sunday, Nov <span style=\"color: #008080; text-decoration-color: #008080; font-weight: bold\">5</span> <span style=\"color: #008080; text-decoration-color: #008080; font-weight: bold\">2023</span>                         <span style=\"color: #7f7f7f; text-decoration-color: #7f7f7f\">whoscored.py:328</span>\n",
       "</pre>\n"
      ],
      "text/plain": [
       "\u001b[2;36m                   \u001b[0m\u001b[2;36m \u001b[0m\u001b[34mINFO    \u001b[0m Scraping game schedule for Sunday, Nov \u001b[1;36m5\u001b[0m \u001b[1;36m2023\u001b[0m                         \u001b[2mwhoscored.py\u001b[0m\u001b[2m:\u001b[0m\u001b[2m328\u001b[0m\n"
      ]
     },
     "metadata": {},
     "output_type": "display_data"
    },
    {
     "data": {
      "text/html": [
       "<pre style=\"white-space:pre;overflow-x:auto;line-height:normal;font-family:Menlo,'DejaVu Sans Mono',consolas,'Courier New',monospace\"><span style=\"color: #7fbfbf; text-decoration-color: #7fbfbf\">                    </span><span style=\"color: #000080; text-decoration-color: #000080\">INFO    </span> Scraping game schedule for Monday, Nov <span style=\"color: #008080; text-decoration-color: #008080; font-weight: bold\">6</span> <span style=\"color: #008080; text-decoration-color: #008080; font-weight: bold\">2023</span>                         <span style=\"color: #7f7f7f; text-decoration-color: #7f7f7f\">whoscored.py:328</span>\n",
       "</pre>\n"
      ],
      "text/plain": [
       "\u001b[2;36m                   \u001b[0m\u001b[2;36m \u001b[0m\u001b[34mINFO    \u001b[0m Scraping game schedule for Monday, Nov \u001b[1;36m6\u001b[0m \u001b[1;36m2023\u001b[0m                         \u001b[2mwhoscored.py\u001b[0m\u001b[2m:\u001b[0m\u001b[2m328\u001b[0m\n"
      ]
     },
     "metadata": {},
     "output_type": "display_data"
    },
    {
     "data": {
      "text/html": [
       "<pre style=\"white-space:pre;overflow-x:auto;line-height:normal;font-family:Menlo,'DejaVu Sans Mono',consolas,'Courier New',monospace\"><span style=\"color: #7fbfbf; text-decoration-color: #7fbfbf\">[03/23/24 13:03:22] </span><span style=\"color: #000080; text-decoration-color: #000080\">INFO    </span> Scraping game schedule for Saturday, Nov <span style=\"color: #008080; text-decoration-color: #008080; font-weight: bold\">11</span> <span style=\"color: #008080; text-decoration-color: #008080; font-weight: bold\">2023</span>                      <span style=\"color: #7f7f7f; text-decoration-color: #7f7f7f\">whoscored.py:328</span>\n",
       "</pre>\n"
      ],
      "text/plain": [
       "\u001b[2;36m[03/23/24 13:03:22]\u001b[0m\u001b[2;36m \u001b[0m\u001b[34mINFO    \u001b[0m Scraping game schedule for Saturday, Nov \u001b[1;36m11\u001b[0m \u001b[1;36m2023\u001b[0m                      \u001b[2mwhoscored.py\u001b[0m\u001b[2m:\u001b[0m\u001b[2m328\u001b[0m\n"
      ]
     },
     "metadata": {},
     "output_type": "display_data"
    },
    {
     "data": {
      "text/html": [
       "<pre style=\"white-space:pre;overflow-x:auto;line-height:normal;font-family:Menlo,'DejaVu Sans Mono',consolas,'Courier New',monospace\"><span style=\"color: #7fbfbf; text-decoration-color: #7fbfbf\">                    </span><span style=\"color: #000080; text-decoration-color: #000080\">INFO    </span> Scraping game schedule for Sunday, Nov <span style=\"color: #008080; text-decoration-color: #008080; font-weight: bold\">12</span> <span style=\"color: #008080; text-decoration-color: #008080; font-weight: bold\">2023</span>                        <span style=\"color: #7f7f7f; text-decoration-color: #7f7f7f\">whoscored.py:328</span>\n",
       "</pre>\n"
      ],
      "text/plain": [
       "\u001b[2;36m                   \u001b[0m\u001b[2;36m \u001b[0m\u001b[34mINFO    \u001b[0m Scraping game schedule for Sunday, Nov \u001b[1;36m12\u001b[0m \u001b[1;36m2023\u001b[0m                        \u001b[2mwhoscored.py\u001b[0m\u001b[2m:\u001b[0m\u001b[2m328\u001b[0m\n"
      ]
     },
     "metadata": {},
     "output_type": "display_data"
    },
    {
     "data": {
      "text/html": [
       "<pre style=\"white-space:pre;overflow-x:auto;line-height:normal;font-family:Menlo,'DejaVu Sans Mono',consolas,'Courier New',monospace\"><span style=\"color: #7fbfbf; text-decoration-color: #7fbfbf\">                    </span><span style=\"color: #000080; text-decoration-color: #000080\">INFO    </span> Scraping game schedule for Saturday, Nov <span style=\"color: #008080; text-decoration-color: #008080; font-weight: bold\">25</span> <span style=\"color: #008080; text-decoration-color: #008080; font-weight: bold\">2023</span>                      <span style=\"color: #7f7f7f; text-decoration-color: #7f7f7f\">whoscored.py:328</span>\n",
       "</pre>\n"
      ],
      "text/plain": [
       "\u001b[2;36m                   \u001b[0m\u001b[2;36m \u001b[0m\u001b[34mINFO    \u001b[0m Scraping game schedule for Saturday, Nov \u001b[1;36m25\u001b[0m \u001b[1;36m2023\u001b[0m                      \u001b[2mwhoscored.py\u001b[0m\u001b[2m:\u001b[0m\u001b[2m328\u001b[0m\n"
      ]
     },
     "metadata": {},
     "output_type": "display_data"
    },
    {
     "data": {
      "text/html": [
       "<pre style=\"white-space:pre;overflow-x:auto;line-height:normal;font-family:Menlo,'DejaVu Sans Mono',consolas,'Courier New',monospace\"><span style=\"color: #7fbfbf; text-decoration-color: #7fbfbf\">[03/23/24 13:03:23] </span><span style=\"color: #000080; text-decoration-color: #000080\">INFO    </span> Scraping game schedule for Sunday, Nov <span style=\"color: #008080; text-decoration-color: #008080; font-weight: bold\">26</span> <span style=\"color: #008080; text-decoration-color: #008080; font-weight: bold\">2023</span>                        <span style=\"color: #7f7f7f; text-decoration-color: #7f7f7f\">whoscored.py:328</span>\n",
       "</pre>\n"
      ],
      "text/plain": [
       "\u001b[2;36m[03/23/24 13:03:23]\u001b[0m\u001b[2;36m \u001b[0m\u001b[34mINFO    \u001b[0m Scraping game schedule for Sunday, Nov \u001b[1;36m26\u001b[0m \u001b[1;36m2023\u001b[0m                        \u001b[2mwhoscored.py\u001b[0m\u001b[2m:\u001b[0m\u001b[2m328\u001b[0m\n"
      ]
     },
     "metadata": {},
     "output_type": "display_data"
    },
    {
     "data": {
      "text/html": [
       "<pre style=\"white-space:pre;overflow-x:auto;line-height:normal;font-family:Menlo,'DejaVu Sans Mono',consolas,'Courier New',monospace\"><span style=\"color: #7fbfbf; text-decoration-color: #7fbfbf\">                    </span><span style=\"color: #000080; text-decoration-color: #000080\">INFO    </span> Scraping game schedule for Monday, Nov <span style=\"color: #008080; text-decoration-color: #008080; font-weight: bold\">27</span> <span style=\"color: #008080; text-decoration-color: #008080; font-weight: bold\">2023</span>                        <span style=\"color: #7f7f7f; text-decoration-color: #7f7f7f\">whoscored.py:328</span>\n",
       "</pre>\n"
      ],
      "text/plain": [
       "\u001b[2;36m                   \u001b[0m\u001b[2;36m \u001b[0m\u001b[34mINFO    \u001b[0m Scraping game schedule for Monday, Nov \u001b[1;36m27\u001b[0m \u001b[1;36m2023\u001b[0m                        \u001b[2mwhoscored.py\u001b[0m\u001b[2m:\u001b[0m\u001b[2m328\u001b[0m\n"
      ]
     },
     "metadata": {},
     "output_type": "display_data"
    },
    {
     "data": {
      "text/html": [
       "<pre style=\"white-space:pre;overflow-x:auto;line-height:normal;font-family:Menlo,'DejaVu Sans Mono',consolas,'Courier New',monospace\"><span style=\"color: #7fbfbf; text-decoration-color: #7fbfbf\">[03/23/24 13:03:28] </span><span style=\"color: #000080; text-decoration-color: #000080\">INFO    </span> Scraping game schedule for Sunday, Oct <span style=\"color: #008080; text-decoration-color: #008080; font-weight: bold\">1</span> <span style=\"color: #008080; text-decoration-color: #008080; font-weight: bold\">2023</span>                         <span style=\"color: #7f7f7f; text-decoration-color: #7f7f7f\">whoscored.py:328</span>\n",
       "</pre>\n"
      ],
      "text/plain": [
       "\u001b[2;36m[03/23/24 13:03:28]\u001b[0m\u001b[2;36m \u001b[0m\u001b[34mINFO    \u001b[0m Scraping game schedule for Sunday, Oct \u001b[1;36m1\u001b[0m \u001b[1;36m2023\u001b[0m                         \u001b[2mwhoscored.py\u001b[0m\u001b[2m:\u001b[0m\u001b[2m328\u001b[0m\n"
      ]
     },
     "metadata": {},
     "output_type": "display_data"
    },
    {
     "data": {
      "text/html": [
       "<pre style=\"white-space:pre;overflow-x:auto;line-height:normal;font-family:Menlo,'DejaVu Sans Mono',consolas,'Courier New',monospace\"><span style=\"color: #7fbfbf; text-decoration-color: #7fbfbf\">[03/23/24 13:03:29] </span><span style=\"color: #000080; text-decoration-color: #000080\">INFO    </span> Scraping game schedule for Monday, Oct <span style=\"color: #008080; text-decoration-color: #008080; font-weight: bold\">2</span> <span style=\"color: #008080; text-decoration-color: #008080; font-weight: bold\">2023</span>                         <span style=\"color: #7f7f7f; text-decoration-color: #7f7f7f\">whoscored.py:328</span>\n",
       "</pre>\n"
      ],
      "text/plain": [
       "\u001b[2;36m[03/23/24 13:03:29]\u001b[0m\u001b[2;36m \u001b[0m\u001b[34mINFO    \u001b[0m Scraping game schedule for Monday, Oct \u001b[1;36m2\u001b[0m \u001b[1;36m2023\u001b[0m                         \u001b[2mwhoscored.py\u001b[0m\u001b[2m:\u001b[0m\u001b[2m328\u001b[0m\n"
      ]
     },
     "metadata": {},
     "output_type": "display_data"
    },
    {
     "data": {
      "text/html": [
       "<pre style=\"white-space:pre;overflow-x:auto;line-height:normal;font-family:Menlo,'DejaVu Sans Mono',consolas,'Courier New',monospace\"><span style=\"color: #7fbfbf; text-decoration-color: #7fbfbf\">                    </span><span style=\"color: #000080; text-decoration-color: #000080\">INFO    </span> Scraping game schedule for Tuesday, Oct <span style=\"color: #008080; text-decoration-color: #008080; font-weight: bold\">3</span> <span style=\"color: #008080; text-decoration-color: #008080; font-weight: bold\">2023</span>                        <span style=\"color: #7f7f7f; text-decoration-color: #7f7f7f\">whoscored.py:328</span>\n",
       "</pre>\n"
      ],
      "text/plain": [
       "\u001b[2;36m                   \u001b[0m\u001b[2;36m \u001b[0m\u001b[34mINFO    \u001b[0m Scraping game schedule for Tuesday, Oct \u001b[1;36m3\u001b[0m \u001b[1;36m2023\u001b[0m                        \u001b[2mwhoscored.py\u001b[0m\u001b[2m:\u001b[0m\u001b[2m328\u001b[0m\n"
      ]
     },
     "metadata": {},
     "output_type": "display_data"
    },
    {
     "data": {
      "text/html": [
       "<pre style=\"white-space:pre;overflow-x:auto;line-height:normal;font-family:Menlo,'DejaVu Sans Mono',consolas,'Courier New',monospace\"><span style=\"color: #7fbfbf; text-decoration-color: #7fbfbf\">                    </span><span style=\"color: #000080; text-decoration-color: #000080\">INFO    </span> Scraping game schedule for Saturday, Oct <span style=\"color: #008080; text-decoration-color: #008080; font-weight: bold\">7</span> <span style=\"color: #008080; text-decoration-color: #008080; font-weight: bold\">2023</span>                       <span style=\"color: #7f7f7f; text-decoration-color: #7f7f7f\">whoscored.py:328</span>\n",
       "</pre>\n"
      ],
      "text/plain": [
       "\u001b[2;36m                   \u001b[0m\u001b[2;36m \u001b[0m\u001b[34mINFO    \u001b[0m Scraping game schedule for Saturday, Oct \u001b[1;36m7\u001b[0m \u001b[1;36m2023\u001b[0m                       \u001b[2mwhoscored.py\u001b[0m\u001b[2m:\u001b[0m\u001b[2m328\u001b[0m\n"
      ]
     },
     "metadata": {},
     "output_type": "display_data"
    },
    {
     "data": {
      "text/html": [
       "<pre style=\"white-space:pre;overflow-x:auto;line-height:normal;font-family:Menlo,'DejaVu Sans Mono',consolas,'Courier New',monospace\"><span style=\"color: #7fbfbf; text-decoration-color: #7fbfbf\">                    </span><span style=\"color: #000080; text-decoration-color: #000080\">INFO    </span> Scraping game schedule for Sunday, Oct <span style=\"color: #008080; text-decoration-color: #008080; font-weight: bold\">8</span> <span style=\"color: #008080; text-decoration-color: #008080; font-weight: bold\">2023</span>                         <span style=\"color: #7f7f7f; text-decoration-color: #7f7f7f\">whoscored.py:328</span>\n",
       "</pre>\n"
      ],
      "text/plain": [
       "\u001b[2;36m                   \u001b[0m\u001b[2;36m \u001b[0m\u001b[34mINFO    \u001b[0m Scraping game schedule for Sunday, Oct \u001b[1;36m8\u001b[0m \u001b[1;36m2023\u001b[0m                         \u001b[2mwhoscored.py\u001b[0m\u001b[2m:\u001b[0m\u001b[2m328\u001b[0m\n"
      ]
     },
     "metadata": {},
     "output_type": "display_data"
    },
    {
     "data": {
      "text/html": [
       "<pre style=\"white-space:pre;overflow-x:auto;line-height:normal;font-family:Menlo,'DejaVu Sans Mono',consolas,'Courier New',monospace\"><span style=\"color: #7fbfbf; text-decoration-color: #7fbfbf\">[03/23/24 13:03:30] </span><span style=\"color: #000080; text-decoration-color: #000080\">INFO    </span> Scraping game schedule for Saturday, Oct <span style=\"color: #008080; text-decoration-color: #008080; font-weight: bold\">21</span> <span style=\"color: #008080; text-decoration-color: #008080; font-weight: bold\">2023</span>                      <span style=\"color: #7f7f7f; text-decoration-color: #7f7f7f\">whoscored.py:328</span>\n",
       "</pre>\n"
      ],
      "text/plain": [
       "\u001b[2;36m[03/23/24 13:03:30]\u001b[0m\u001b[2;36m \u001b[0m\u001b[34mINFO    \u001b[0m Scraping game schedule for Saturday, Oct \u001b[1;36m21\u001b[0m \u001b[1;36m2023\u001b[0m                      \u001b[2mwhoscored.py\u001b[0m\u001b[2m:\u001b[0m\u001b[2m328\u001b[0m\n"
      ]
     },
     "metadata": {},
     "output_type": "display_data"
    },
    {
     "data": {
      "text/html": [
       "<pre style=\"white-space:pre;overflow-x:auto;line-height:normal;font-family:Menlo,'DejaVu Sans Mono',consolas,'Courier New',monospace\"><span style=\"color: #7fbfbf; text-decoration-color: #7fbfbf\">                    </span><span style=\"color: #000080; text-decoration-color: #000080\">INFO    </span> Scraping game schedule for Sunday, Oct <span style=\"color: #008080; text-decoration-color: #008080; font-weight: bold\">22</span> <span style=\"color: #008080; text-decoration-color: #008080; font-weight: bold\">2023</span>                        <span style=\"color: #7f7f7f; text-decoration-color: #7f7f7f\">whoscored.py:328</span>\n",
       "</pre>\n"
      ],
      "text/plain": [
       "\u001b[2;36m                   \u001b[0m\u001b[2;36m \u001b[0m\u001b[34mINFO    \u001b[0m Scraping game schedule for Sunday, Oct \u001b[1;36m22\u001b[0m \u001b[1;36m2023\u001b[0m                        \u001b[2mwhoscored.py\u001b[0m\u001b[2m:\u001b[0m\u001b[2m328\u001b[0m\n"
      ]
     },
     "metadata": {},
     "output_type": "display_data"
    },
    {
     "data": {
      "text/html": [
       "<pre style=\"white-space:pre;overflow-x:auto;line-height:normal;font-family:Menlo,'DejaVu Sans Mono',consolas,'Courier New',monospace\"><span style=\"color: #7fbfbf; text-decoration-color: #7fbfbf\">[03/23/24 13:03:31] </span><span style=\"color: #000080; text-decoration-color: #000080\">INFO    </span> Scraping game schedule for Monday, Oct <span style=\"color: #008080; text-decoration-color: #008080; font-weight: bold\">23</span> <span style=\"color: #008080; text-decoration-color: #008080; font-weight: bold\">2023</span>                        <span style=\"color: #7f7f7f; text-decoration-color: #7f7f7f\">whoscored.py:328</span>\n",
       "</pre>\n"
      ],
      "text/plain": [
       "\u001b[2;36m[03/23/24 13:03:31]\u001b[0m\u001b[2;36m \u001b[0m\u001b[34mINFO    \u001b[0m Scraping game schedule for Monday, Oct \u001b[1;36m23\u001b[0m \u001b[1;36m2023\u001b[0m                        \u001b[2mwhoscored.py\u001b[0m\u001b[2m:\u001b[0m\u001b[2m328\u001b[0m\n"
      ]
     },
     "metadata": {},
     "output_type": "display_data"
    },
    {
     "data": {
      "text/html": [
       "<pre style=\"white-space:pre;overflow-x:auto;line-height:normal;font-family:Menlo,'DejaVu Sans Mono',consolas,'Courier New',monospace\"><span style=\"color: #7fbfbf; text-decoration-color: #7fbfbf\">                    </span><span style=\"color: #000080; text-decoration-color: #000080\">INFO    </span> Scraping game schedule for Friday, Oct <span style=\"color: #008080; text-decoration-color: #008080; font-weight: bold\">27</span> <span style=\"color: #008080; text-decoration-color: #008080; font-weight: bold\">2023</span>                        <span style=\"color: #7f7f7f; text-decoration-color: #7f7f7f\">whoscored.py:328</span>\n",
       "</pre>\n"
      ],
      "text/plain": [
       "\u001b[2;36m                   \u001b[0m\u001b[2;36m \u001b[0m\u001b[34mINFO    \u001b[0m Scraping game schedule for Friday, Oct \u001b[1;36m27\u001b[0m \u001b[1;36m2023\u001b[0m                        \u001b[2mwhoscored.py\u001b[0m\u001b[2m:\u001b[0m\u001b[2m328\u001b[0m\n"
      ]
     },
     "metadata": {},
     "output_type": "display_data"
    },
    {
     "data": {
      "text/html": [
       "<pre style=\"white-space:pre;overflow-x:auto;line-height:normal;font-family:Menlo,'DejaVu Sans Mono',consolas,'Courier New',monospace\"><span style=\"color: #7fbfbf; text-decoration-color: #7fbfbf\">                    </span><span style=\"color: #000080; text-decoration-color: #000080\">INFO    </span> Scraping game schedule for Saturday, Oct <span style=\"color: #008080; text-decoration-color: #008080; font-weight: bold\">28</span> <span style=\"color: #008080; text-decoration-color: #008080; font-weight: bold\">2023</span>                      <span style=\"color: #7f7f7f; text-decoration-color: #7f7f7f\">whoscored.py:328</span>\n",
       "</pre>\n"
      ],
      "text/plain": [
       "\u001b[2;36m                   \u001b[0m\u001b[2;36m \u001b[0m\u001b[34mINFO    \u001b[0m Scraping game schedule for Saturday, Oct \u001b[1;36m28\u001b[0m \u001b[1;36m2023\u001b[0m                      \u001b[2mwhoscored.py\u001b[0m\u001b[2m:\u001b[0m\u001b[2m328\u001b[0m\n"
      ]
     },
     "metadata": {},
     "output_type": "display_data"
    },
    {
     "data": {
      "text/html": [
       "<pre style=\"white-space:pre;overflow-x:auto;line-height:normal;font-family:Menlo,'DejaVu Sans Mono',consolas,'Courier New',monospace\"><span style=\"color: #7fbfbf; text-decoration-color: #7fbfbf\">                    </span><span style=\"color: #000080; text-decoration-color: #000080\">INFO    </span> Scraping game schedule for Sunday, Oct <span style=\"color: #008080; text-decoration-color: #008080; font-weight: bold\">29</span> <span style=\"color: #008080; text-decoration-color: #008080; font-weight: bold\">2023</span>                        <span style=\"color: #7f7f7f; text-decoration-color: #7f7f7f\">whoscored.py:328</span>\n",
       "</pre>\n"
      ],
      "text/plain": [
       "\u001b[2;36m                   \u001b[0m\u001b[2;36m \u001b[0m\u001b[34mINFO    \u001b[0m Scraping game schedule for Sunday, Oct \u001b[1;36m29\u001b[0m \u001b[1;36m2023\u001b[0m                        \u001b[2mwhoscored.py\u001b[0m\u001b[2m:\u001b[0m\u001b[2m328\u001b[0m\n"
      ]
     },
     "metadata": {},
     "output_type": "display_data"
    },
    {
     "data": {
      "text/html": [
       "<pre style=\"white-space:pre;overflow-x:auto;line-height:normal;font-family:Menlo,'DejaVu Sans Mono',consolas,'Courier New',monospace\"><span style=\"color: #7fbfbf; text-decoration-color: #7fbfbf\">[03/23/24 13:03:37] </span><span style=\"color: #000080; text-decoration-color: #000080\">INFO    </span> Scraping game schedule for Friday, Sep <span style=\"color: #008080; text-decoration-color: #008080; font-weight: bold\">1</span> <span style=\"color: #008080; text-decoration-color: #008080; font-weight: bold\">2023</span>                         <span style=\"color: #7f7f7f; text-decoration-color: #7f7f7f\">whoscored.py:328</span>\n",
       "</pre>\n"
      ],
      "text/plain": [
       "\u001b[2;36m[03/23/24 13:03:37]\u001b[0m\u001b[2;36m \u001b[0m\u001b[34mINFO    \u001b[0m Scraping game schedule for Friday, Sep \u001b[1;36m1\u001b[0m \u001b[1;36m2023\u001b[0m                         \u001b[2mwhoscored.py\u001b[0m\u001b[2m:\u001b[0m\u001b[2m328\u001b[0m\n"
      ]
     },
     "metadata": {},
     "output_type": "display_data"
    },
    {
     "data": {
      "text/html": [
       "<pre style=\"white-space:pre;overflow-x:auto;line-height:normal;font-family:Menlo,'DejaVu Sans Mono',consolas,'Courier New',monospace\"><span style=\"color: #7fbfbf; text-decoration-color: #7fbfbf\">                    </span><span style=\"color: #000080; text-decoration-color: #000080\">INFO    </span> Scraping game schedule for Saturday, Sep <span style=\"color: #008080; text-decoration-color: #008080; font-weight: bold\">2</span> <span style=\"color: #008080; text-decoration-color: #008080; font-weight: bold\">2023</span>                       <span style=\"color: #7f7f7f; text-decoration-color: #7f7f7f\">whoscored.py:328</span>\n",
       "</pre>\n"
      ],
      "text/plain": [
       "\u001b[2;36m                   \u001b[0m\u001b[2;36m \u001b[0m\u001b[34mINFO    \u001b[0m Scraping game schedule for Saturday, Sep \u001b[1;36m2\u001b[0m \u001b[1;36m2023\u001b[0m                       \u001b[2mwhoscored.py\u001b[0m\u001b[2m:\u001b[0m\u001b[2m328\u001b[0m\n"
      ]
     },
     "metadata": {},
     "output_type": "display_data"
    },
    {
     "data": {
      "text/html": [
       "<pre style=\"white-space:pre;overflow-x:auto;line-height:normal;font-family:Menlo,'DejaVu Sans Mono',consolas,'Courier New',monospace\"><span style=\"color: #7fbfbf; text-decoration-color: #7fbfbf\">                    </span><span style=\"color: #000080; text-decoration-color: #000080\">INFO    </span> Scraping game schedule for Sunday, Sep <span style=\"color: #008080; text-decoration-color: #008080; font-weight: bold\">3</span> <span style=\"color: #008080; text-decoration-color: #008080; font-weight: bold\">2023</span>                         <span style=\"color: #7f7f7f; text-decoration-color: #7f7f7f\">whoscored.py:328</span>\n",
       "</pre>\n"
      ],
      "text/plain": [
       "\u001b[2;36m                   \u001b[0m\u001b[2;36m \u001b[0m\u001b[34mINFO    \u001b[0m Scraping game schedule for Sunday, Sep \u001b[1;36m3\u001b[0m \u001b[1;36m2023\u001b[0m                         \u001b[2mwhoscored.py\u001b[0m\u001b[2m:\u001b[0m\u001b[2m328\u001b[0m\n"
      ]
     },
     "metadata": {},
     "output_type": "display_data"
    },
    {
     "data": {
      "text/html": [
       "<pre style=\"white-space:pre;overflow-x:auto;line-height:normal;font-family:Menlo,'DejaVu Sans Mono',consolas,'Courier New',monospace\"><span style=\"color: #7fbfbf; text-decoration-color: #7fbfbf\">[03/23/24 13:03:38] </span><span style=\"color: #000080; text-decoration-color: #000080\">INFO    </span> Scraping game schedule for Saturday, Sep <span style=\"color: #008080; text-decoration-color: #008080; font-weight: bold\">16</span> <span style=\"color: #008080; text-decoration-color: #008080; font-weight: bold\">2023</span>                      <span style=\"color: #7f7f7f; text-decoration-color: #7f7f7f\">whoscored.py:328</span>\n",
       "</pre>\n"
      ],
      "text/plain": [
       "\u001b[2;36m[03/23/24 13:03:38]\u001b[0m\u001b[2;36m \u001b[0m\u001b[34mINFO    \u001b[0m Scraping game schedule for Saturday, Sep \u001b[1;36m16\u001b[0m \u001b[1;36m2023\u001b[0m                      \u001b[2mwhoscored.py\u001b[0m\u001b[2m:\u001b[0m\u001b[2m328\u001b[0m\n"
      ]
     },
     "metadata": {},
     "output_type": "display_data"
    },
    {
     "data": {
      "text/html": [
       "<pre style=\"white-space:pre;overflow-x:auto;line-height:normal;font-family:Menlo,'DejaVu Sans Mono',consolas,'Courier New',monospace\"><span style=\"color: #7fbfbf; text-decoration-color: #7fbfbf\">                    </span><span style=\"color: #000080; text-decoration-color: #000080\">INFO    </span> Scraping game schedule for Sunday, Sep <span style=\"color: #008080; text-decoration-color: #008080; font-weight: bold\">17</span> <span style=\"color: #008080; text-decoration-color: #008080; font-weight: bold\">2023</span>                        <span style=\"color: #7f7f7f; text-decoration-color: #7f7f7f\">whoscored.py:328</span>\n",
       "</pre>\n"
      ],
      "text/plain": [
       "\u001b[2;36m                   \u001b[0m\u001b[2;36m \u001b[0m\u001b[34mINFO    \u001b[0m Scraping game schedule for Sunday, Sep \u001b[1;36m17\u001b[0m \u001b[1;36m2023\u001b[0m                        \u001b[2mwhoscored.py\u001b[0m\u001b[2m:\u001b[0m\u001b[2m328\u001b[0m\n"
      ]
     },
     "metadata": {},
     "output_type": "display_data"
    },
    {
     "data": {
      "text/html": [
       "<pre style=\"white-space:pre;overflow-x:auto;line-height:normal;font-family:Menlo,'DejaVu Sans Mono',consolas,'Courier New',monospace\"><span style=\"color: #7fbfbf; text-decoration-color: #7fbfbf\">[03/23/24 13:03:39] </span><span style=\"color: #000080; text-decoration-color: #000080\">INFO    </span> Scraping game schedule for Monday, Sep <span style=\"color: #008080; text-decoration-color: #008080; font-weight: bold\">18</span> <span style=\"color: #008080; text-decoration-color: #008080; font-weight: bold\">2023</span>                        <span style=\"color: #7f7f7f; text-decoration-color: #7f7f7f\">whoscored.py:328</span>\n",
       "</pre>\n"
      ],
      "text/plain": [
       "\u001b[2;36m[03/23/24 13:03:39]\u001b[0m\u001b[2;36m \u001b[0m\u001b[34mINFO    \u001b[0m Scraping game schedule for Monday, Sep \u001b[1;36m18\u001b[0m \u001b[1;36m2023\u001b[0m                        \u001b[2mwhoscored.py\u001b[0m\u001b[2m:\u001b[0m\u001b[2m328\u001b[0m\n"
      ]
     },
     "metadata": {},
     "output_type": "display_data"
    },
    {
     "data": {
      "text/html": [
       "<pre style=\"white-space:pre;overflow-x:auto;line-height:normal;font-family:Menlo,'DejaVu Sans Mono',consolas,'Courier New',monospace\"><span style=\"color: #7fbfbf; text-decoration-color: #7fbfbf\">                    </span><span style=\"color: #000080; text-decoration-color: #000080\">INFO    </span> Scraping game schedule for Saturday, Sep <span style=\"color: #008080; text-decoration-color: #008080; font-weight: bold\">23</span> <span style=\"color: #008080; text-decoration-color: #008080; font-weight: bold\">2023</span>                      <span style=\"color: #7f7f7f; text-decoration-color: #7f7f7f\">whoscored.py:328</span>\n",
       "</pre>\n"
      ],
      "text/plain": [
       "\u001b[2;36m                   \u001b[0m\u001b[2;36m \u001b[0m\u001b[34mINFO    \u001b[0m Scraping game schedule for Saturday, Sep \u001b[1;36m23\u001b[0m \u001b[1;36m2023\u001b[0m                      \u001b[2mwhoscored.py\u001b[0m\u001b[2m:\u001b[0m\u001b[2m328\u001b[0m\n"
      ]
     },
     "metadata": {},
     "output_type": "display_data"
    },
    {
     "data": {
      "text/html": [
       "<pre style=\"white-space:pre;overflow-x:auto;line-height:normal;font-family:Menlo,'DejaVu Sans Mono',consolas,'Courier New',monospace\"><span style=\"color: #7fbfbf; text-decoration-color: #7fbfbf\">                    </span><span style=\"color: #000080; text-decoration-color: #000080\">INFO    </span> Scraping game schedule for Sunday, Sep <span style=\"color: #008080; text-decoration-color: #008080; font-weight: bold\">24</span> <span style=\"color: #008080; text-decoration-color: #008080; font-weight: bold\">2023</span>                        <span style=\"color: #7f7f7f; text-decoration-color: #7f7f7f\">whoscored.py:328</span>\n",
       "</pre>\n"
      ],
      "text/plain": [
       "\u001b[2;36m                   \u001b[0m\u001b[2;36m \u001b[0m\u001b[34mINFO    \u001b[0m Scraping game schedule for Sunday, Sep \u001b[1;36m24\u001b[0m \u001b[1;36m2023\u001b[0m                        \u001b[2mwhoscored.py\u001b[0m\u001b[2m:\u001b[0m\u001b[2m328\u001b[0m\n"
      ]
     },
     "metadata": {},
     "output_type": "display_data"
    },
    {
     "data": {
      "text/html": [
       "<pre style=\"white-space:pre;overflow-x:auto;line-height:normal;font-family:Menlo,'DejaVu Sans Mono',consolas,'Courier New',monospace\"><span style=\"color: #7fbfbf; text-decoration-color: #7fbfbf\">[03/23/24 13:03:40] </span><span style=\"color: #000080; text-decoration-color: #000080\">INFO    </span> Scraping game schedule for Saturday, Sep <span style=\"color: #008080; text-decoration-color: #008080; font-weight: bold\">30</span> <span style=\"color: #008080; text-decoration-color: #008080; font-weight: bold\">2023</span>                      <span style=\"color: #7f7f7f; text-decoration-color: #7f7f7f\">whoscored.py:328</span>\n",
       "</pre>\n"
      ],
      "text/plain": [
       "\u001b[2;36m[03/23/24 13:03:40]\u001b[0m\u001b[2;36m \u001b[0m\u001b[34mINFO    \u001b[0m Scraping game schedule for Saturday, Sep \u001b[1;36m30\u001b[0m \u001b[1;36m2023\u001b[0m                      \u001b[2mwhoscored.py\u001b[0m\u001b[2m:\u001b[0m\u001b[2m328\u001b[0m\n"
      ]
     },
     "metadata": {},
     "output_type": "display_data"
    },
    {
     "data": {
      "text/html": [
       "<pre style=\"white-space:pre;overflow-x:auto;line-height:normal;font-family:Menlo,'DejaVu Sans Mono',consolas,'Courier New',monospace\"><span style=\"color: #7fbfbf; text-decoration-color: #7fbfbf\">[03/23/24 13:03:45] </span><span style=\"color: #000080; text-decoration-color: #000080\">INFO    </span> Scraping game schedule for Friday, Aug <span style=\"color: #008080; text-decoration-color: #008080; font-weight: bold\">11</span> <span style=\"color: #008080; text-decoration-color: #008080; font-weight: bold\">2023</span>                        <span style=\"color: #7f7f7f; text-decoration-color: #7f7f7f\">whoscored.py:328</span>\n",
       "</pre>\n"
      ],
      "text/plain": [
       "\u001b[2;36m[03/23/24 13:03:45]\u001b[0m\u001b[2;36m \u001b[0m\u001b[34mINFO    \u001b[0m Scraping game schedule for Friday, Aug \u001b[1;36m11\u001b[0m \u001b[1;36m2023\u001b[0m                        \u001b[2mwhoscored.py\u001b[0m\u001b[2m:\u001b[0m\u001b[2m328\u001b[0m\n"
      ]
     },
     "metadata": {},
     "output_type": "display_data"
    },
    {
     "data": {
      "text/html": [
       "<pre style=\"white-space:pre;overflow-x:auto;line-height:normal;font-family:Menlo,'DejaVu Sans Mono',consolas,'Courier New',monospace\"><span style=\"color: #7fbfbf; text-decoration-color: #7fbfbf\">[03/23/24 13:03:46] </span><span style=\"color: #000080; text-decoration-color: #000080\">INFO    </span> Scraping game schedule for Saturday, Aug <span style=\"color: #008080; text-decoration-color: #008080; font-weight: bold\">12</span> <span style=\"color: #008080; text-decoration-color: #008080; font-weight: bold\">2023</span>                      <span style=\"color: #7f7f7f; text-decoration-color: #7f7f7f\">whoscored.py:328</span>\n",
       "</pre>\n"
      ],
      "text/plain": [
       "\u001b[2;36m[03/23/24 13:03:46]\u001b[0m\u001b[2;36m \u001b[0m\u001b[34mINFO    \u001b[0m Scraping game schedule for Saturday, Aug \u001b[1;36m12\u001b[0m \u001b[1;36m2023\u001b[0m                      \u001b[2mwhoscored.py\u001b[0m\u001b[2m:\u001b[0m\u001b[2m328\u001b[0m\n"
      ]
     },
     "metadata": {},
     "output_type": "display_data"
    },
    {
     "data": {
      "text/html": [
       "<pre style=\"white-space:pre;overflow-x:auto;line-height:normal;font-family:Menlo,'DejaVu Sans Mono',consolas,'Courier New',monospace\"><span style=\"color: #7fbfbf; text-decoration-color: #7fbfbf\">                    </span><span style=\"color: #000080; text-decoration-color: #000080\">INFO    </span> Scraping game schedule for Sunday, Aug <span style=\"color: #008080; text-decoration-color: #008080; font-weight: bold\">13</span> <span style=\"color: #008080; text-decoration-color: #008080; font-weight: bold\">2023</span>                        <span style=\"color: #7f7f7f; text-decoration-color: #7f7f7f\">whoscored.py:328</span>\n",
       "</pre>\n"
      ],
      "text/plain": [
       "\u001b[2;36m                   \u001b[0m\u001b[2;36m \u001b[0m\u001b[34mINFO    \u001b[0m Scraping game schedule for Sunday, Aug \u001b[1;36m13\u001b[0m \u001b[1;36m2023\u001b[0m                        \u001b[2mwhoscored.py\u001b[0m\u001b[2m:\u001b[0m\u001b[2m328\u001b[0m\n"
      ]
     },
     "metadata": {},
     "output_type": "display_data"
    },
    {
     "data": {
      "text/html": [
       "<pre style=\"white-space:pre;overflow-x:auto;line-height:normal;font-family:Menlo,'DejaVu Sans Mono',consolas,'Courier New',monospace\"><span style=\"color: #7fbfbf; text-decoration-color: #7fbfbf\">[03/23/24 13:03:47] </span><span style=\"color: #000080; text-decoration-color: #000080\">INFO    </span> Scraping game schedule for Monday, Aug <span style=\"color: #008080; text-decoration-color: #008080; font-weight: bold\">14</span> <span style=\"color: #008080; text-decoration-color: #008080; font-weight: bold\">2023</span>                        <span style=\"color: #7f7f7f; text-decoration-color: #7f7f7f\">whoscored.py:328</span>\n",
       "</pre>\n"
      ],
      "text/plain": [
       "\u001b[2;36m[03/23/24 13:03:47]\u001b[0m\u001b[2;36m \u001b[0m\u001b[34mINFO    \u001b[0m Scraping game schedule for Monday, Aug \u001b[1;36m14\u001b[0m \u001b[1;36m2023\u001b[0m                        \u001b[2mwhoscored.py\u001b[0m\u001b[2m:\u001b[0m\u001b[2m328\u001b[0m\n"
      ]
     },
     "metadata": {},
     "output_type": "display_data"
    },
    {
     "data": {
      "text/html": [
       "<pre style=\"white-space:pre;overflow-x:auto;line-height:normal;font-family:Menlo,'DejaVu Sans Mono',consolas,'Courier New',monospace\"><span style=\"color: #7fbfbf; text-decoration-color: #7fbfbf\">                    </span><span style=\"color: #000080; text-decoration-color: #000080\">INFO    </span> Scraping game schedule for Friday, Aug <span style=\"color: #008080; text-decoration-color: #008080; font-weight: bold\">18</span> <span style=\"color: #008080; text-decoration-color: #008080; font-weight: bold\">2023</span>                        <span style=\"color: #7f7f7f; text-decoration-color: #7f7f7f\">whoscored.py:328</span>\n",
       "</pre>\n"
      ],
      "text/plain": [
       "\u001b[2;36m                   \u001b[0m\u001b[2;36m \u001b[0m\u001b[34mINFO    \u001b[0m Scraping game schedule for Friday, Aug \u001b[1;36m18\u001b[0m \u001b[1;36m2023\u001b[0m                        \u001b[2mwhoscored.py\u001b[0m\u001b[2m:\u001b[0m\u001b[2m328\u001b[0m\n"
      ]
     },
     "metadata": {},
     "output_type": "display_data"
    },
    {
     "data": {
      "text/html": [
       "<pre style=\"white-space:pre;overflow-x:auto;line-height:normal;font-family:Menlo,'DejaVu Sans Mono',consolas,'Courier New',monospace\"><span style=\"color: #7fbfbf; text-decoration-color: #7fbfbf\">                    </span><span style=\"color: #000080; text-decoration-color: #000080\">INFO    </span> Scraping game schedule for Saturday, Aug <span style=\"color: #008080; text-decoration-color: #008080; font-weight: bold\">19</span> <span style=\"color: #008080; text-decoration-color: #008080; font-weight: bold\">2023</span>                      <span style=\"color: #7f7f7f; text-decoration-color: #7f7f7f\">whoscored.py:328</span>\n",
       "</pre>\n"
      ],
      "text/plain": [
       "\u001b[2;36m                   \u001b[0m\u001b[2;36m \u001b[0m\u001b[34mINFO    \u001b[0m Scraping game schedule for Saturday, Aug \u001b[1;36m19\u001b[0m \u001b[1;36m2023\u001b[0m                      \u001b[2mwhoscored.py\u001b[0m\u001b[2m:\u001b[0m\u001b[2m328\u001b[0m\n"
      ]
     },
     "metadata": {},
     "output_type": "display_data"
    },
    {
     "data": {
      "text/html": [
       "<pre style=\"white-space:pre;overflow-x:auto;line-height:normal;font-family:Menlo,'DejaVu Sans Mono',consolas,'Courier New',monospace\"><span style=\"color: #7fbfbf; text-decoration-color: #7fbfbf\">                    </span><span style=\"color: #000080; text-decoration-color: #000080\">INFO    </span> Scraping game schedule for Sunday, Aug <span style=\"color: #008080; text-decoration-color: #008080; font-weight: bold\">20</span> <span style=\"color: #008080; text-decoration-color: #008080; font-weight: bold\">2023</span>                        <span style=\"color: #7f7f7f; text-decoration-color: #7f7f7f\">whoscored.py:328</span>\n",
       "</pre>\n"
      ],
      "text/plain": [
       "\u001b[2;36m                   \u001b[0m\u001b[2;36m \u001b[0m\u001b[34mINFO    \u001b[0m Scraping game schedule for Sunday, Aug \u001b[1;36m20\u001b[0m \u001b[1;36m2023\u001b[0m                        \u001b[2mwhoscored.py\u001b[0m\u001b[2m:\u001b[0m\u001b[2m328\u001b[0m\n"
      ]
     },
     "metadata": {},
     "output_type": "display_data"
    },
    {
     "data": {
      "text/html": [
       "<pre style=\"white-space:pre;overflow-x:auto;line-height:normal;font-family:Menlo,'DejaVu Sans Mono',consolas,'Courier New',monospace\"><span style=\"color: #7fbfbf; text-decoration-color: #7fbfbf\">[03/23/24 13:03:48] </span><span style=\"color: #000080; text-decoration-color: #000080\">INFO    </span> Scraping game schedule for Monday, Aug <span style=\"color: #008080; text-decoration-color: #008080; font-weight: bold\">21</span> <span style=\"color: #008080; text-decoration-color: #008080; font-weight: bold\">2023</span>                        <span style=\"color: #7f7f7f; text-decoration-color: #7f7f7f\">whoscored.py:328</span>\n",
       "</pre>\n"
      ],
      "text/plain": [
       "\u001b[2;36m[03/23/24 13:03:48]\u001b[0m\u001b[2;36m \u001b[0m\u001b[34mINFO    \u001b[0m Scraping game schedule for Monday, Aug \u001b[1;36m21\u001b[0m \u001b[1;36m2023\u001b[0m                        \u001b[2mwhoscored.py\u001b[0m\u001b[2m:\u001b[0m\u001b[2m328\u001b[0m\n"
      ]
     },
     "metadata": {},
     "output_type": "display_data"
    },
    {
     "data": {
      "text/html": [
       "<pre style=\"white-space:pre;overflow-x:auto;line-height:normal;font-family:Menlo,'DejaVu Sans Mono',consolas,'Courier New',monospace\"><span style=\"color: #7fbfbf; text-decoration-color: #7fbfbf\">                    </span><span style=\"color: #000080; text-decoration-color: #000080\">INFO    </span> Scraping game schedule for Friday, Aug <span style=\"color: #008080; text-decoration-color: #008080; font-weight: bold\">25</span> <span style=\"color: #008080; text-decoration-color: #008080; font-weight: bold\">2023</span>                        <span style=\"color: #7f7f7f; text-decoration-color: #7f7f7f\">whoscored.py:328</span>\n",
       "</pre>\n"
      ],
      "text/plain": [
       "\u001b[2;36m                   \u001b[0m\u001b[2;36m \u001b[0m\u001b[34mINFO    \u001b[0m Scraping game schedule for Friday, Aug \u001b[1;36m25\u001b[0m \u001b[1;36m2023\u001b[0m                        \u001b[2mwhoscored.py\u001b[0m\u001b[2m:\u001b[0m\u001b[2m328\u001b[0m\n"
      ]
     },
     "metadata": {},
     "output_type": "display_data"
    },
    {
     "data": {
      "text/html": [
       "<pre style=\"white-space:pre;overflow-x:auto;line-height:normal;font-family:Menlo,'DejaVu Sans Mono',consolas,'Courier New',monospace\"><span style=\"color: #7fbfbf; text-decoration-color: #7fbfbf\">                    </span><span style=\"color: #000080; text-decoration-color: #000080\">INFO    </span> Scraping game schedule for Saturday, Aug <span style=\"color: #008080; text-decoration-color: #008080; font-weight: bold\">26</span> <span style=\"color: #008080; text-decoration-color: #008080; font-weight: bold\">2023</span>                      <span style=\"color: #7f7f7f; text-decoration-color: #7f7f7f\">whoscored.py:328</span>\n",
       "</pre>\n"
      ],
      "text/plain": [
       "\u001b[2;36m                   \u001b[0m\u001b[2;36m \u001b[0m\u001b[34mINFO    \u001b[0m Scraping game schedule for Saturday, Aug \u001b[1;36m26\u001b[0m \u001b[1;36m2023\u001b[0m                      \u001b[2mwhoscored.py\u001b[0m\u001b[2m:\u001b[0m\u001b[2m328\u001b[0m\n"
      ]
     },
     "metadata": {},
     "output_type": "display_data"
    },
    {
     "data": {
      "text/html": [
       "<pre style=\"white-space:pre;overflow-x:auto;line-height:normal;font-family:Menlo,'DejaVu Sans Mono',consolas,'Courier New',monospace\"><span style=\"color: #7fbfbf; text-decoration-color: #7fbfbf\">                    </span><span style=\"color: #000080; text-decoration-color: #000080\">INFO    </span> Scraping game schedule for Sunday, Aug <span style=\"color: #008080; text-decoration-color: #008080; font-weight: bold\">27</span> <span style=\"color: #008080; text-decoration-color: #008080; font-weight: bold\">2023</span>                        <span style=\"color: #7f7f7f; text-decoration-color: #7f7f7f\">whoscored.py:328</span>\n",
       "</pre>\n"
      ],
      "text/plain": [
       "\u001b[2;36m                   \u001b[0m\u001b[2;36m \u001b[0m\u001b[34mINFO    \u001b[0m Scraping game schedule for Sunday, Aug \u001b[1;36m27\u001b[0m \u001b[1;36m2023\u001b[0m                        \u001b[2mwhoscored.py\u001b[0m\u001b[2m:\u001b[0m\u001b[2m328\u001b[0m\n"
      ]
     },
     "metadata": {},
     "output_type": "display_data"
    },
    {
     "data": {
      "text/html": [
       "<div>\n",
       "<style scoped>\n",
       "    .dataframe tbody tr th:only-of-type {\n",
       "        vertical-align: middle;\n",
       "    }\n",
       "\n",
       "    .dataframe tbody tr th {\n",
       "        vertical-align: top;\n",
       "    }\n",
       "\n",
       "    .dataframe thead th {\n",
       "        text-align: right;\n",
       "    }\n",
       "</style>\n",
       "<table border=\"1\" class=\"dataframe\">\n",
       "  <thead>\n",
       "    <tr style=\"text-align: right;\">\n",
       "      <th></th>\n",
       "      <th></th>\n",
       "      <th></th>\n",
       "      <th>date</th>\n",
       "      <th>home_team</th>\n",
       "      <th>away_team</th>\n",
       "      <th>game_id</th>\n",
       "      <th>url</th>\n",
       "      <th>stage</th>\n",
       "    </tr>\n",
       "    <tr>\n",
       "      <th>league</th>\n",
       "      <th>season</th>\n",
       "      <th>game</th>\n",
       "      <th></th>\n",
       "      <th></th>\n",
       "      <th></th>\n",
       "      <th></th>\n",
       "      <th></th>\n",
       "      <th></th>\n",
       "    </tr>\n",
       "  </thead>\n",
       "  <tbody>\n",
       "    <tr>\n",
       "      <th rowspan=\"11\" valign=\"top\">ENG-Premier League</th>\n",
       "      <th rowspan=\"11\" valign=\"top\">2324</th>\n",
       "      <th>2023-08-11 Burnley-Manchester City</th>\n",
       "      <td>2023-08-11 20:00:00</td>\n",
       "      <td>Burnley</td>\n",
       "      <td>Manchester City</td>\n",
       "      <td>1729191</td>\n",
       "      <td>https://www.whoscored.com/Matches/1729191/Live...</td>\n",
       "      <td>None</td>\n",
       "    </tr>\n",
       "    <tr>\n",
       "      <th>2023-08-12 Arsenal-Nottingham Forest</th>\n",
       "      <td>2023-08-12 13:00:00</td>\n",
       "      <td>Arsenal</td>\n",
       "      <td>Nottingham Forest</td>\n",
       "      <td>1729190</td>\n",
       "      <td>https://www.whoscored.com/Matches/1729190/Live...</td>\n",
       "      <td>None</td>\n",
       "    </tr>\n",
       "    <tr>\n",
       "      <th>2023-08-12 Bournemouth-West Ham</th>\n",
       "      <td>2023-08-12 15:00:00</td>\n",
       "      <td>Bournemouth</td>\n",
       "      <td>West Ham</td>\n",
       "      <td>1729192</td>\n",
       "      <td>https://www.whoscored.com/Matches/1729192/Live...</td>\n",
       "      <td>None</td>\n",
       "    </tr>\n",
       "    <tr>\n",
       "      <th>2023-08-12 Brighton-Luton</th>\n",
       "      <td>2023-08-12 15:00:00</td>\n",
       "      <td>Brighton</td>\n",
       "      <td>Luton</td>\n",
       "      <td>1729193</td>\n",
       "      <td>https://www.whoscored.com/Matches/1729193/Live...</td>\n",
       "      <td>None</td>\n",
       "    </tr>\n",
       "    <tr>\n",
       "      <th>2023-08-12 Everton-Fulham</th>\n",
       "      <td>2023-08-12 15:00:00</td>\n",
       "      <td>Everton</td>\n",
       "      <td>Fulham</td>\n",
       "      <td>1729194</td>\n",
       "      <td>https://www.whoscored.com/Matches/1729194/Live...</td>\n",
       "      <td>None</td>\n",
       "    </tr>\n",
       "    <tr>\n",
       "      <th>...</th>\n",
       "      <td>...</td>\n",
       "      <td>...</td>\n",
       "      <td>...</td>\n",
       "      <td>...</td>\n",
       "      <td>...</td>\n",
       "      <td>...</td>\n",
       "    </tr>\n",
       "    <tr>\n",
       "      <th>2024-03-30 Nottingham Forest-Crystal Palace</th>\n",
       "      <td>2024-03-30 15:00:00</td>\n",
       "      <td>Nottingham Forest</td>\n",
       "      <td>Crystal Palace</td>\n",
       "      <td>1729321</td>\n",
       "      <td>https://www.whoscored.com/Matches/1729321/Show...</td>\n",
       "      <td>None</td>\n",
       "    </tr>\n",
       "    <tr>\n",
       "      <th>2024-03-30 Sheffield United-Fulham</th>\n",
       "      <td>2024-03-30 15:00:00</td>\n",
       "      <td>Sheffield United</td>\n",
       "      <td>Fulham</td>\n",
       "      <td>1729324</td>\n",
       "      <td>https://www.whoscored.com/Matches/1729324/Show...</td>\n",
       "      <td>None</td>\n",
       "    </tr>\n",
       "    <tr>\n",
       "      <th>2024-03-30 Tottenham-Luton</th>\n",
       "      <td>2024-03-30 15:00:00</td>\n",
       "      <td>Tottenham</td>\n",
       "      <td>Luton</td>\n",
       "      <td>1729327</td>\n",
       "      <td>https://www.whoscored.com/Matches/1729327/Show...</td>\n",
       "      <td>None</td>\n",
       "    </tr>\n",
       "    <tr>\n",
       "      <th>2024-03-31 Liverpool-Brighton</th>\n",
       "      <td>2024-03-31 14:00:00</td>\n",
       "      <td>Liverpool</td>\n",
       "      <td>Brighton</td>\n",
       "      <td>1729312</td>\n",
       "      <td>https://www.whoscored.com/Matches/1729312/Show...</td>\n",
       "      <td>None</td>\n",
       "    </tr>\n",
       "    <tr>\n",
       "      <th>2024-03-31 Manchester City-Arsenal</th>\n",
       "      <td>2024-03-31 16:30:00</td>\n",
       "      <td>Manchester City</td>\n",
       "      <td>Arsenal</td>\n",
       "      <td>1729315</td>\n",
       "      <td>https://www.whoscored.com/Matches/1729315/Show...</td>\n",
       "      <td>None</td>\n",
       "    </tr>\n",
       "  </tbody>\n",
       "</table>\n",
       "<p>294 rows × 6 columns</p>\n",
       "</div>"
      ],
      "text/plain": [
       "                                                                                     date  \\\n",
       "league             season game                                                              \n",
       "ENG-Premier League 2324   2023-08-11 Burnley-Manchester City          2023-08-11 20:00:00   \n",
       "                          2023-08-12 Arsenal-Nottingham Forest        2023-08-12 13:00:00   \n",
       "                          2023-08-12 Bournemouth-West Ham             2023-08-12 15:00:00   \n",
       "                          2023-08-12 Brighton-Luton                   2023-08-12 15:00:00   \n",
       "                          2023-08-12 Everton-Fulham                   2023-08-12 15:00:00   \n",
       "...                                                                                   ...   \n",
       "                          2024-03-30 Nottingham Forest-Crystal Palace 2024-03-30 15:00:00   \n",
       "                          2024-03-30 Sheffield United-Fulham          2024-03-30 15:00:00   \n",
       "                          2024-03-30 Tottenham-Luton                  2024-03-30 15:00:00   \n",
       "                          2024-03-31 Liverpool-Brighton               2024-03-31 14:00:00   \n",
       "                          2024-03-31 Manchester City-Arsenal          2024-03-31 16:30:00   \n",
       "\n",
       "                                                                               home_team  \\\n",
       "league             season game                                                             \n",
       "ENG-Premier League 2324   2023-08-11 Burnley-Manchester City                     Burnley   \n",
       "                          2023-08-12 Arsenal-Nottingham Forest                   Arsenal   \n",
       "                          2023-08-12 Bournemouth-West Ham                    Bournemouth   \n",
       "                          2023-08-12 Brighton-Luton                             Brighton   \n",
       "                          2023-08-12 Everton-Fulham                              Everton   \n",
       "...                                                                                  ...   \n",
       "                          2024-03-30 Nottingham Forest-Crystal Palace  Nottingham Forest   \n",
       "                          2024-03-30 Sheffield United-Fulham            Sheffield United   \n",
       "                          2024-03-30 Tottenham-Luton                           Tottenham   \n",
       "                          2024-03-31 Liverpool-Brighton                        Liverpool   \n",
       "                          2024-03-31 Manchester City-Arsenal             Manchester City   \n",
       "\n",
       "                                                                               away_team  \\\n",
       "league             season game                                                             \n",
       "ENG-Premier League 2324   2023-08-11 Burnley-Manchester City             Manchester City   \n",
       "                          2023-08-12 Arsenal-Nottingham Forest         Nottingham Forest   \n",
       "                          2023-08-12 Bournemouth-West Ham                       West Ham   \n",
       "                          2023-08-12 Brighton-Luton                                Luton   \n",
       "                          2023-08-12 Everton-Fulham                               Fulham   \n",
       "...                                                                                  ...   \n",
       "                          2024-03-30 Nottingham Forest-Crystal Palace     Crystal Palace   \n",
       "                          2024-03-30 Sheffield United-Fulham                      Fulham   \n",
       "                          2024-03-30 Tottenham-Luton                               Luton   \n",
       "                          2024-03-31 Liverpool-Brighton                         Brighton   \n",
       "                          2024-03-31 Manchester City-Arsenal                     Arsenal   \n",
       "\n",
       "                                                                       game_id  \\\n",
       "league             season game                                                   \n",
       "ENG-Premier League 2324   2023-08-11 Burnley-Manchester City           1729191   \n",
       "                          2023-08-12 Arsenal-Nottingham Forest         1729190   \n",
       "                          2023-08-12 Bournemouth-West Ham              1729192   \n",
       "                          2023-08-12 Brighton-Luton                    1729193   \n",
       "                          2023-08-12 Everton-Fulham                    1729194   \n",
       "...                                                                        ...   \n",
       "                          2024-03-30 Nottingham Forest-Crystal Palace  1729321   \n",
       "                          2024-03-30 Sheffield United-Fulham           1729324   \n",
       "                          2024-03-30 Tottenham-Luton                   1729327   \n",
       "                          2024-03-31 Liverpool-Brighton                1729312   \n",
       "                          2024-03-31 Manchester City-Arsenal           1729315   \n",
       "\n",
       "                                                                                                                     url  \\\n",
       "league             season game                                                                                             \n",
       "ENG-Premier League 2324   2023-08-11 Burnley-Manchester City           https://www.whoscored.com/Matches/1729191/Live...   \n",
       "                          2023-08-12 Arsenal-Nottingham Forest         https://www.whoscored.com/Matches/1729190/Live...   \n",
       "                          2023-08-12 Bournemouth-West Ham              https://www.whoscored.com/Matches/1729192/Live...   \n",
       "                          2023-08-12 Brighton-Luton                    https://www.whoscored.com/Matches/1729193/Live...   \n",
       "                          2023-08-12 Everton-Fulham                    https://www.whoscored.com/Matches/1729194/Live...   \n",
       "...                                                                                                                  ...   \n",
       "                          2024-03-30 Nottingham Forest-Crystal Palace  https://www.whoscored.com/Matches/1729321/Show...   \n",
       "                          2024-03-30 Sheffield United-Fulham           https://www.whoscored.com/Matches/1729324/Show...   \n",
       "                          2024-03-30 Tottenham-Luton                   https://www.whoscored.com/Matches/1729327/Show...   \n",
       "                          2024-03-31 Liverpool-Brighton                https://www.whoscored.com/Matches/1729312/Show...   \n",
       "                          2024-03-31 Manchester City-Arsenal           https://www.whoscored.com/Matches/1729315/Show...   \n",
       "\n",
       "                                                                      stage  \n",
       "league             season game                                               \n",
       "ENG-Premier League 2324   2023-08-11 Burnley-Manchester City           None  \n",
       "                          2023-08-12 Arsenal-Nottingham Forest         None  \n",
       "                          2023-08-12 Bournemouth-West Ham              None  \n",
       "                          2023-08-12 Brighton-Luton                    None  \n",
       "                          2023-08-12 Everton-Fulham                    None  \n",
       "...                                                                     ...  \n",
       "                          2024-03-30 Nottingham Forest-Crystal Palace  None  \n",
       "                          2024-03-30 Sheffield United-Fulham           None  \n",
       "                          2024-03-30 Tottenham-Luton                   None  \n",
       "                          2024-03-31 Liverpool-Brighton                None  \n",
       "                          2024-03-31 Manchester City-Arsenal           None  \n",
       "\n",
       "[294 rows x 6 columns]"
      ]
     },
     "execution_count": 20,
     "metadata": {},
     "output_type": "execute_result"
    }
   ],
   "source": [
    "ws.read_schedule()"
   ]
  },
  {
   "cell_type": "code",
   "execution_count": 15,
   "metadata": {},
   "outputs": [
    {
     "data": {
      "text/html": [
       "<div>\n",
       "<style scoped>\n",
       "    .dataframe tbody tr th:only-of-type {\n",
       "        vertical-align: middle;\n",
       "    }\n",
       "\n",
       "    .dataframe tbody tr th {\n",
       "        vertical-align: top;\n",
       "    }\n",
       "\n",
       "    .dataframe thead th {\n",
       "        text-align: right;\n",
       "    }\n",
       "</style>\n",
       "<table border=\"1\" class=\"dataframe\">\n",
       "  <thead>\n",
       "    <tr style=\"text-align: right;\">\n",
       "      <th></th>\n",
       "      <th></th>\n",
       "      <th></th>\n",
       "      <th>round</th>\n",
       "      <th>week</th>\n",
       "      <th>date</th>\n",
       "      <th>home_team</th>\n",
       "      <th>away_team</th>\n",
       "      <th>home_score</th>\n",
       "      <th>away_score</th>\n",
       "      <th>game_id</th>\n",
       "    </tr>\n",
       "    <tr>\n",
       "      <th>league</th>\n",
       "      <th>season</th>\n",
       "      <th>game</th>\n",
       "      <th></th>\n",
       "      <th></th>\n",
       "      <th></th>\n",
       "      <th></th>\n",
       "      <th></th>\n",
       "      <th></th>\n",
       "      <th></th>\n",
       "      <th></th>\n",
       "    </tr>\n",
       "  </thead>\n",
       "  <tbody>\n",
       "    <tr>\n",
       "      <th rowspan=\"11\" valign=\"top\">ENG-Premier League</th>\n",
       "      <th rowspan=\"11\" valign=\"top\">2324</th>\n",
       "      <th>2023-08-11 Burnley-Manchester City</th>\n",
       "      <td>None</td>\n",
       "      <td>1</td>\n",
       "      <td>2023-08-11 15:00:00</td>\n",
       "      <td>Burnley</td>\n",
       "      <td>Manchester City</td>\n",
       "      <td>0.0</td>\n",
       "      <td>3.0</td>\n",
       "      <td>11352303</td>\n",
       "    </tr>\n",
       "    <tr>\n",
       "      <th>2023-08-12 Arsenal-Nottingham Forest</th>\n",
       "      <td>None</td>\n",
       "      <td>1</td>\n",
       "      <td>2023-08-12 08:00:00</td>\n",
       "      <td>Arsenal</td>\n",
       "      <td>Nottingham Forest</td>\n",
       "      <td>2.0</td>\n",
       "      <td>1.0</td>\n",
       "      <td>11352251</td>\n",
       "    </tr>\n",
       "    <tr>\n",
       "      <th>2023-08-12 Bournemouth-West Ham United</th>\n",
       "      <td>None</td>\n",
       "      <td>1</td>\n",
       "      <td>2023-08-12 10:00:00</td>\n",
       "      <td>Bournemouth</td>\n",
       "      <td>West Ham United</td>\n",
       "      <td>1.0</td>\n",
       "      <td>1.0</td>\n",
       "      <td>11352250</td>\n",
       "    </tr>\n",
       "    <tr>\n",
       "      <th>2023-08-12 Brighton &amp; Hove Albion-Luton Town</th>\n",
       "      <td>None</td>\n",
       "      <td>1</td>\n",
       "      <td>2023-08-12 10:00:00</td>\n",
       "      <td>Brighton &amp; Hove Albion</td>\n",
       "      <td>Luton Town</td>\n",
       "      <td>4.0</td>\n",
       "      <td>1.0</td>\n",
       "      <td>11352252</td>\n",
       "    </tr>\n",
       "    <tr>\n",
       "      <th>2023-08-12 Everton-Fulham</th>\n",
       "      <td>None</td>\n",
       "      <td>1</td>\n",
       "      <td>2023-08-12 10:00:00</td>\n",
       "      <td>Everton</td>\n",
       "      <td>Fulham</td>\n",
       "      <td>0.0</td>\n",
       "      <td>1.0</td>\n",
       "      <td>11352253</td>\n",
       "    </tr>\n",
       "    <tr>\n",
       "      <th>...</th>\n",
       "      <td>...</td>\n",
       "      <td>...</td>\n",
       "      <td>...</td>\n",
       "      <td>...</td>\n",
       "      <td>...</td>\n",
       "      <td>...</td>\n",
       "      <td>...</td>\n",
       "      <td>...</td>\n",
       "    </tr>\n",
       "    <tr>\n",
       "      <th>2024-05-19 Crystal Palace-Aston Villa</th>\n",
       "      <td>None</td>\n",
       "      <td>38</td>\n",
       "      <td>2024-05-19 11:00:00</td>\n",
       "      <td>Crystal Palace</td>\n",
       "      <td>Aston Villa</td>\n",
       "      <td>NaN</td>\n",
       "      <td>NaN</td>\n",
       "      <td>11352562</td>\n",
       "    </tr>\n",
       "    <tr>\n",
       "      <th>2024-05-19 Liverpool-Wolverhampton</th>\n",
       "      <td>None</td>\n",
       "      <td>38</td>\n",
       "      <td>2024-05-19 11:00:00</td>\n",
       "      <td>Liverpool</td>\n",
       "      <td>Wolverhampton</td>\n",
       "      <td>NaN</td>\n",
       "      <td>NaN</td>\n",
       "      <td>11352565</td>\n",
       "    </tr>\n",
       "    <tr>\n",
       "      <th>2024-05-19 Luton Town-Fulham</th>\n",
       "      <td>None</td>\n",
       "      <td>38</td>\n",
       "      <td>2024-05-19 11:00:00</td>\n",
       "      <td>Luton Town</td>\n",
       "      <td>Fulham</td>\n",
       "      <td>NaN</td>\n",
       "      <td>NaN</td>\n",
       "      <td>11352568</td>\n",
       "    </tr>\n",
       "    <tr>\n",
       "      <th>2024-05-19 Manchester City-West Ham United</th>\n",
       "      <td>None</td>\n",
       "      <td>38</td>\n",
       "      <td>2024-05-19 11:00:00</td>\n",
       "      <td>Manchester City</td>\n",
       "      <td>West Ham United</td>\n",
       "      <td>NaN</td>\n",
       "      <td>NaN</td>\n",
       "      <td>11352571</td>\n",
       "    </tr>\n",
       "    <tr>\n",
       "      <th>2024-05-19 Sheffield United-Tottenham Hotspur</th>\n",
       "      <td>None</td>\n",
       "      <td>38</td>\n",
       "      <td>2024-05-19 11:00:00</td>\n",
       "      <td>Sheffield United</td>\n",
       "      <td>Tottenham Hotspur</td>\n",
       "      <td>NaN</td>\n",
       "      <td>NaN</td>\n",
       "      <td>11352574</td>\n",
       "    </tr>\n",
       "  </tbody>\n",
       "</table>\n",
       "<p>373 rows × 8 columns</p>\n",
       "</div>"
      ],
      "text/plain": [
       "                                                                        round  \\\n",
       "league             season game                                                  \n",
       "ENG-Premier League 2324   2023-08-11 Burnley-Manchester City             None   \n",
       "                          2023-08-12 Arsenal-Nottingham Forest           None   \n",
       "                          2023-08-12 Bournemouth-West Ham United         None   \n",
       "                          2023-08-12 Brighton & Hove Albion-Luton Town   None   \n",
       "                          2023-08-12 Everton-Fulham                      None   \n",
       "...                                                                       ...   \n",
       "                          2024-05-19 Crystal Palace-Aston Villa          None   \n",
       "                          2024-05-19 Liverpool-Wolverhampton             None   \n",
       "                          2024-05-19 Luton Town-Fulham                   None   \n",
       "                          2024-05-19 Manchester City-West Ham United     None   \n",
       "                          2024-05-19 Sheffield United-Tottenham Hotspur  None   \n",
       "\n",
       "                                                                         week  \\\n",
       "league             season game                                                  \n",
       "ENG-Premier League 2324   2023-08-11 Burnley-Manchester City                1   \n",
       "                          2023-08-12 Arsenal-Nottingham Forest              1   \n",
       "                          2023-08-12 Bournemouth-West Ham United            1   \n",
       "                          2023-08-12 Brighton & Hove Albion-Luton Town      1   \n",
       "                          2023-08-12 Everton-Fulham                         1   \n",
       "...                                                                       ...   \n",
       "                          2024-05-19 Crystal Palace-Aston Villa            38   \n",
       "                          2024-05-19 Liverpool-Wolverhampton               38   \n",
       "                          2024-05-19 Luton Town-Fulham                     38   \n",
       "                          2024-05-19 Manchester City-West Ham United       38   \n",
       "                          2024-05-19 Sheffield United-Tottenham Hotspur    38   \n",
       "\n",
       "                                                                                       date  \\\n",
       "league             season game                                                                \n",
       "ENG-Premier League 2324   2023-08-11 Burnley-Manchester City            2023-08-11 15:00:00   \n",
       "                          2023-08-12 Arsenal-Nottingham Forest          2023-08-12 08:00:00   \n",
       "                          2023-08-12 Bournemouth-West Ham United        2023-08-12 10:00:00   \n",
       "                          2023-08-12 Brighton & Hove Albion-Luton Town  2023-08-12 10:00:00   \n",
       "                          2023-08-12 Everton-Fulham                     2023-08-12 10:00:00   \n",
       "...                                                                                     ...   \n",
       "                          2024-05-19 Crystal Palace-Aston Villa         2024-05-19 11:00:00   \n",
       "                          2024-05-19 Liverpool-Wolverhampton            2024-05-19 11:00:00   \n",
       "                          2024-05-19 Luton Town-Fulham                  2024-05-19 11:00:00   \n",
       "                          2024-05-19 Manchester City-West Ham United    2024-05-19 11:00:00   \n",
       "                          2024-05-19 Sheffield United-Tottenham Hotspur 2024-05-19 11:00:00   \n",
       "\n",
       "                                                                                      home_team  \\\n",
       "league             season game                                                                    \n",
       "ENG-Premier League 2324   2023-08-11 Burnley-Manchester City                            Burnley   \n",
       "                          2023-08-12 Arsenal-Nottingham Forest                          Arsenal   \n",
       "                          2023-08-12 Bournemouth-West Ham United                    Bournemouth   \n",
       "                          2023-08-12 Brighton & Hove Albion-Luton Town   Brighton & Hove Albion   \n",
       "                          2023-08-12 Everton-Fulham                                     Everton   \n",
       "...                                                                                         ...   \n",
       "                          2024-05-19 Crystal Palace-Aston Villa                  Crystal Palace   \n",
       "                          2024-05-19 Liverpool-Wolverhampton                          Liverpool   \n",
       "                          2024-05-19 Luton Town-Fulham                               Luton Town   \n",
       "                          2024-05-19 Manchester City-West Ham United            Manchester City   \n",
       "                          2024-05-19 Sheffield United-Tottenham Hotspur        Sheffield United   \n",
       "\n",
       "                                                                                 away_team  \\\n",
       "league             season game                                                               \n",
       "ENG-Premier League 2324   2023-08-11 Burnley-Manchester City               Manchester City   \n",
       "                          2023-08-12 Arsenal-Nottingham Forest           Nottingham Forest   \n",
       "                          2023-08-12 Bournemouth-West Ham United           West Ham United   \n",
       "                          2023-08-12 Brighton & Hove Albion-Luton Town          Luton Town   \n",
       "                          2023-08-12 Everton-Fulham                                 Fulham   \n",
       "...                                                                                    ...   \n",
       "                          2024-05-19 Crystal Palace-Aston Villa                Aston Villa   \n",
       "                          2024-05-19 Liverpool-Wolverhampton                 Wolverhampton   \n",
       "                          2024-05-19 Luton Town-Fulham                              Fulham   \n",
       "                          2024-05-19 Manchester City-West Ham United       West Ham United   \n",
       "                          2024-05-19 Sheffield United-Tottenham Hotspur  Tottenham Hotspur   \n",
       "\n",
       "                                                                         home_score  \\\n",
       "league             season game                                                        \n",
       "ENG-Premier League 2324   2023-08-11 Burnley-Manchester City                    0.0   \n",
       "                          2023-08-12 Arsenal-Nottingham Forest                  2.0   \n",
       "                          2023-08-12 Bournemouth-West Ham United                1.0   \n",
       "                          2023-08-12 Brighton & Hove Albion-Luton Town          4.0   \n",
       "                          2023-08-12 Everton-Fulham                             0.0   \n",
       "...                                                                             ...   \n",
       "                          2024-05-19 Crystal Palace-Aston Villa                 NaN   \n",
       "                          2024-05-19 Liverpool-Wolverhampton                    NaN   \n",
       "                          2024-05-19 Luton Town-Fulham                          NaN   \n",
       "                          2024-05-19 Manchester City-West Ham United            NaN   \n",
       "                          2024-05-19 Sheffield United-Tottenham Hotspur         NaN   \n",
       "\n",
       "                                                                         away_score  \\\n",
       "league             season game                                                        \n",
       "ENG-Premier League 2324   2023-08-11 Burnley-Manchester City                    3.0   \n",
       "                          2023-08-12 Arsenal-Nottingham Forest                  1.0   \n",
       "                          2023-08-12 Bournemouth-West Ham United                1.0   \n",
       "                          2023-08-12 Brighton & Hove Albion-Luton Town          1.0   \n",
       "                          2023-08-12 Everton-Fulham                             1.0   \n",
       "...                                                                             ...   \n",
       "                          2024-05-19 Crystal Palace-Aston Villa                 NaN   \n",
       "                          2024-05-19 Liverpool-Wolverhampton                    NaN   \n",
       "                          2024-05-19 Luton Town-Fulham                          NaN   \n",
       "                          2024-05-19 Manchester City-West Ham United            NaN   \n",
       "                          2024-05-19 Sheffield United-Tottenham Hotspur         NaN   \n",
       "\n",
       "                                                                          game_id  \n",
       "league             season game                                                     \n",
       "ENG-Premier League 2324   2023-08-11 Burnley-Manchester City             11352303  \n",
       "                          2023-08-12 Arsenal-Nottingham Forest           11352251  \n",
       "                          2023-08-12 Bournemouth-West Ham United         11352250  \n",
       "                          2023-08-12 Brighton & Hove Albion-Luton Town   11352252  \n",
       "                          2023-08-12 Everton-Fulham                      11352253  \n",
       "...                                                                           ...  \n",
       "                          2024-05-19 Crystal Palace-Aston Villa          11352562  \n",
       "                          2024-05-19 Liverpool-Wolverhampton             11352565  \n",
       "                          2024-05-19 Luton Town-Fulham                   11352568  \n",
       "                          2024-05-19 Manchester City-West Ham United     11352571  \n",
       "                          2024-05-19 Sheffield United-Tottenham Hotspur  11352574  \n",
       "\n",
       "[373 rows x 8 columns]"
      ]
     },
     "execution_count": 15,
     "metadata": {},
     "output_type": "execute_result"
    }
   ],
   "source": [
    "sfs.read_schedule()"
   ]
  },
  {
   "cell_type": "code",
   "execution_count": null,
   "metadata": {},
   "outputs": [],
   "source": []
  },
  {
   "cell_type": "code",
   "execution_count": null,
   "metadata": {},
   "outputs": [],
   "source": []
  },
  {
   "cell_type": "code",
   "execution_count": null,
   "metadata": {},
   "outputs": [],
   "source": []
  },
  {
   "cell_type": "code",
   "execution_count": null,
   "metadata": {},
   "outputs": [],
   "source": []
  },
  {
   "cell_type": "code",
   "execution_count": null,
   "metadata": {},
   "outputs": [],
   "source": []
  },
  {
   "cell_type": "code",
   "execution_count": 15,
   "metadata": {},
   "outputs": [],
   "source": [
    "data1 = sfs.read_seasons()"
   ]
  },
  {
   "cell_type": "code",
   "execution_count": 16,
   "metadata": {},
   "outputs": [
    {
     "data": {
      "text/html": [
       "<div>\n",
       "<style scoped>\n",
       "    .dataframe tbody tr th:only-of-type {\n",
       "        vertical-align: middle;\n",
       "    }\n",
       "\n",
       "    .dataframe tbody tr th {\n",
       "        vertical-align: top;\n",
       "    }\n",
       "\n",
       "    .dataframe thead th {\n",
       "        text-align: right;\n",
       "    }\n",
       "</style>\n",
       "<table border=\"1\" class=\"dataframe\">\n",
       "  <thead>\n",
       "    <tr style=\"text-align: right;\">\n",
       "      <th></th>\n",
       "      <th></th>\n",
       "      <th>league_id</th>\n",
       "      <th>season_id</th>\n",
       "    </tr>\n",
       "    <tr>\n",
       "      <th>league</th>\n",
       "      <th>season</th>\n",
       "      <th></th>\n",
       "      <th></th>\n",
       "    </tr>\n",
       "  </thead>\n",
       "  <tbody>\n",
       "    <tr>\n",
       "      <th>ENG-Premier League</th>\n",
       "      <th>2324</th>\n",
       "      <td>17</td>\n",
       "      <td>52186</td>\n",
       "    </tr>\n",
       "  </tbody>\n",
       "</table>\n",
       "</div>"
      ],
      "text/plain": [
       "                           league_id  season_id\n",
       "league             season                      \n",
       "ENG-Premier League 2324           17      52186"
      ]
     },
     "execution_count": 16,
     "metadata": {},
     "output_type": "execute_result"
    }
   ],
   "source": [
    "data1.head()"
   ]
  },
  {
   "cell_type": "code",
   "execution_count": 15,
   "metadata": {},
   "outputs": [
    {
     "name": "stdout",
     "output_type": "stream",
     "text": [
      "ENG-Premier League 2324\n"
     ]
    }
   ],
   "source": [
    "for (lkey, skey), season in data1.iterrows():\n",
    "    print(lkey, skey)"
   ]
  },
  {
   "cell_type": "code",
   "execution_count": 37,
   "metadata": {},
   "outputs": [],
   "source": [
    "schedule = []"
   ]
  },
  {
   "cell_type": "code",
   "execution_count": 38,
   "metadata": {},
   "outputs": [
    {
     "data": {
      "text/plain": [
       "'https://api.sofascore.com/api/v1/'"
      ]
     },
     "execution_count": 38,
     "metadata": {},
     "output_type": "execute_result"
    }
   ],
   "source": [
    "SOFASCORE_API"
   ]
  },
  {
   "cell_type": "code",
   "execution_count": 44,
   "metadata": {},
   "outputs": [
    {
     "name": "stdout",
     "output_type": "stream",
     "text": [
      "{'code': 60, 'description': 'Postponed', 'type': 'postponed'}\n",
      "{'code': 60, 'description': 'Postponed', 'type': 'postponed'}\n",
      "{'code': 60, 'description': 'Postponed', 'type': 'postponed'}\n",
      "{'code': 60, 'description': 'Postponed', 'type': 'postponed'}\n",
      "{'code': 60, 'description': 'Postponed', 'type': 'postponed'}\n",
      "{'code': 60, 'description': 'Postponed', 'type': 'postponed'}\n",
      "{'code': 60, 'description': 'Postponed', 'type': 'postponed'}\n",
      "{'code': 60, 'description': 'Postponed', 'type': 'postponed'}\n",
      "{'code': 60, 'description': 'Postponed', 'type': 'postponed'}\n",
      "{'code': 60, 'description': 'Postponed', 'type': 'postponed'}\n"
     ]
    }
   ],
   "source": [
    "url1 = \"https://api.sofascore.com/api/v1/unique-tournament/{}/season/{}/rounds\"\n",
    "for (lkey, skey), season in data1.iterrows():\n",
    "    data2 = requests.get(url1.format(season['league_id'], season['season_id']), headers=requests_headers).json()\n",
    "    rounds = data2['rounds']\n",
    "    for round in rounds:\n",
    "        url2 = \"https://api.sofascore.com/api/v1/unique-tournament/{}/season/{}/events/round/{}\"\n",
    "        data3 = requests.get(url2.format(season['league_id'], season['season_id'], round['round']), headers=requests_headers).json()\n",
    "        for _match in data3['events']:\n",
    "            if _match['status']['code'] == 100 or _match['status']['code'] == 0:\n",
    "                if _match['status']['code'] == 100:\n",
    "                    home_score = _match['homeScore']['current']\n",
    "                    away_score = _match['awayScore']['current']\n",
    "                else:\n",
    "                ## make home_score a NaN\n",
    "                    home_score = float('nan')\n",
    "                    away_score = float('nan')\n",
    "                \n",
    "                schedule.append(\n",
    "                    {\n",
    "                        'league' : lkey,\n",
    "                        'season' : skey,\n",
    "                        'round' : \"None\",\n",
    "                        'week' : _match['roundInfo']['round'],\n",
    "                        'date' : datetime.datetime.fromtimestamp(_match['startTimestamp']).strftime(\"%Y-%m-%d %H:%M:%S%z\"),\n",
    "                        'home_team' : _match['homeTeam']['name'],\n",
    "                        'away_team' : _match['awayTeam']['name'],\n",
    "                        'home_score' : home_score,\n",
    "                        'away_score' : away_score,\n",
    "                        'game_id' : _match['id']\n",
    "                    }\n",
    "                )\n",
    "            else:\n",
    "                print(_match['status'])"
   ]
  },
  {
   "cell_type": "code",
   "execution_count": 17,
   "metadata": {},
   "outputs": [],
   "source": [
    "url3 = \"https://api.sofascore.com/api/v1/event/11352303\"\n",
    "data3 = requests.get(url3, headers=requests_headers).json()"
   ]
  },
  {
   "cell_type": "code",
   "execution_count": 23,
   "metadata": {},
   "outputs": [
    {
     "data": {
      "text/plain": [
       "dict_keys(['event'])"
      ]
     },
     "execution_count": 23,
     "metadata": {},
     "output_type": "execute_result"
    }
   ],
   "source": [
    "data3.keys()"
   ]
  },
  {
   "cell_type": "code",
   "execution_count": 39,
   "metadata": {},
   "outputs": [
    {
     "data": {
      "text/plain": [
       "{'tournament': {'name': 'Premier League',\n",
       "  'slug': 'premier-league',\n",
       "  'category': {'name': 'England',\n",
       "   'slug': 'england',\n",
       "   'sport': {'name': 'Football', 'slug': 'football', 'id': 1},\n",
       "   'id': 1,\n",
       "   'country': {'alpha2': 'EN', 'name': 'England'},\n",
       "   'flag': 'england',\n",
       "   'alpha2': 'EN'},\n",
       "  'uniqueTournament': {'name': 'Premier League',\n",
       "   'slug': 'premier-league',\n",
       "   'primaryColorHex': '#3c1c5a',\n",
       "   'secondaryColorHex': '#f80158',\n",
       "   'category': {'name': 'England',\n",
       "    'slug': 'england',\n",
       "    'sport': {'name': 'Football', 'slug': 'football', 'id': 1},\n",
       "    'id': 1,\n",
       "    'country': {'alpha2': 'EN', 'name': 'England'},\n",
       "    'flag': 'england',\n",
       "    'alpha2': 'EN'},\n",
       "   'userCount': 1577304,\n",
       "   'id': 17,\n",
       "   'country': {},\n",
       "   'hasEventPlayerStatistics': True,\n",
       "   'crowdsourcingEnabled': False,\n",
       "   'hasPerformanceGraphFeature': True,\n",
       "   'displayInverseHomeAwayTeams': False},\n",
       "  'priority': 600,\n",
       "  'competitionType': 1,\n",
       "  'id': 1},\n",
       " 'season': {'name': 'Premier League 23/24',\n",
       "  'year': '23/24',\n",
       "  'editor': False,\n",
       "  'id': 52186},\n",
       " 'roundInfo': {'round': 1},\n",
       " 'customId': 'gsr',\n",
       " 'status': {'code': 100, 'description': 'Ended', 'type': 'finished'},\n",
       " 'winnerCode': 2,\n",
       " 'attendance': 21572,\n",
       " 'venue': {'city': {'name': 'Burnley'},\n",
       "  'stadium': {'name': 'Turf Moor', 'capacity': 21944},\n",
       "  'id': 806,\n",
       "  'country': {'alpha2': 'EN', 'name': 'England'},\n",
       "  'fieldTranslations': {'nameTranslation': {'ar': 'تورف موور'},\n",
       "   'shortNameTranslation': {}}},\n",
       " 'referee': {'name': 'Craig Pawson',\n",
       "  'slug': 'pawson-craig',\n",
       "  'yellowCards': 1522,\n",
       "  'redCards': 37,\n",
       "  'yellowRedCards': 23,\n",
       "  'games': 390,\n",
       "  'sport': {'id': 1, 'slug': 'football', 'name': 'Football'},\n",
       "  'id': 81627,\n",
       "  'country': {'alpha2': 'EN', 'name': 'England'}},\n",
       " 'homeTeam': {'name': 'Burnley',\n",
       "  'slug': 'burnley',\n",
       "  'shortName': 'Burnley',\n",
       "  'gender': 'M',\n",
       "  'sport': {'name': 'Football', 'slug': 'football', 'id': 1},\n",
       "  'userCount': 123666,\n",
       "  'manager': {'name': 'Vincent Kompany',\n",
       "   'slug': 'vincent-kompany',\n",
       "   'shortName': 'V. Kompany',\n",
       "   'id': 792129,\n",
       "   'country': {'alpha2': 'BE', 'name': 'Belgium'},\n",
       "   'fieldTranslations': {'nameTranslation': {'ar': 'فينسنت كومباني'},\n",
       "    'shortNameTranslation': {'ar': 'ف. كومباني'}}},\n",
       "  'venue': {'city': {'name': 'Burnley'},\n",
       "   'stadium': {'name': 'Turf Moor', 'capacity': 21944},\n",
       "   'id': 806,\n",
       "   'country': {'alpha2': 'EN', 'name': 'England'},\n",
       "   'fieldTranslations': {'nameTranslation': {'ar': 'تورف موور'},\n",
       "    'shortNameTranslation': {}}},\n",
       "  'foundationDate': {},\n",
       "  'nameCode': 'BUR',\n",
       "  'disabled': False,\n",
       "  'national': False,\n",
       "  'type': 0,\n",
       "  'id': 6,\n",
       "  'country': {'alpha2': 'EN', 'name': 'England'},\n",
       "  'subTeams': [],\n",
       "  'fullName': 'Burnley',\n",
       "  'teamColors': {'primary': '#81204c',\n",
       "   'secondary': '#8fd2f4',\n",
       "   'text': '#8fd2f4'},\n",
       "  'foundationDateTimestamp': -2776982400,\n",
       "  'fieldTranslations': {'nameTranslation': {'ar': 'بيرنلي'},\n",
       "   'shortNameTranslation': {}}},\n",
       " 'awayTeam': {'name': 'Manchester City',\n",
       "  'slug': 'manchester-city',\n",
       "  'shortName': 'Man City',\n",
       "  'gender': 'M',\n",
       "  'sport': {'name': 'Football', 'slug': 'football', 'id': 1},\n",
       "  'userCount': 1594196,\n",
       "  'manager': {'name': 'Pep Guardiola',\n",
       "   'slug': 'pep-guardiola',\n",
       "   'shortName': 'P. Guardiola',\n",
       "   'id': 53463,\n",
       "   'country': {'alpha2': 'ES', 'name': 'Spain'},\n",
       "   'fieldTranslations': {'nameTranslation': {'ar': 'جوسيب جارديولا'},\n",
       "    'shortNameTranslation': {'ar': 'ج. جارديولا'}}},\n",
       "  'venue': {'city': {'name': 'Manchester'},\n",
       "   'stadium': {'name': 'Etihad Stadium', 'capacity': 53400},\n",
       "   'id': 606,\n",
       "   'country': {'alpha2': 'EN', 'name': 'England'},\n",
       "   'fieldTranslations': {'nameTranslation': {'ar': 'ملعب الإتحاد'},\n",
       "    'shortNameTranslation': {}}},\n",
       "  'foundationDate': {},\n",
       "  'nameCode': 'MCI',\n",
       "  'disabled': False,\n",
       "  'national': False,\n",
       "  'type': 0,\n",
       "  'id': 17,\n",
       "  'country': {'alpha2': 'EN', 'name': 'England'},\n",
       "  'subTeams': [],\n",
       "  'fullName': 'Manchester City',\n",
       "  'teamColors': {'primary': '#66ccff',\n",
       "   'secondary': '#ffffff',\n",
       "   'text': '#ffffff'},\n",
       "  'foundationDateTimestamp': -2811888000,\n",
       "  'fieldTranslations': {'nameTranslation': {'ar': 'مانشستر سيتي'},\n",
       "   'shortNameTranslation': {}}},\n",
       " 'homeScore': {'current': 0,\n",
       "  'display': 0,\n",
       "  'period1': 0,\n",
       "  'period2': 0,\n",
       "  'normaltime': 0},\n",
       " 'awayScore': {'current': 3,\n",
       "  'display': 3,\n",
       "  'period1': 2,\n",
       "  'period2': 1,\n",
       "  'normaltime': 3},\n",
       " 'time': {'injuryTime1': 5,\n",
       "  'injuryTime2': 6,\n",
       "  'currentPeriodStartTimestamp': 1691787688},\n",
       " 'changes': {'changes': ['time.currentPeriodStart',\n",
       "   'status.code',\n",
       "   'status.description',\n",
       "   'status.type',\n",
       "   'homeScore.period2',\n",
       "   'homeScore.normaltime',\n",
       "   'awayScore.period2',\n",
       "   'awayScore.normaltime'],\n",
       "  'changeTimestamp': 1691787691},\n",
       " 'hasGlobalHighlights': False,\n",
       " 'hasXg': True,\n",
       " 'hasEventPlayerStatistics': True,\n",
       " 'hasEventPlayerHeatMap': True,\n",
       " 'detailId': 1,\n",
       " 'crowdsourcingDataDisplayEnabled': False,\n",
       " 'id': 11352303,\n",
       " 'homeRedCards': 1,\n",
       " 'defaultPeriodCount': 2,\n",
       " 'defaultPeriodLength': 45,\n",
       " 'defaultOvertimeLength': 15,\n",
       " 'crowdsourcingEnabled': False,\n",
       " 'currentPeriodStartTimestamp': 1691787688,\n",
       " 'startTimestamp': 1691780400,\n",
       " 'slug': 'manchester-city-burnley',\n",
       " 'finalResultOnly': False,\n",
       " 'fanRatingEvent': False,\n",
       " 'seasonStatisticsType': 'overall',\n",
       " 'showTotoPromo': True,\n",
       " 'isEditor': False}"
      ]
     },
     "execution_count": 39,
     "metadata": {},
     "output_type": "execute_result"
    }
   ],
   "source": [
    "data3['event']"
   ]
  },
  {
   "cell_type": "code",
   "execution_count": 38,
   "metadata": {},
   "outputs": [
    {
     "data": {
      "text/plain": [
       "11352303"
      ]
     },
     "execution_count": 38,
     "metadata": {},
     "output_type": "execute_result"
    }
   ],
   "source": [
    "data3['event']['id']"
   ]
  },
  {
   "cell_type": "code",
   "execution_count": null,
   "metadata": {},
   "outputs": [],
   "source": []
  },
  {
   "cell_type": "code",
   "execution_count": null,
   "metadata": {},
   "outputs": [],
   "source": []
  },
  {
   "cell_type": "code",
   "execution_count": null,
   "metadata": {},
   "outputs": [],
   "source": []
  },
  {
   "cell_type": "code",
   "execution_count": 226,
   "metadata": {},
   "outputs": [],
   "source": [
    "df = pd.DataFrame(schedule)"
   ]
  },
  {
   "cell_type": "code",
   "execution_count": 227,
   "metadata": {},
   "outputs": [],
   "source": [
    "df = df.assign(date=lambda x: pd.to_datetime(x['date'], format='mixed'))\n"
   ]
  },
  {
   "cell_type": "code",
   "execution_count": 230,
   "metadata": {},
   "outputs": [
    {
     "data": {
      "text/html": [
       "<div>\n",
       "<style scoped>\n",
       "    .dataframe tbody tr th:only-of-type {\n",
       "        vertical-align: middle;\n",
       "    }\n",
       "\n",
       "    .dataframe tbody tr th {\n",
       "        vertical-align: top;\n",
       "    }\n",
       "\n",
       "    .dataframe thead th {\n",
       "        text-align: right;\n",
       "    }\n",
       "</style>\n",
       "<table border=\"1\" class=\"dataframe\">\n",
       "  <thead>\n",
       "    <tr style=\"text-align: right;\">\n",
       "      <th></th>\n",
       "      <th>league</th>\n",
       "      <th>season</th>\n",
       "      <th>round</th>\n",
       "      <th>week</th>\n",
       "      <th>date</th>\n",
       "      <th>home_team</th>\n",
       "      <th>away_team</th>\n",
       "      <th>home_score</th>\n",
       "      <th>away_score</th>\n",
       "      <th>game_id</th>\n",
       "      <th>game</th>\n",
       "    </tr>\n",
       "  </thead>\n",
       "  <tbody>\n",
       "    <tr>\n",
       "      <th>0</th>\n",
       "      <td>ENG-Premier League</td>\n",
       "      <td>2122</td>\n",
       "      <td>None</td>\n",
       "      <td>1</td>\n",
       "      <td>2021-08-13 15:00:00</td>\n",
       "      <td>Brentford</td>\n",
       "      <td>Arsenal</td>\n",
       "      <td>2</td>\n",
       "      <td>0</td>\n",
       "      <td>9576151</td>\n",
       "      <td>2021-08-13 Brentford-Arsenal</td>\n",
       "    </tr>\n",
       "    <tr>\n",
       "      <th>1</th>\n",
       "      <td>ENG-Premier League</td>\n",
       "      <td>2122</td>\n",
       "      <td>None</td>\n",
       "      <td>1</td>\n",
       "      <td>2021-08-14 07:30:00</td>\n",
       "      <td>Manchester United</td>\n",
       "      <td>Leeds United</td>\n",
       "      <td>5</td>\n",
       "      <td>1</td>\n",
       "      <td>9576081</td>\n",
       "      <td>2021-08-14 Manchester United-Leeds United</td>\n",
       "    </tr>\n",
       "    <tr>\n",
       "      <th>2</th>\n",
       "      <td>ENG-Premier League</td>\n",
       "      <td>2122</td>\n",
       "      <td>None</td>\n",
       "      <td>1</td>\n",
       "      <td>2021-08-14 10:00:00</td>\n",
       "      <td>Burnley</td>\n",
       "      <td>Brighton &amp; Hove Albion</td>\n",
       "      <td>1</td>\n",
       "      <td>2</td>\n",
       "      <td>9576162</td>\n",
       "      <td>2021-08-14 Burnley-Brighton &amp; Hove Albion</td>\n",
       "    </tr>\n",
       "    <tr>\n",
       "      <th>3</th>\n",
       "      <td>ENG-Premier League</td>\n",
       "      <td>2122</td>\n",
       "      <td>None</td>\n",
       "      <td>1</td>\n",
       "      <td>2021-08-14 10:00:00</td>\n",
       "      <td>Chelsea</td>\n",
       "      <td>Crystal Palace</td>\n",
       "      <td>3</td>\n",
       "      <td>0</td>\n",
       "      <td>9576259</td>\n",
       "      <td>2021-08-14 Chelsea-Crystal Palace</td>\n",
       "    </tr>\n",
       "    <tr>\n",
       "      <th>4</th>\n",
       "      <td>ENG-Premier League</td>\n",
       "      <td>2122</td>\n",
       "      <td>None</td>\n",
       "      <td>1</td>\n",
       "      <td>2021-08-14 10:00:00</td>\n",
       "      <td>Everton</td>\n",
       "      <td>Southampton</td>\n",
       "      <td>3</td>\n",
       "      <td>1</td>\n",
       "      <td>9576149</td>\n",
       "      <td>2021-08-14 Everton-Southampton</td>\n",
       "    </tr>\n",
       "  </tbody>\n",
       "</table>\n",
       "</div>"
      ],
      "text/plain": [
       "               league season round  week                date  \\\n",
       "0  ENG-Premier League   2122  None     1 2021-08-13 15:00:00   \n",
       "1  ENG-Premier League   2122  None     1 2021-08-14 07:30:00   \n",
       "2  ENG-Premier League   2122  None     1 2021-08-14 10:00:00   \n",
       "3  ENG-Premier League   2122  None     1 2021-08-14 10:00:00   \n",
       "4  ENG-Premier League   2122  None     1 2021-08-14 10:00:00   \n",
       "\n",
       "           home_team               away_team  home_score  away_score  game_id  \\\n",
       "0          Brentford                 Arsenal           2           0  9576151   \n",
       "1  Manchester United            Leeds United           5           1  9576081   \n",
       "2            Burnley  Brighton & Hove Albion           1           2  9576162   \n",
       "3            Chelsea          Crystal Palace           3           0  9576259   \n",
       "4            Everton             Southampton           3           1  9576149   \n",
       "\n",
       "                                        game  \n",
       "0               2021-08-13 Brentford-Arsenal  \n",
       "1  2021-08-14 Manchester United-Leeds United  \n",
       "2  2021-08-14 Burnley-Brighton & Hove Albion  \n",
       "3          2021-08-14 Chelsea-Crystal Palace  \n",
       "4             2021-08-14 Everton-Southampton  "
      ]
     },
     "execution_count": 230,
     "metadata": {},
     "output_type": "execute_result"
    }
   ],
   "source": [
    "df.head()"
   ]
  },
  {
   "cell_type": "code",
   "execution_count": 229,
   "metadata": {},
   "outputs": [],
   "source": [
    "df['game'] = df.apply(sd._common.make_game_id, axis=1)"
   ]
  },
  {
   "cell_type": "code",
   "execution_count": 194,
   "metadata": {},
   "outputs": [],
   "source": [
    "df = pd.DataFrame(schedule)\n",
    "df['date'] = pd.to_datetime(df['date'])\n",
    "df['date'] = df['date'].apply(lambda x: x.strftime('%Y-%m-%d %H:%M:%S%z'))"
   ]
  },
  {
   "cell_type": "code",
   "execution_count": 198,
   "metadata": {},
   "outputs": [
    {
     "data": {
      "text/plain": [
       "league        object\n",
       "season        object\n",
       "round         object\n",
       "week           int64\n",
       "date          object\n",
       "home_team     object\n",
       "away_team     object\n",
       "home_score     int64\n",
       "away_score     int64\n",
       "game_id        int64\n",
       "dtype: object"
      ]
     },
     "execution_count": 198,
     "metadata": {},
     "output_type": "execute_result"
    }
   ],
   "source": [
    "df.dtypes"
   ]
  },
  {
   "cell_type": "code",
   "execution_count": 197,
   "metadata": {},
   "outputs": [
    {
     "ename": "AttributeError",
     "evalue": "'str' object has no attribute 'strftime'",
     "output_type": "error",
     "traceback": [
      "\u001b[1;31m---------------------------------------------------------------------------\u001b[0m",
      "\u001b[1;31mAttributeError\u001b[0m                            Traceback (most recent call last)",
      "Cell \u001b[1;32mIn[197], line 4\u001b[0m\n\u001b[0;32m      2\u001b[0m df[\u001b[38;5;124m'\u001b[39m\u001b[38;5;124mdate\u001b[39m\u001b[38;5;124m'\u001b[39m] \u001b[38;5;241m=\u001b[39m pd\u001b[38;5;241m.\u001b[39mto_datetime(df[\u001b[38;5;124m'\u001b[39m\u001b[38;5;124mdate\u001b[39m\u001b[38;5;124m'\u001b[39m])\n\u001b[0;32m      3\u001b[0m df[\u001b[38;5;124m'\u001b[39m\u001b[38;5;124mdate\u001b[39m\u001b[38;5;124m'\u001b[39m] \u001b[38;5;241m=\u001b[39m df[\u001b[38;5;124m'\u001b[39m\u001b[38;5;124mdate\u001b[39m\u001b[38;5;124m'\u001b[39m]\u001b[38;5;241m.\u001b[39mapply(\u001b[38;5;28;01mlambda\u001b[39;00m x: x\u001b[38;5;241m.\u001b[39mstrftime(\u001b[38;5;124m'\u001b[39m\u001b[38;5;124m%\u001b[39m\u001b[38;5;124mY-\u001b[39m\u001b[38;5;124m%\u001b[39m\u001b[38;5;124mm-\u001b[39m\u001b[38;5;132;01m%d\u001b[39;00m\u001b[38;5;124m \u001b[39m\u001b[38;5;124m%\u001b[39m\u001b[38;5;124mH:\u001b[39m\u001b[38;5;124m%\u001b[39m\u001b[38;5;124mM:\u001b[39m\u001b[38;5;124m%\u001b[39m\u001b[38;5;124mS\u001b[39m\u001b[38;5;124m%\u001b[39m\u001b[38;5;124mz\u001b[39m\u001b[38;5;124m'\u001b[39m))\n\u001b[1;32m----> 4\u001b[0m \u001b[43mdf\u001b[49m\u001b[38;5;241;43m.\u001b[39;49m\u001b[43mapply\u001b[49m\u001b[43m(\u001b[49m\u001b[43msd\u001b[49m\u001b[38;5;241;43m.\u001b[39;49m\u001b[43m_common\u001b[49m\u001b[38;5;241;43m.\u001b[39;49m\u001b[43mmake_game_id\u001b[49m\u001b[43m,\u001b[49m\u001b[43m \u001b[49m\u001b[43maxis\u001b[49m\u001b[38;5;241;43m=\u001b[39;49m\u001b[38;5;241;43m1\u001b[39;49m\u001b[43m)\u001b[49m\n",
      "File \u001b[1;32md:\\Users\\ksbha\\miniconda3\\envs\\srcftbl\\Lib\\site-packages\\pandas\\core\\frame.py:10034\u001b[0m, in \u001b[0;36mDataFrame.apply\u001b[1;34m(self, func, axis, raw, result_type, args, by_row, **kwargs)\u001b[0m\n\u001b[0;32m  10022\u001b[0m \u001b[38;5;28;01mfrom\u001b[39;00m \u001b[38;5;21;01mpandas\u001b[39;00m\u001b[38;5;21;01m.\u001b[39;00m\u001b[38;5;21;01mcore\u001b[39;00m\u001b[38;5;21;01m.\u001b[39;00m\u001b[38;5;21;01mapply\u001b[39;00m \u001b[38;5;28;01mimport\u001b[39;00m frame_apply\n\u001b[0;32m  10024\u001b[0m op \u001b[38;5;241m=\u001b[39m frame_apply(\n\u001b[0;32m  10025\u001b[0m     \u001b[38;5;28mself\u001b[39m,\n\u001b[0;32m  10026\u001b[0m     func\u001b[38;5;241m=\u001b[39mfunc,\n\u001b[1;32m   (...)\u001b[0m\n\u001b[0;32m  10032\u001b[0m     kwargs\u001b[38;5;241m=\u001b[39mkwargs,\n\u001b[0;32m  10033\u001b[0m )\n\u001b[1;32m> 10034\u001b[0m \u001b[38;5;28;01mreturn\u001b[39;00m \u001b[43mop\u001b[49m\u001b[38;5;241;43m.\u001b[39;49m\u001b[43mapply\u001b[49m\u001b[43m(\u001b[49m\u001b[43m)\u001b[49m\u001b[38;5;241m.\u001b[39m__finalize__(\u001b[38;5;28mself\u001b[39m, method\u001b[38;5;241m=\u001b[39m\u001b[38;5;124m\"\u001b[39m\u001b[38;5;124mapply\u001b[39m\u001b[38;5;124m\"\u001b[39m)\n",
      "File \u001b[1;32md:\\Users\\ksbha\\miniconda3\\envs\\srcftbl\\Lib\\site-packages\\pandas\\core\\apply.py:837\u001b[0m, in \u001b[0;36mFrameApply.apply\u001b[1;34m(self)\u001b[0m\n\u001b[0;32m    834\u001b[0m \u001b[38;5;28;01melif\u001b[39;00m \u001b[38;5;28mself\u001b[39m\u001b[38;5;241m.\u001b[39mraw:\n\u001b[0;32m    835\u001b[0m     \u001b[38;5;28;01mreturn\u001b[39;00m \u001b[38;5;28mself\u001b[39m\u001b[38;5;241m.\u001b[39mapply_raw()\n\u001b[1;32m--> 837\u001b[0m \u001b[38;5;28;01mreturn\u001b[39;00m \u001b[38;5;28;43mself\u001b[39;49m\u001b[38;5;241;43m.\u001b[39;49m\u001b[43mapply_standard\u001b[49m\u001b[43m(\u001b[49m\u001b[43m)\u001b[49m\n",
      "File \u001b[1;32md:\\Users\\ksbha\\miniconda3\\envs\\srcftbl\\Lib\\site-packages\\pandas\\core\\apply.py:965\u001b[0m, in \u001b[0;36mFrameApply.apply_standard\u001b[1;34m(self)\u001b[0m\n\u001b[0;32m    964\u001b[0m \u001b[38;5;28;01mdef\u001b[39;00m \u001b[38;5;21mapply_standard\u001b[39m(\u001b[38;5;28mself\u001b[39m):\n\u001b[1;32m--> 965\u001b[0m     results, res_index \u001b[38;5;241m=\u001b[39m \u001b[38;5;28;43mself\u001b[39;49m\u001b[38;5;241;43m.\u001b[39;49m\u001b[43mapply_series_generator\u001b[49m\u001b[43m(\u001b[49m\u001b[43m)\u001b[49m\n\u001b[0;32m    967\u001b[0m     \u001b[38;5;66;03m# wrap results\u001b[39;00m\n\u001b[0;32m    968\u001b[0m     \u001b[38;5;28;01mreturn\u001b[39;00m \u001b[38;5;28mself\u001b[39m\u001b[38;5;241m.\u001b[39mwrap_results(results, res_index)\n",
      "File \u001b[1;32md:\\Users\\ksbha\\miniconda3\\envs\\srcftbl\\Lib\\site-packages\\pandas\\core\\apply.py:981\u001b[0m, in \u001b[0;36mFrameApply.apply_series_generator\u001b[1;34m(self)\u001b[0m\n\u001b[0;32m    978\u001b[0m \u001b[38;5;28;01mwith\u001b[39;00m option_context(\u001b[38;5;124m\"\u001b[39m\u001b[38;5;124mmode.chained_assignment\u001b[39m\u001b[38;5;124m\"\u001b[39m, \u001b[38;5;28;01mNone\u001b[39;00m):\n\u001b[0;32m    979\u001b[0m     \u001b[38;5;28;01mfor\u001b[39;00m i, v \u001b[38;5;129;01min\u001b[39;00m \u001b[38;5;28menumerate\u001b[39m(series_gen):\n\u001b[0;32m    980\u001b[0m         \u001b[38;5;66;03m# ignore SettingWithCopy here in case the user mutates\u001b[39;00m\n\u001b[1;32m--> 981\u001b[0m         results[i] \u001b[38;5;241m=\u001b[39m \u001b[38;5;28;43mself\u001b[39;49m\u001b[38;5;241;43m.\u001b[39;49m\u001b[43mfunc\u001b[49m\u001b[43m(\u001b[49m\u001b[43mv\u001b[49m\u001b[43m,\u001b[49m\u001b[43m \u001b[49m\u001b[38;5;241;43m*\u001b[39;49m\u001b[38;5;28;43mself\u001b[39;49m\u001b[38;5;241;43m.\u001b[39;49m\u001b[43margs\u001b[49m\u001b[43m,\u001b[49m\u001b[43m \u001b[49m\u001b[38;5;241;43m*\u001b[39;49m\u001b[38;5;241;43m*\u001b[39;49m\u001b[38;5;28;43mself\u001b[39;49m\u001b[38;5;241;43m.\u001b[39;49m\u001b[43mkwargs\u001b[49m\u001b[43m)\u001b[49m\n\u001b[0;32m    982\u001b[0m         \u001b[38;5;28;01mif\u001b[39;00m \u001b[38;5;28misinstance\u001b[39m(results[i], ABCSeries):\n\u001b[0;32m    983\u001b[0m             \u001b[38;5;66;03m# If we have a view on v, we need to make a copy because\u001b[39;00m\n\u001b[0;32m    984\u001b[0m             \u001b[38;5;66;03m#  series_generator will swap out the underlying data\u001b[39;00m\n\u001b[0;32m    985\u001b[0m             results[i] \u001b[38;5;241m=\u001b[39m results[i]\u001b[38;5;241m.\u001b[39mcopy(deep\u001b[38;5;241m=\u001b[39m\u001b[38;5;28;01mFalse\u001b[39;00m)\n",
      "File \u001b[1;32md:\\Users\\ksbha\\miniconda3\\envs\\srcftbl\\Lib\\site-packages\\soccerdata\\_common.py:530\u001b[0m, in \u001b[0;36mmake_game_id\u001b[1;34m(row)\u001b[0m\n\u001b[0;32m    524\u001b[0m     game_id \u001b[38;5;241m=\u001b[39m \u001b[38;5;124m\"\u001b[39m\u001b[38;5;132;01m{}\u001b[39;00m\u001b[38;5;124m-\u001b[39m\u001b[38;5;132;01m{}\u001b[39;00m\u001b[38;5;124m\"\u001b[39m\u001b[38;5;241m.\u001b[39mformat(\n\u001b[0;32m    525\u001b[0m         row[\u001b[38;5;124m\"\u001b[39m\u001b[38;5;124mhome_team\u001b[39m\u001b[38;5;124m\"\u001b[39m],\n\u001b[0;32m    526\u001b[0m         row[\u001b[38;5;124m\"\u001b[39m\u001b[38;5;124maway_team\u001b[39m\u001b[38;5;124m\"\u001b[39m],\n\u001b[0;32m    527\u001b[0m     )\n\u001b[0;32m    528\u001b[0m \u001b[38;5;28;01melse\u001b[39;00m:\n\u001b[0;32m    529\u001b[0m     game_id \u001b[38;5;241m=\u001b[39m \u001b[38;5;124m\"\u001b[39m\u001b[38;5;132;01m{}\u001b[39;00m\u001b[38;5;124m \u001b[39m\u001b[38;5;132;01m{}\u001b[39;00m\u001b[38;5;124m-\u001b[39m\u001b[38;5;132;01m{}\u001b[39;00m\u001b[38;5;124m\"\u001b[39m\u001b[38;5;241m.\u001b[39mformat(\n\u001b[1;32m--> 530\u001b[0m         \u001b[43mrow\u001b[49m\u001b[43m[\u001b[49m\u001b[38;5;124;43m\"\u001b[39;49m\u001b[38;5;124;43mdate\u001b[39;49m\u001b[38;5;124;43m\"\u001b[39;49m\u001b[43m]\u001b[49m\u001b[38;5;241;43m.\u001b[39;49m\u001b[43mstrftime\u001b[49m(\u001b[38;5;124m\"\u001b[39m\u001b[38;5;124m%\u001b[39m\u001b[38;5;124mY-\u001b[39m\u001b[38;5;124m%\u001b[39m\u001b[38;5;124mm-\u001b[39m\u001b[38;5;132;01m%d\u001b[39;00m\u001b[38;5;124m\"\u001b[39m),\n\u001b[0;32m    531\u001b[0m         row[\u001b[38;5;124m\"\u001b[39m\u001b[38;5;124mhome_team\u001b[39m\u001b[38;5;124m\"\u001b[39m],\n\u001b[0;32m    532\u001b[0m         row[\u001b[38;5;124m\"\u001b[39m\u001b[38;5;124maway_team\u001b[39m\u001b[38;5;124m\"\u001b[39m],\n\u001b[0;32m    533\u001b[0m     )\n\u001b[0;32m    534\u001b[0m \u001b[38;5;28;01mreturn\u001b[39;00m game_id\n",
      "\u001b[1;31mAttributeError\u001b[0m: 'str' object has no attribute 'strftime'"
     ]
    }
   ],
   "source": [
    "# Ensure the 'date' column is of datetime type before applying 'strftime'\n",
    "df['date'] = pd.to_datetime(df['date'])\n",
    "df['date'] = df['date'].apply(lambda x: x.strftime('%Y-%m-%d %H:%M:%S%z'))\n",
    "df.apply(sd._common.make_game_id, axis=1)"
   ]
  },
  {
   "cell_type": "code",
   "execution_count": null,
   "metadata": {},
   "outputs": [],
   "source": []
  },
  {
   "cell_type": "code",
   "execution_count": 151,
   "metadata": {},
   "outputs": [
    {
     "data": {
      "text/plain": [
       "1628881200"
      ]
     },
     "execution_count": 151,
     "metadata": {},
     "output_type": "execute_result"
    }
   ],
   "source": []
  },
  {
   "cell_type": "code",
   "execution_count": 148,
   "metadata": {},
   "outputs": [
    {
     "data": {
      "text/html": [
       "<div>\n",
       "<style scoped>\n",
       "    .dataframe tbody tr th:only-of-type {\n",
       "        vertical-align: middle;\n",
       "    }\n",
       "\n",
       "    .dataframe tbody tr th {\n",
       "        vertical-align: top;\n",
       "    }\n",
       "\n",
       "    .dataframe thead th {\n",
       "        text-align: right;\n",
       "    }\n",
       "</style>\n",
       "<table border=\"1\" class=\"dataframe\">\n",
       "  <thead>\n",
       "    <tr style=\"text-align: right;\">\n",
       "      <th></th>\n",
       "      <th></th>\n",
       "      <th>league_id</th>\n",
       "      <th>season_id</th>\n",
       "    </tr>\n",
       "    <tr>\n",
       "      <th>league</th>\n",
       "      <th>season</th>\n",
       "      <th></th>\n",
       "      <th></th>\n",
       "    </tr>\n",
       "  </thead>\n",
       "  <tbody>\n",
       "    <tr>\n",
       "      <th>ENG-Premier League</th>\n",
       "      <th>2122</th>\n",
       "      <td>17</td>\n",
       "      <td>37036</td>\n",
       "    </tr>\n",
       "  </tbody>\n",
       "</table>\n",
       "</div>"
      ],
      "text/plain": [
       "                           league_id  season_id\n",
       "league             season                      \n",
       "ENG-Premier League 2122           17      37036"
      ]
     },
     "execution_count": 148,
     "metadata": {},
     "output_type": "execute_result"
    }
   ],
   "source": [
    "data1"
   ]
  },
  {
   "cell_type": "code",
   "execution_count": 138,
   "metadata": {},
   "outputs": [
    {
     "data": {
      "text/plain": [
       "dict_keys(['tournament', 'season', 'roundInfo', 'customId', 'status', 'winnerCode', 'homeTeam', 'awayTeam', 'homeScore', 'awayScore', 'coverage', 'time', 'changes', 'hasGlobalHighlights', 'hasXg', 'hasEventPlayerStatistics', 'hasEventPlayerHeatMap', 'detailId', 'crowdsourcingDataDisplayEnabled', 'id', 'crowdsourcingEnabled', 'startTimestamp', 'slug', 'finalResultOnly', 'isEditor'])"
      ]
     },
     "execution_count": 138,
     "metadata": {},
     "output_type": "execute_result"
    }
   ],
   "source": [
    "data3['events'][0].keys()"
   ]
  },
  {
   "cell_type": "code",
   "execution_count": 137,
   "metadata": {},
   "outputs": [
    {
     "data": {
      "text/plain": [
       "{'tournament': {'name': 'Premier League',\n",
       "  'slug': 'premier-league',\n",
       "  'category': {'name': 'England',\n",
       "   'slug': 'england',\n",
       "   'sport': {'name': 'Football', 'slug': 'football', 'id': 1},\n",
       "   'id': 1,\n",
       "   'flag': 'england',\n",
       "   'alpha2': 'EN'},\n",
       "  'uniqueTournament': {'name': 'Premier League',\n",
       "   'slug': 'premier-league',\n",
       "   'primaryColorHex': '#3c1c5a',\n",
       "   'secondaryColorHex': '#f80158',\n",
       "   'category': {'name': 'England',\n",
       "    'slug': 'england',\n",
       "    'sport': {'name': 'Football', 'slug': 'football', 'id': 1},\n",
       "    'id': 1,\n",
       "    'flag': 'england',\n",
       "    'alpha2': 'EN'},\n",
       "   'userCount': 1562398,\n",
       "   'crowdsourcingEnabled': False,\n",
       "   'hasPerformanceGraphFeature': True,\n",
       "   'id': 17,\n",
       "   'hasEventPlayerStatistics': True,\n",
       "   'displayInverseHomeAwayTeams': False},\n",
       "  'priority': 600,\n",
       "  'id': 1},\n",
       " 'season': {'name': 'Premier League 21/22',\n",
       "  'year': '21/22',\n",
       "  'editor': False,\n",
       "  'id': 37036},\n",
       " 'roundInfo': {'round': 26},\n",
       " 'customId': 'MO',\n",
       " 'status': {'code': 100, 'description': 'Ended', 'type': 'finished'},\n",
       " 'winnerCode': 3,\n",
       " 'homeTeam': {'name': 'West Ham United',\n",
       "  'slug': 'west-ham-united',\n",
       "  'shortName': 'West Ham',\n",
       "  'gender': 'M',\n",
       "  'sport': {'name': 'Football', 'slug': 'football', 'id': 1},\n",
       "  'userCount': 318072,\n",
       "  'nameCode': 'WHU',\n",
       "  'disabled': False,\n",
       "  'national': False,\n",
       "  'type': 0,\n",
       "  'id': 37,\n",
       "  'subTeams': [],\n",
       "  'teamColors': {'primary': '#66192c',\n",
       "   'secondary': '#59b3e4',\n",
       "   'text': '#59b3e4'},\n",
       "  'fieldTranslations': {'nameTranslation': {'ar': 'وست هام يونايتد'},\n",
       "   'shortNameTranslation': {}}},\n",
       " 'awayTeam': {'name': 'Newcastle United',\n",
       "  'slug': 'newcastle-united',\n",
       "  'shortName': 'Newcastle',\n",
       "  'gender': 'M',\n",
       "  'sport': {'name': 'Football', 'slug': 'football', 'id': 1},\n",
       "  'userCount': 462215,\n",
       "  'nameCode': 'NEW',\n",
       "  'disabled': False,\n",
       "  'national': False,\n",
       "  'type': 0,\n",
       "  'id': 39,\n",
       "  'subTeams': [],\n",
       "  'teamColors': {'primary': '#000000',\n",
       "   'secondary': '#ffffff',\n",
       "   'text': '#ffffff'},\n",
       "  'fieldTranslations': {'nameTranslation': {'ar': 'نيوكاسل يونايتد'},\n",
       "   'shortNameTranslation': {}}},\n",
       " 'homeScore': {'current': 1, 'display': 1, 'period1': 1, 'normaltime': 1},\n",
       " 'awayScore': {'current': 1, 'display': 1, 'period1': 1, 'normaltime': 1},\n",
       " 'coverage': 1,\n",
       " 'time': {'injuryTime1': 2,\n",
       "  'injuryTime2': 5,\n",
       "  'currentPeriodStartTimestamp': 1645280674},\n",
       " 'changes': {'changes': ['status.code',\n",
       "   'status.description',\n",
       "   'status.type',\n",
       "   'homeScore.normaltime',\n",
       "   'awayScore.normaltime',\n",
       "   'time.currentPeriodStart'],\n",
       "  'changeTimestamp': 1645280684},\n",
       " 'hasGlobalHighlights': False,\n",
       " 'hasXg': True,\n",
       " 'hasEventPlayerStatistics': True,\n",
       " 'hasEventPlayerHeatMap': True,\n",
       " 'detailId': 1,\n",
       " 'crowdsourcingDataDisplayEnabled': False,\n",
       " 'id': 9576222,\n",
       " 'crowdsourcingEnabled': False,\n",
       " 'startTimestamp': 1645273800,\n",
       " 'slug': 'newcastle-united-west-ham-united',\n",
       " 'finalResultOnly': False,\n",
       " 'isEditor': False}"
      ]
     },
     "execution_count": 137,
     "metadata": {},
     "output_type": "execute_result"
    }
   ],
   "source": [
    "data3['events'][0]"
   ]
  },
  {
   "cell_type": "code",
   "execution_count": 44,
   "metadata": {},
   "outputs": [],
   "source": [
    "url2 = \"https://api.sofascore.com/api/v1/unique-tournament/17/season/52186/events/round/27\""
   ]
  },
  {
   "cell_type": "code",
   "execution_count": 45,
   "metadata": {},
   "outputs": [],
   "source": [
    "data2 = requests.get(url2, headers=requests_headers).json()"
   ]
  },
  {
   "cell_type": "code",
   "execution_count": 71,
   "metadata": {},
   "outputs": [
    {
     "data": {
      "text/plain": [
       "dict_keys(['tournament', 'season', 'roundInfo', 'customId', 'status', 'winnerCode', 'homeTeam', 'awayTeam', 'homeScore', 'awayScore', 'time', 'changes', 'hasGlobalHighlights', 'hasXg', 'hasEventPlayerStatistics', 'hasEventPlayerHeatMap', 'detailId', 'crowdsourcingDataDisplayEnabled', 'id', 'crowdsourcingEnabled', 'startTimestamp', 'slug', 'finalResultOnly', 'isEditor'])"
      ]
     },
     "execution_count": 71,
     "metadata": {},
     "output_type": "execute_result"
    }
   ],
   "source": [
    "data2['events'][2].keys()"
   ]
  },
  {
   "cell_type": "code",
   "execution_count": 104,
   "metadata": {},
   "outputs": [
    {
     "data": {
      "text/plain": [
       "11352540"
      ]
     },
     "execution_count": 104,
     "metadata": {},
     "output_type": "execute_result"
    }
   ],
   "source": [
    "data2['events'][2]['id']"
   ]
  },
  {
   "cell_type": "code",
   "execution_count": 80,
   "metadata": {},
   "outputs": [
    {
     "data": {
      "text/plain": [
       "{'round': 27}"
      ]
     },
     "execution_count": 80,
     "metadata": {},
     "output_type": "execute_result"
    }
   ],
   "source": [
    "round = \"None\"\n",
    "week = data2['events'][2]['roundInfo']['round']\n",
    "date = data2['events'][2]['startTimestamp']\n",
    "home_team = data2['events'][2]['homeTeam']\n",
    "away_team = data2['events'][2]['awayTeam']\n",
    "home_score = data2['events'][2]['homeScore']['current']\n",
    "away_score = data2['events'][2]['awayScore']['current']\n",
    "game_id = data2['events'][2]['id']"
   ]
  },
  {
   "cell_type": "code",
   "execution_count": 94,
   "metadata": {},
   "outputs": [
    {
     "data": {
      "text/plain": [
       "'2024-03-02 10:00:00'"
      ]
     },
     "execution_count": 94,
     "metadata": {},
     "output_type": "execute_result"
    }
   ],
   "source": [
    "datetime.datetime.fromtimestamp(1709391600).strftime(\"%Y-%m-%d %H:%M:%S%z\")"
   ]
  },
  {
   "cell_type": "code",
   "execution_count": null,
   "metadata": {},
   "outputs": [],
   "source": []
  }
 ],
 "metadata": {
  "kernelspec": {
   "display_name": "footy",
   "language": "python",
   "name": "python3"
  },
  "language_info": {
   "codemirror_mode": {
    "name": "ipython",
    "version": 3
   },
   "file_extension": ".py",
   "mimetype": "text/x-python",
   "name": "python",
   "nbconvert_exporter": "python",
   "pygments_lexer": "ipython3",
   "version": "3.12.1"
  }
 },
 "nbformat": 4,
 "nbformat_minor": 2
}
